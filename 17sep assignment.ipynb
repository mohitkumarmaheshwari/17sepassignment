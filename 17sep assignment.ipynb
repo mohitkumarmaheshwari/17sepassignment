{
 "cells": [
  {
   "cell_type": "markdown",
   "id": "ce6bc5b3-1b99-4099-8efc-e6456ec3b9d3",
   "metadata": {},
   "source": [
    "# for loop"
   ]
  },
  {
   "cell_type": "markdown",
   "id": "b80bbb4a-900b-4445-bce9-afb78bff3cfb",
   "metadata": {},
   "source": [
    "q.1"
   ]
  },
  {
   "cell_type": "markdown",
   "id": "00e05ec1-5e56-4da4-b12e-7af8c3217ac6",
   "metadata": {},
   "source": [
    "Certainly! Here's a Python program that prints numbers from 1 to 10 using a for loop:"
   ]
  },
  {
   "cell_type": "code",
   "execution_count": 2,
   "id": "6def26fc-f469-4a9f-9c11-b6cc5b5fa044",
   "metadata": {},
   "outputs": [
    {
     "name": "stdout",
     "output_type": "stream",
     "text": [
      "1\n",
      "2\n",
      "3\n",
      "4\n",
      "5\n",
      "6\n",
      "7\n",
      "8\n",
      "9\n",
      "10\n"
     ]
    }
   ],
   "source": [
    "# Using a for loop to print numbers from 1 to 10\n",
    "for num in range(1, 11):\n",
    "    print(num)\n"
   ]
  },
  {
   "cell_type": "markdown",
   "id": "b5c699b9-d07b-492c-83b6-e6a78bc3a965",
   "metadata": {},
   "source": [
    "q.2"
   ]
  },
  {
   "cell_type": "markdown",
   "id": "f04f248a-c158-4416-b6de-8f94c4ea19f0",
   "metadata": {},
   "source": [
    "In Python, both for loops and while loops are used for repetitive tasks, but they have different structures and are suited for different situations. Here's an explanation of the key differences between for loops and while loops:"
   ]
  },
  {
   "cell_type": "markdown",
   "id": "8f9596b5-6698-4150-8392-800a252e62ef",
   "metadata": {},
   "source": [
    "Structure and Syntax:\n",
    "\n",
    "For Loop: A for loop is used when you have a sequence of elements (e.g., a list, tuple, string, or a range of numbers) and you want to iterate through each element in the sequence. It has a fixed number of iterations and is structured like this\n"
   ]
  },
  {
   "cell_type": "markdown",
   "id": "11eca6e4-8b39-446a-9481-e7f616a76824",
   "metadata": {},
   "source": [
    "for element in sequence:\n",
    "    # Code to be executed\n"
   ]
  },
  {
   "cell_type": "markdown",
   "id": "c0fd9723-1990-47c7-ad37-73c1f47da861",
   "metadata": {},
   "source": [
    "While Loop: A while loop is used when you want to repeat a block of code as long as a certain condition is True. It doesn't require a sequence, and the number of iterations can vary. It is structured like this:\n",
    "while condition:\n",
    "    # Code to be executed\n"
   ]
  },
  {
   "cell_type": "markdown",
   "id": "55a8df44-ea3a-4bee-b2f1-69b1fe0439f4",
   "metadata": {},
   "source": [
    "Use Cases:\n",
    "\n",
    "For Loop: For loops are typically used when you know in advance how many times you want to repeat a specific task, such as iterating through the elements of a collection (e.g., a list) or performing a set number of iterations.\n",
    "\n",
    "While Loop: While loops are used when you want to repeat a block of code until a particular condition becomes False. This can be useful for situations where the number of iterations is not known beforehand, or when you want to create a loop with more complex termination conditions.\n",
    "\n",
    "Initialization and Updates:\n",
    "\n",
    "For Loop: In a for loop, the iteration variable (e.g., element in the example above) is automatically updated to the next value in the sequence in each iteration. You don't need to manage the loop variable explicitly.\n",
    "\n",
    "While Loop: In a while loop, you need to initialize and update variables that affect the loop condition explicitly within the loop block. Failure to update these variables correctly can lead to infinite loops."
   ]
  },
  {
   "cell_type": "code",
   "execution_count": 7,
   "id": "43bb8930-467a-4d04-92aa-b5b001201ef2",
   "metadata": {},
   "outputs": [
    {
     "name": "stdout",
     "output_type": "stream",
     "text": [
      "1\n",
      "2\n",
      "3\n",
      "4\n",
      "5\n"
     ]
    }
   ],
   "source": [
    "#example\n",
    "#for loop example:\n",
    "for i in range(1, 6):  # Prints numbers from 1 to 5\n",
    "    print(i)\n"
   ]
  },
  {
   "cell_type": "code",
   "execution_count": 8,
   "id": "b12a7b14-acd3-4f6d-bd05-77563371edb8",
   "metadata": {},
   "outputs": [
    {
     "name": "stdout",
     "output_type": "stream",
     "text": [
      "1\n",
      "2\n",
      "3\n",
      "4\n",
      "5\n"
     ]
    }
   ],
   "source": [
    "#example\n",
    "#for while loop example:\n",
    "count = 1\n",
    "while count <= 5:  # Prints numbers from 1 to 5\n",
    "    print(count)\n",
    "    count += 1\n"
   ]
  },
  {
   "cell_type": "code",
   "execution_count": 9,
   "id": "d03bf679-98ab-4227-8989-4c91309d51eb",
   "metadata": {},
   "outputs": [],
   "source": [
    "#In summary, for loops are suitable for situations where you have a known sequence to iterate over a fixed number of times, while while loops are more flexible and used when you need to iterate based on a condition that can change during execution. It's important to use the appropriate loop type for the specific requirements of your program to avoid unintended behavior or bugs."
   ]
  },
  {
   "cell_type": "markdown",
   "id": "60f4b1de-2da7-4ab1-97bb-286f8bfe1d05",
   "metadata": {},
   "source": [
    "q.3"
   ]
  },
  {
   "cell_type": "code",
   "execution_count": 10,
   "id": "261096e2-d95a-44a8-babd-a7e2af06102d",
   "metadata": {},
   "outputs": [],
   "source": [
    "#You can calculate the sum of all numbers from 1 to 100 using a for loop in Python like this:"
   ]
  },
  {
   "cell_type": "code",
   "execution_count": 11,
   "id": "5552f2c7-a3ba-4858-bffc-77a484027633",
   "metadata": {},
   "outputs": [
    {
     "name": "stdout",
     "output_type": "stream",
     "text": [
      "The sum of numbers from 1 to 100 is: 5050\n"
     ]
    }
   ],
   "source": [
    "# Initialize a variable to store the sum\n",
    "total = 0\n",
    "\n",
    "# Using a for loop to iterate from 1 to 100\n",
    "for num in range(1, 101):\n",
    "    total += num\n",
    "\n",
    "# Print the sum\n",
    "print(\"The sum of numbers from 1 to 100 is:\", total)\n"
   ]
  },
  {
   "cell_type": "markdown",
   "id": "72e74f4c-e29e-4386-9cb4-041d6dff1a7e",
   "metadata": {},
   "source": [
    "q.4"
   ]
  },
  {
   "cell_type": "code",
   "execution_count": 12,
   "id": "95527da5-ada7-4c31-8659-1b81dd876643",
   "metadata": {},
   "outputs": [],
   "source": [
    "#You can iterate through a list using a for loop in Python by following this syntax:"
   ]
  },
  {
   "cell_type": "code",
   "execution_count": 13,
   "id": "371b5fc0-7728-4b53-a09c-5d27e5d8fbfc",
   "metadata": {},
   "outputs": [
    {
     "name": "stdout",
     "output_type": "stream",
     "text": [
      "1\n",
      "2\n",
      "3\n",
      "4\n",
      "5\n"
     ]
    }
   ],
   "source": [
    "my_list = [1, 2, 3, 4, 5]\n",
    "\n",
    "for item in my_list:\n",
    "    # Code to be executed for each item in the list\n",
    "    print(item)\n"
   ]
  },
  {
   "cell_type": "markdown",
   "id": "3673af8a-0ad8-4911-9517-65d6243583c5",
   "metadata": {},
   "source": [
    "q.5"
   ]
  },
  {
   "cell_type": "code",
   "execution_count": 14,
   "id": "2c34cf0e-292c-4269-9bc5-abe47fcc24a4",
   "metadata": {},
   "outputs": [],
   "source": [
    "#You can find the product of all elements in a list using a for loop in Python like this:"
   ]
  },
  {
   "cell_type": "code",
   "execution_count": 15,
   "id": "b94da162-8d35-4bf3-b2c9-96c137b82ab5",
   "metadata": {},
   "outputs": [
    {
     "name": "stdout",
     "output_type": "stream",
     "text": [
      "The product of all elements in the list is: 120\n"
     ]
    }
   ],
   "source": [
    "# Define a list of numbers\n",
    "my_list = [2, 3, 4, 5]\n",
    "\n",
    "# Initialize a variable to store the product (start with 1 for multiplication)\n",
    "product = 1\n",
    "\n",
    "# Using a for loop to iterate through the list\n",
    "for num in my_list:\n",
    "    product *= num\n",
    "\n",
    "# Print the product\n",
    "print(\"The product of all elements in the list is:\", product)\n"
   ]
  },
  {
   "cell_type": "markdown",
   "id": "5b25d0c9-6c61-448d-a3ad-13a992744f85",
   "metadata": {},
   "source": [
    "q.6"
   ]
  },
  {
   "cell_type": "code",
   "execution_count": 16,
   "id": "eec761c8-d196-4276-bedb-bbcdac9bc504",
   "metadata": {},
   "outputs": [],
   "source": [
    "#You can create a Python program to print all even numbers from 1 to 20 using a for loop like this:"
   ]
  },
  {
   "cell_type": "code",
   "execution_count": 17,
   "id": "b64196f6-8562-4e31-8b5d-32108202fb5e",
   "metadata": {},
   "outputs": [
    {
     "name": "stdout",
     "output_type": "stream",
     "text": [
      "2\n",
      "4\n",
      "6\n",
      "8\n",
      "10\n",
      "12\n",
      "14\n",
      "16\n",
      "18\n",
      "20\n"
     ]
    }
   ],
   "source": [
    "# Using a for loop to print even numbers from 1 to 20\n",
    "for num in range(2, 21, 2):\n",
    "    print(num)\n"
   ]
  },
  {
   "cell_type": "markdown",
   "id": "26945249-8c65-4c54-af07-3af25bda5f93",
   "metadata": {},
   "source": [
    "q.7"
   ]
  },
  {
   "cell_type": "code",
   "execution_count": 18,
   "id": "8fab4046-8de2-49a2-b25e-1796a770e61f",
   "metadata": {},
   "outputs": [],
   "source": [
    "#You can calculate the factorial of a number using a for loop in Python like this:"
   ]
  },
  {
   "cell_type": "code",
   "execution_count": 19,
   "id": "6aad5c4f-764b-427c-846f-b438babff6c1",
   "metadata": {},
   "outputs": [
    {
     "name": "stdin",
     "output_type": "stream",
     "text": [
      "Enter a number:  2\n"
     ]
    },
    {
     "name": "stdout",
     "output_type": "stream",
     "text": [
      "The factorial of 2 is 2\n"
     ]
    }
   ],
   "source": [
    "# Input: Get the number from the user\n",
    "num = int(input(\"Enter a number: \"))\n",
    "\n",
    "# Initialize a variable to store the factorial (start with 1 for multiplication)\n",
    "factorial = 1\n",
    "\n",
    "# Check if the number is negative, zero, or positive\n",
    "if num < 0:\n",
    "    print(\"Factorial is not defined for negative numbers.\")\n",
    "elif num == 0:\n",
    "    print(\"The factorial of 0 is 1.\")\n",
    "else:\n",
    "    # Using a for loop to calculate the factorial\n",
    "    for i in range(1, num + 1):\n",
    "        factorial *= i\n",
    "\n",
    "    # Print the factorial\n",
    "    print(f\"The factorial of {num} is {factorial}\")\n"
   ]
  },
  {
   "cell_type": "markdown",
   "id": "20a801a3-7524-4f82-aed7-c441bcbdd1fe",
   "metadata": {},
   "source": [
    "q.8"
   ]
  },
  {
   "cell_type": "code",
   "execution_count": 20,
   "id": "8b8f88f8-ddd0-4fb0-9e51-ca7bb23049df",
   "metadata": {},
   "outputs": [],
   "source": [
    "#You can iterate through the characters of a string using a for loop in Python. Here's how you can do it:"
   ]
  },
  {
   "cell_type": "code",
   "execution_count": 21,
   "id": "c7dcc400-b349-4918-9e0c-5f6d1df77504",
   "metadata": {},
   "outputs": [
    {
     "name": "stdout",
     "output_type": "stream",
     "text": [
      "H\n",
      "e\n",
      "l\n",
      "l\n",
      "o\n",
      ",\n",
      " \n",
      "W\n",
      "o\n",
      "r\n",
      "l\n",
      "d\n",
      "!\n"
     ]
    }
   ],
   "source": [
    "# Define a string\n",
    "my_string = \"Hello, World!\"\n",
    "\n",
    "# Using a for loop to iterate through the characters of the string\n",
    "for char in my_string:\n",
    "    # Code to be executed for each character\n",
    "    print(char)\n"
   ]
  },
  {
   "cell_type": "markdown",
   "id": "93582d51-4ad4-4773-8e6a-ae877cff812c",
   "metadata": {},
   "source": [
    "q.9"
   ]
  },
  {
   "cell_type": "code",
   "execution_count": 22,
   "id": "5f4e87de-ce5c-4bde-8d9e-9a92a0efa533",
   "metadata": {},
   "outputs": [],
   "source": [
    "#You can find the largest number in a list using a for loop in Python like this:"
   ]
  },
  {
   "cell_type": "code",
   "execution_count": 23,
   "id": "60f4b17c-89cb-419a-80d0-742e292c7dd2",
   "metadata": {},
   "outputs": [
    {
     "name": "stdout",
     "output_type": "stream",
     "text": [
      "The largest number in the list is: 89\n"
     ]
    }
   ],
   "source": [
    "# Define a list of numbers\n",
    "my_list = [34, 12, 67, 89, 45, 23]\n",
    "\n",
    "# Initialize a variable to store the largest number (start with the first element)\n",
    "largest = my_list[0]\n",
    "\n",
    "# Using a for loop to iterate through the list\n",
    "for num in my_list:\n",
    "    if num > largest:\n",
    "        largest = num\n",
    "\n",
    "# Print the largest number\n",
    "print(\"The largest number in the list is:\", largest)\n"
   ]
  },
  {
   "cell_type": "markdown",
   "id": "87285fa3-9d4a-465a-a939-8750a2f265b1",
   "metadata": {},
   "source": [
    "q.10"
   ]
  },
  {
   "cell_type": "code",
   "execution_count": 24,
   "id": "2c3d7f25-020b-496a-9679-abd57589b8a2",
   "metadata": {},
   "outputs": [],
   "source": [
    "#You can create a Python program to print the Fibonacci sequence up to a specified limit using a for loop. Here's an example:"
   ]
  },
  {
   "cell_type": "code",
   "execution_count": 25,
   "id": "bcfabc0c-e5bb-4898-ba70-cc037fb63479",
   "metadata": {},
   "outputs": [
    {
     "name": "stdin",
     "output_type": "stream",
     "text": [
      "Enter the limit for the Fibonacci sequence:  6\n"
     ]
    },
    {
     "name": "stdout",
     "output_type": "stream",
     "text": [
      "The Fibonacci sequence up to the limit is: [0, 1, 1, 2, 3, 5]\n"
     ]
    }
   ],
   "source": [
    "# Get the limit from the user\n",
    "limit = int(input(\"Enter the limit for the Fibonacci sequence: \"))\n",
    "\n",
    "# Initialize the first two Fibonacci numbers\n",
    "fibonacci_sequence = [0, 1]\n",
    "\n",
    "# Using a for loop to generate the Fibonacci sequence up to the limit\n",
    "for i in range(2, limit):\n",
    "    next_number = fibonacci_sequence[i - 1] + fibonacci_sequence[i - 2]\n",
    "    \n",
    "    # Check if the next number exceeds the limit\n",
    "    if next_number > limit:\n",
    "        break\n",
    "    \n",
    "    fibonacci_sequence.append(next_number)\n",
    "\n",
    "# Print the Fibonacci sequence\n",
    "print(\"The Fibonacci sequence up to the limit is:\", fibonacci_sequence)\n"
   ]
  },
  {
   "cell_type": "markdown",
   "id": "3d0dd0d8-2d1a-4946-b148-c0bbef34230b",
   "metadata": {},
   "source": [
    "q.11"
   ]
  },
  {
   "cell_type": "code",
   "execution_count": 26,
   "id": "010ff8fa-2695-413c-94b7-8ed43e39b57b",
   "metadata": {},
   "outputs": [],
   "source": [
    "#You can write a Python program to count the number of vowels in a given string using a for loop like this:"
   ]
  },
  {
   "cell_type": "code",
   "execution_count": 27,
   "id": "5e940912-4a61-421d-b4f1-86cd62083232",
   "metadata": {},
   "outputs": [
    {
     "name": "stdin",
     "output_type": "stream",
     "text": [
      "Enter a string:  mohit\n"
     ]
    },
    {
     "name": "stdout",
     "output_type": "stream",
     "text": [
      "Number of vowels in the string: 2\n"
     ]
    }
   ],
   "source": [
    "# Get the input string from the user\n",
    "input_string = input(\"Enter a string: \")\n",
    "\n",
    "# Initialize a variable to count the number of vowels\n",
    "vowel_count = 0\n",
    "\n",
    "# Convert the input string to lowercase to make it case-insensitive\n",
    "input_string = input_string.lower()\n",
    "\n",
    "# Define a set of vowels\n",
    "vowels = \"aeiou\"\n",
    "\n",
    "# Using a for loop to iterate through each character in the string\n",
    "for char in input_string:\n",
    "    # Check if the character is a vowel\n",
    "    if char in vowels:\n",
    "        vowel_count += 1\n",
    "\n",
    "# Print the count of vowels in the string\n",
    "print(\"Number of vowels in the string:\", vowel_count)\n"
   ]
  },
  {
   "cell_type": "markdown",
   "id": "2d037cf3-8141-44e3-abb7-583faf6e2f0e",
   "metadata": {},
   "source": [
    "q.12"
   ]
  },
  {
   "cell_type": "code",
   "execution_count": 28,
   "id": "834c17bc-ae5f-48e0-be1c-600ee6883104",
   "metadata": {},
   "outputs": [],
   "source": [
    "#You can create a Python program that generates a multiplication table for a given number using a for loop like this:"
   ]
  },
  {
   "cell_type": "code",
   "execution_count": 29,
   "id": "2673a963-1de1-45f6-a58a-8241666cc1c8",
   "metadata": {},
   "outputs": [
    {
     "name": "stdin",
     "output_type": "stream",
     "text": [
      "Enter a number:  20\n"
     ]
    },
    {
     "name": "stdout",
     "output_type": "stream",
     "text": [
      "Multiplication table for 20:\n",
      "20 x 1 = 20\n",
      "20 x 2 = 40\n",
      "20 x 3 = 60\n",
      "20 x 4 = 80\n",
      "20 x 5 = 100\n",
      "20 x 6 = 120\n",
      "20 x 7 = 140\n",
      "20 x 8 = 160\n",
      "20 x 9 = 180\n",
      "20 x 10 = 200\n"
     ]
    }
   ],
   "source": [
    "# Get the number for which you want to generate the multiplication table\n",
    "number = int(input(\"Enter a number: \"))\n",
    "\n",
    "# Define the range for the multiplication table (e.g., 1 to 10)\n",
    "table_range = range(1, 11)\n",
    "\n",
    "# Using a for loop to generate the multiplication table\n",
    "print(f\"Multiplication table for {number}:\")\n",
    "\n",
    "for i in table_range:\n",
    "    result = number * i\n",
    "    print(f\"{number} x {i} = {result}\")\n"
   ]
  },
  {
   "cell_type": "markdown",
   "id": "4fc193bc-244a-4a3b-b9ab-ca0eac18eb37",
   "metadata": {},
   "source": [
    "q.13"
   ]
  },
  {
   "cell_type": "code",
   "execution_count": 30,
   "id": "6fe2c67b-913a-4896-b7dc-d1559425ce30",
   "metadata": {},
   "outputs": [],
   "source": [
    "#You can reverse a list using a for loop in Python by iterating through the list in reverse order and creating a new list with the elements in reverse order. Here's a Python program that does this:"
   ]
  },
  {
   "cell_type": "code",
   "execution_count": 31,
   "id": "1cf872b5-31eb-4db3-b3f5-7c225a252488",
   "metadata": {},
   "outputs": [
    {
     "name": "stdout",
     "output_type": "stream",
     "text": [
      "Original list: [1, 2, 3, 4, 5]\n",
      "Reversed list: [5, 4, 3, 2, 1]\n"
     ]
    }
   ],
   "source": [
    "# Define a list\n",
    "my_list = [1, 2, 3, 4, 5]\n",
    "\n",
    "# Initialize an empty list to store the reversed elements\n",
    "reversed_list = []\n",
    "\n",
    "# Using a for loop to reverse the list\n",
    "for item in my_list[::-1]:\n",
    "    reversed_list.append(item)\n",
    "\n",
    "# Print the reversed list\n",
    "print(\"Original list:\", my_list)\n",
    "print(\"Reversed list:\", reversed_list)\n"
   ]
  },
  {
   "cell_type": "markdown",
   "id": "fd1f1c67-2bad-4bc2-810f-835013039701",
   "metadata": {},
   "source": [
    "q.14"
   ]
  },
  {
   "cell_type": "code",
   "execution_count": 32,
   "id": "bf0d2524-7481-4af4-84fb-b6266a67a339",
   "metadata": {},
   "outputs": [],
   "source": [
    "#You can create a Python program to find the common elements between two lists using a for loop like this:"
   ]
  },
  {
   "cell_type": "code",
   "execution_count": 33,
   "id": "923f0718-48a6-4df1-aaf2-f34c14555db7",
   "metadata": {},
   "outputs": [
    {
     "name": "stdout",
     "output_type": "stream",
     "text": [
      "Common elements between the two lists: [3, 4, 5]\n"
     ]
    }
   ],
   "source": [
    "# Define two lists\n",
    "list1 = [1, 2, 3, 4, 5]\n",
    "list2 = [3, 4, 5, 6, 7]\n",
    "\n",
    "# Initialize an empty list to store common elements\n",
    "common_elements = []\n",
    "\n",
    "# Using a for loop to find common elements\n",
    "for element1 in list1:\n",
    "    for element2 in list2:\n",
    "        if element1 == element2:\n",
    "            common_elements.append(element1)\n",
    "\n",
    "# Print the common elements\n",
    "print(\"Common elements between the two lists:\", common_elements)\n"
   ]
  },
  {
   "cell_type": "markdown",
   "id": "11ba516b-6dfd-4580-9d55-fa5854ece49c",
   "metadata": {},
   "source": [
    "q.15"
   ]
  },
  {
   "cell_type": "code",
   "execution_count": 34,
   "id": "304f697b-4ca7-4b4e-aab1-b2e8c8b68966",
   "metadata": {},
   "outputs": [],
   "source": [
    "#In Python, you can use a for loop to iterate through the keys and values of a dictionary using various methods, depending on what you want to access. You can iterate through the keys, values, or both simultaneously. Here are some common approaches to achieve this:"
   ]
  },
  {
   "cell_type": "code",
   "execution_count": 37,
   "id": "3898e4dd-e952-4f0f-9d85-bf966fd06b53",
   "metadata": {},
   "outputs": [],
   "source": [
    "#terating Through Keys:\n",
    "\n",
    "#To iterate through the keys of a dictionary, you can use the for loop directly on the dictionary. By default, it iterates over the keys"
   ]
  },
  {
   "cell_type": "code",
   "execution_count": 38,
   "id": "8abe9a9b-cf1e-4cf9-ab5d-70a223e4816b",
   "metadata": {},
   "outputs": [
    {
     "name": "stdout",
     "output_type": "stream",
     "text": [
      "a\n",
      "b\n",
      "c\n"
     ]
    }
   ],
   "source": [
    "my_dict = {'a': 1, 'b': 2, 'c': 3}\n",
    "for key in my_dict:\n",
    "    print(key)\n"
   ]
  },
  {
   "cell_type": "code",
   "execution_count": 39,
   "id": "57f497c0-a562-4d5f-bd03-031032c15a95",
   "metadata": {},
   "outputs": [],
   "source": [
    "#Iterating Through Values:\n",
    "\n",
    "#To iterate through the values of a dictionary, you can use the values() method of the dictionary."
   ]
  },
  {
   "cell_type": "code",
   "execution_count": 40,
   "id": "f530ee1d-d88a-4c79-aba9-3b39e1c7f8f1",
   "metadata": {},
   "outputs": [
    {
     "name": "stdout",
     "output_type": "stream",
     "text": [
      "1\n",
      "2\n",
      "3\n"
     ]
    }
   ],
   "source": [
    "my_dict = {'a': 1, 'b': 2, 'c': 3}\n",
    "for value in my_dict.values():\n",
    "    print(value)\n"
   ]
  },
  {
   "cell_type": "code",
   "execution_count": 41,
   "id": "7c5fdbaa-4bf4-4c12-aba5-86e95f6e762b",
   "metadata": {},
   "outputs": [],
   "source": [
    "#Iterating Through Both Keys and Values:\n",
    "\n",
    "#To iterate through both keys and values simultaneously, you can use the items() method of the dictionary, which returns a sequence of key-value pairs (tuples)."
   ]
  },
  {
   "cell_type": "code",
   "execution_count": 42,
   "id": "6822d36c-dd22-496b-9731-e0bc844585a7",
   "metadata": {},
   "outputs": [
    {
     "name": "stdout",
     "output_type": "stream",
     "text": [
      "Key: a, Value: 1\n",
      "Key: b, Value: 2\n",
      "Key: c, Value: 3\n"
     ]
    }
   ],
   "source": [
    "my_dict = {'a': 1, 'b': 2, 'c': 3}\n",
    "for key, value in my_dict.items():\n",
    "    print(f\"Key: {key}, Value: {value}\")\n"
   ]
  },
  {
   "cell_type": "code",
   "execution_count": 43,
   "id": "0ba98506-257b-4520-baba-79f7f695b318",
   "metadata": {},
   "outputs": [],
   "source": [
    "#Iterating Through Sorted Keys:\n",
    "\n",
    "#If you want to iterate through the keys in a specific order (e.g., alphabetical order), you can use the sorted() function to sort the keys first and then iterate through them.\n"
   ]
  },
  {
   "cell_type": "code",
   "execution_count": 44,
   "id": "983e8c08-9da0-46a4-8c4c-1c550656b9ca",
   "metadata": {},
   "outputs": [
    {
     "name": "stdout",
     "output_type": "stream",
     "text": [
      "a\n",
      "b\n",
      "c\n"
     ]
    }
   ],
   "source": [
    "my_dict = {'b': 2, 'a': 1, 'c': 3}\n",
    "for key in sorted(my_dict):\n",
    "    print(key)\n"
   ]
  },
  {
   "cell_type": "code",
   "execution_count": 45,
   "id": "4897f4ec-6414-4561-a4cb-9d729878557c",
   "metadata": {},
   "outputs": [],
   "source": [
    "#Iterating Through Sorted Keys with Values:\n",
    "\n",
    "#Similarly, you can sort the keys and iterate through them while accessing their corresponding values from the dictionary."
   ]
  },
  {
   "cell_type": "code",
   "execution_count": 46,
   "id": "84bb8c3c-4cd4-496e-8ddf-fd175db02c17",
   "metadata": {},
   "outputs": [
    {
     "name": "stdout",
     "output_type": "stream",
     "text": [
      "Key: a, Value: 1\n",
      "Key: b, Value: 2\n",
      "Key: c, Value: 3\n"
     ]
    }
   ],
   "source": [
    "my_dict = {'b': 2, 'a': 1, 'c': 3}\n",
    "for key in sorted(my_dict):\n",
    "    value = my_dict[key]\n",
    "    print(f\"Key: {key}, Value: {value}\")\n"
   ]
  },
  {
   "cell_type": "markdown",
   "id": "d28e4165-0ad5-4d0a-bbb8-c974812418ba",
   "metadata": {},
   "source": [
    "q.16"
   ]
  },
  {
   "cell_type": "code",
   "execution_count": 47,
   "id": "bff59b45-d483-4160-b68f-3c1f4b09772a",
   "metadata": {},
   "outputs": [],
   "source": [
    "#You can find the Greatest Common Divisor (GCD) of two numbers using a for loop in Python by implementing the Euclidean algorithm. Here's a Python program to calculate the GCD of two numbers:"
   ]
  },
  {
   "cell_type": "code",
   "execution_count": 48,
   "id": "468dfde5-befb-4181-be94-3383ee562d87",
   "metadata": {},
   "outputs": [
    {
     "name": "stdin",
     "output_type": "stream",
     "text": [
      "Enter the first number:  20\n",
      "Enter the second number:  14\n"
     ]
    },
    {
     "name": "stdout",
     "output_type": "stream",
     "text": [
      "The GCD of 20 and 14 is 2\n"
     ]
    }
   ],
   "source": [
    "# Function to calculate the GCD using the Euclidean algorithm\n",
    "def calculate_gcd(a, b):\n",
    "    while b:\n",
    "        a, b = b, a % b\n",
    "    return a\n",
    "\n",
    "# Get the two numbers from the user\n",
    "num1 = int(input(\"Enter the first number: \"))\n",
    "num2 = int(input(\"Enter the second number: \"))\n",
    "\n",
    "# Calculate and print the GCD\n",
    "gcd = calculate_gcd(num1, num2)\n",
    "print(f\"The GCD of {num1} and {num2} is {gcd}\")\n"
   ]
  },
  {
   "cell_type": "markdown",
   "id": "5c82e9a9-324a-4b88-a12c-525d834d77e5",
   "metadata": {},
   "source": [
    "q.17"
   ]
  },
  {
   "cell_type": "code",
   "execution_count": 49,
   "id": "df6442da-03ac-441f-9915-00777b60fc71",
   "metadata": {},
   "outputs": [],
   "source": [
    "#You can create a Python program to check if a string is a palindrome using a for loop like this:"
   ]
  },
  {
   "cell_type": "code",
   "execution_count": 50,
   "id": "005cd89a-d6ab-4919-8cec-500798655160",
   "metadata": {},
   "outputs": [
    {
     "name": "stdin",
     "output_type": "stream",
     "text": [
      "Enter a string:  mohit\n"
     ]
    },
    {
     "name": "stdout",
     "output_type": "stream",
     "text": [
      "'mohit' is not a palindrome.\n"
     ]
    }
   ],
   "source": [
    "# Get the input string from the user\n",
    "input_string = input(\"Enter a string: \")\n",
    "\n",
    "# Remove spaces and convert to lowercase for case-insensitive comparison\n",
    "cleaned_string = input_string.replace(\" \", \"\").lower()\n",
    "\n",
    "# Initialize a flag to check if it's a palindrome\n",
    "is_palindrome = True\n",
    "\n",
    "# Using a for loop to check if the string is a palindrome\n",
    "for i in range(len(cleaned_string) // 2):\n",
    "    if cleaned_string[i] != cleaned_string[len(cleaned_string) - 1 - i]:\n",
    "        is_palindrome = False\n",
    "        break\n",
    "\n",
    "# Print the result\n",
    "if is_palindrome:\n",
    "    print(f\"'{input_string}' is a palindrome.\")\n",
    "else:\n",
    "    print(f\"'{input_string}' is not a palindrome.\")\n"
   ]
  },
  {
   "cell_type": "markdown",
   "id": "c2e0b07f-0486-4dc7-bd02-04487d7f6297",
   "metadata": {},
   "source": [
    "q.18"
   ]
  },
  {
   "cell_type": "code",
   "execution_count": 51,
   "id": "5c40df3a-fab1-4167-88e2-60e13397ade0",
   "metadata": {},
   "outputs": [],
   "source": [
    "#You can create a Python program to remove duplicates from a list using a for loop by iterating through the list and adding unique elements to a new list. Here's a sample program:"
   ]
  },
  {
   "cell_type": "code",
   "execution_count": 52,
   "id": "30cdf777-c680-4615-a05f-cca4f3f41b5c",
   "metadata": {},
   "outputs": [
    {
     "name": "stdout",
     "output_type": "stream",
     "text": [
      "Original list with duplicates: [1, 2, 2, 3, 4, 4, 5, 5]\n",
      "List with duplicates removed: [1, 2, 3, 4, 5]\n"
     ]
    }
   ],
   "source": [
    "# Define a list with duplicates\n",
    "my_list = [1, 2, 2, 3, 4, 4, 5, 5]\n",
    "\n",
    "# Initialize an empty list to store unique elements\n",
    "unique_list = []\n",
    "\n",
    "# Using a for loop to remove duplicates\n",
    "for item in my_list:\n",
    "    if item not in unique_list:\n",
    "        unique_list.append(item)\n",
    "\n",
    "# Print the list with duplicates removed\n",
    "print(\"Original list with duplicates:\", my_list)\n",
    "print(\"List with duplicates removed:\", unique_list)\n"
   ]
  },
  {
   "cell_type": "markdown",
   "id": "e55180bf-83bb-4317-a34d-11c9b3ccae56",
   "metadata": {},
   "source": [
    "q.19"
   ]
  },
  {
   "cell_type": "code",
   "execution_count": 53,
   "id": "a51d531b-f394-45ba-a4b3-7fa255948d9f",
   "metadata": {},
   "outputs": [],
   "source": [
    "#You can create a Python program to count the number of words in a sentence using a for loop by splitting the sentence into words and then counting them. Here's a sample program"
   ]
  },
  {
   "cell_type": "code",
   "execution_count": 54,
   "id": "75e5affb-dc0d-44a5-b643-f9405f89591c",
   "metadata": {},
   "outputs": [
    {
     "name": "stdin",
     "output_type": "stream",
     "text": [
      "Enter a sentence:  mohit is good boy\n"
     ]
    },
    {
     "name": "stdout",
     "output_type": "stream",
     "text": [
      "Number of words in the sentence: 4\n"
     ]
    }
   ],
   "source": [
    "# Get the input sentence from the user\n",
    "sentence = input(\"Enter a sentence: \")\n",
    "\n",
    "# Initialize a variable to count the words\n",
    "word_count = 0\n",
    "\n",
    "# Using a for loop to count the words\n",
    "for word in sentence.split():\n",
    "    word_count += 1\n",
    "\n",
    "# Print the word count\n",
    "print(f\"Number of words in the sentence: {word_count}\")\n"
   ]
  },
  {
   "cell_type": "markdown",
   "id": "bc4cca65-dc89-4a41-bbff-754c04a4018f",
   "metadata": {},
   "source": [
    "q.20"
   ]
  },
  {
   "cell_type": "code",
   "execution_count": 55,
   "id": "3c399d80-9c17-4310-86cf-e8ac71724489",
   "metadata": {},
   "outputs": [],
   "source": [
    "#You can create a Python program to find the sum of all odd numbers from 1 to 50 using a for loop like this:"
   ]
  },
  {
   "cell_type": "code",
   "execution_count": 56,
   "id": "6685c7cc-7f11-4150-afa2-74a49ba9a3e2",
   "metadata": {},
   "outputs": [
    {
     "name": "stdout",
     "output_type": "stream",
     "text": [
      "The sum of odd numbers from 1 to 50 is: 625\n"
     ]
    }
   ],
   "source": [
    "# Initialize a variable to store the sum\n",
    "sum_of_odd_numbers = 0\n",
    "\n",
    "# Using a for loop to iterate from 1 to 50\n",
    "for num in range(1, 51):\n",
    "    # Check if the number is odd\n",
    "    if num % 2 != 0:\n",
    "        sum_of_odd_numbers += num\n",
    "\n",
    "# Print the sum of odd numbers\n",
    "print(\"The sum of odd numbers from 1 to 50 is:\", sum_of_odd_numbers)\n"
   ]
  },
  {
   "cell_type": "markdown",
   "id": "23da0e0e-e258-452e-93e6-8a01cb6c6510",
   "metadata": {},
   "source": [
    "q.21"
   ]
  },
  {
   "cell_type": "code",
   "execution_count": 57,
   "id": "e8df4620-1f50-47a9-a23e-29570db968e1",
   "metadata": {},
   "outputs": [],
   "source": [
    "#You don't actually need a for loop to check if a given year is a leap year. Leap year determination is based on a simple condition: a year is a leap year if it is evenly divisible by 4, except for years that are divisible by 100 but not divisible by 400. Here's a Python program to check if a given year is a leap yea"
   ]
  },
  {
   "cell_type": "code",
   "execution_count": 58,
   "id": "98145db4-c6bc-4f77-bd7a-60c337168033",
   "metadata": {},
   "outputs": [
    {
     "name": "stdin",
     "output_type": "stream",
     "text": [
      "Enter a year:  1450\n"
     ]
    },
    {
     "name": "stdout",
     "output_type": "stream",
     "text": [
      "1450 is not a leap year.\n"
     ]
    }
   ],
   "source": [
    "# Get the input year from the user\n",
    "year = int(input(\"Enter a year: \"))\n",
    "\n",
    "# Check if it's a leap year\n",
    "if (year % 4 == 0 and year % 100 != 0) or (year % 400 == 0):\n",
    "    print(f\"{year} is a leap year.\")\n",
    "else:\n",
    "    print(f\"{year} is not a leap year.\")\n"
   ]
  },
  {
   "cell_type": "markdown",
   "id": "c266520a-5ebf-429b-9371-ec9fab7563bf",
   "metadata": {},
   "source": [
    "q.22"
   ]
  },
  {
   "cell_type": "code",
   "execution_count": 60,
   "id": "68c284af-d944-4d09-b1dd-233a71365b80",
   "metadata": {},
   "outputs": [],
   "source": [
    "#You can calculate the square root of a number in Python using a for loop by approximating the square root iteratively. One common method to do this is the Babylonian method (also known as Heron's method). Here's a Python program that calculates the square root of a number using a for loop:"
   ]
  },
  {
   "cell_type": "code",
   "execution_count": 61,
   "id": "c3d0c63e-d39d-466f-93e0-054d2a432ad3",
   "metadata": {},
   "outputs": [
    {
     "name": "stdin",
     "output_type": "stream",
     "text": [
      "Enter a number:  20\n"
     ]
    },
    {
     "name": "stdout",
     "output_type": "stream",
     "text": [
      "The square root of 20.0 is approximately 4.472136\n"
     ]
    }
   ],
   "source": [
    "# Get the number for which you want to calculate the square root\n",
    "number = float(input(\"Enter a number: \"))\n",
    "\n",
    "# Set an initial guess for the square root (e.g., half of the number)\n",
    "guess = number / 2.0\n",
    "\n",
    "# Define a tolerance level for accuracy\n",
    "tolerance = 1e-6  # Adjust this value for desired precision\n",
    "\n",
    "# Using a for loop to approximate the square root\n",
    "for _ in range(100):  # Adjust the number of iterations as needed\n",
    "    new_guess = 0.5 * (guess + number / guess)  # Heron's method formula\n",
    "\n",
    "    # Check if the difference between the new and old guesses is within tolerance\n",
    "    if abs(new_guess - guess) < tolerance:\n",
    "        break\n",
    "\n",
    "    guess = new_guess\n",
    "\n",
    "# Print the approximate square root\n",
    "print(f\"The square root of {number} is approximately {guess:.6f}\")\n"
   ]
  },
  {
   "cell_type": "markdown",
   "id": "520f3ce8-a6d0-4312-8ea8-977542cdac4f",
   "metadata": {},
   "source": [
    "q.23"
   ]
  },
  {
   "cell_type": "code",
   "execution_count": 62,
   "id": "e2f822b0-5388-45c1-acf3-9f931baf373c",
   "metadata": {},
   "outputs": [],
   "source": [
    "#You can find the Least Common Multiple (LCM) of two numbers in Python using a for loop by following this approach:\n",
    "\n",
    "#First, you need to calculate the Greatest Common Divisor (GCD) of the two numbers.\n",
    "\n",
    "#Once you have the GCD, you can use it to find the LCM using the formula: LCM = (number1 * number2) / GCD\n",
    "\n",
    "#Here's a Python program that calculates the LCM of two numbers using a for loop"
   ]
  },
  {
   "cell_type": "code",
   "execution_count": 63,
   "id": "038b1c39-ae45-4319-8280-ed0129ec1b1d",
   "metadata": {},
   "outputs": [
    {
     "name": "stdin",
     "output_type": "stream",
     "text": [
      "Enter the first number:  20\n",
      "Enter the second number:  15\n"
     ]
    },
    {
     "name": "stdout",
     "output_type": "stream",
     "text": [
      "The LCM of 20 and 15 is 60\n"
     ]
    }
   ],
   "source": [
    "# Function to calculate the GCD using the Euclidean algorithm\n",
    "def calculate_gcd(a, b):\n",
    "    while b:\n",
    "        a, b = b, a % b\n",
    "    return a\n",
    "\n",
    "# Function to calculate the LCM\n",
    "def calculate_lcm(a, b):\n",
    "    gcd = calculate_gcd(a, b)\n",
    "    lcm = (a * b) // gcd  # Using integer division to avoid floating-point result\n",
    "    return lcm\n",
    "\n",
    "# Get the two numbers from the user\n",
    "num1 = int(input(\"Enter the first number: \"))\n",
    "num2 = int(input(\"Enter the second number: \"))\n",
    "\n",
    "# Calculate and print the LCM\n",
    "lcm = calculate_lcm(num1, num2)\n",
    "print(f\"The LCM of {num1} and {num2} is {lcm}\")\n"
   ]
  },
  {
   "cell_type": "code",
   "execution_count": 64,
   "id": "b6e7efd1-18da-4167-8d7a-c06c8bfcd64a",
   "metadata": {},
   "outputs": [],
   "source": [
    "# if else:"
   ]
  },
  {
   "cell_type": "markdown",
   "id": "78ccd736-8392-4460-85f3-3d83871317c4",
   "metadata": {},
   "source": [
    "q.1"
   ]
  },
  {
   "cell_type": "code",
   "execution_count": 65,
   "id": "30761eec-276c-453a-96aa-7841b471085d",
   "metadata": {},
   "outputs": [],
   "source": [
    "#You can write a Python program to check if a number is positive, negative, or zero using an if-else statement like this:"
   ]
  },
  {
   "cell_type": "code",
   "execution_count": 66,
   "id": "e9218a29-a0de-464b-b843-98d69f0c22d1",
   "metadata": {},
   "outputs": [
    {
     "name": "stdin",
     "output_type": "stream",
     "text": [
      "Enter a number:  20\n"
     ]
    },
    {
     "name": "stdout",
     "output_type": "stream",
     "text": [
      "The number is positive.\n"
     ]
    }
   ],
   "source": [
    "# Get the number from the user\n",
    "number = float(input(\"Enter a number: \"))\n",
    "\n",
    "# Check if the number is positive, negative, or zero\n",
    "if number > 0:\n",
    "    print(\"The number is positive.\")\n",
    "elif number < 0:\n",
    "    print(\"The number is negative.\")\n",
    "else:\n",
    "    print(\"The number is zero.\")\n"
   ]
  },
  {
   "cell_type": "markdown",
   "id": "d82735ff-965b-4785-827a-ce55adfd12e1",
   "metadata": {},
   "source": [
    "q.2"
   ]
  },
  {
   "cell_type": "code",
   "execution_count": 67,
   "id": "7a64222b-1e9f-45b2-954a-b62f557d062d",
   "metadata": {},
   "outputs": [],
   "source": [
    "#You can create a Python program to check if a given number is even or odd using an if-else statement like this:"
   ]
  },
  {
   "cell_type": "code",
   "execution_count": 68,
   "id": "a502a4e3-ab84-4b06-b0bd-855a50fbd173",
   "metadata": {},
   "outputs": [
    {
     "name": "stdin",
     "output_type": "stream",
     "text": [
      "Enter a number:  20\n"
     ]
    },
    {
     "name": "stdout",
     "output_type": "stream",
     "text": [
      "20 is even.\n"
     ]
    }
   ],
   "source": [
    "# Get the number from the user\n",
    "number = int(input(\"Enter a number: \"))\n",
    "\n",
    "# Check if the number is even or odd\n",
    "if number % 2 == 0:\n",
    "    print(f\"{number} is even.\")\n",
    "else:\n",
    "    print(f\"{number} is odd.\")\n"
   ]
  },
  {
   "cell_type": "markdown",
   "id": "75870828-3ccd-41f1-b3d7-1e271c61011b",
   "metadata": {},
   "source": [
    "q.3"
   ]
  },
  {
   "cell_type": "code",
   "execution_count": 69,
   "id": "dbc9647b-739b-4063-b059-4e11b88cb7e0",
   "metadata": {},
   "outputs": [],
   "source": [
    "#In Python, you can use nested if-else statements to create more complex conditional logic. Nested if-else statements are used when you want to check multiple conditions in a hierarchical or cascading manner. Each inner if-else statement is nested inside an outer if or else block.\n",
    "\n",
    "#Here's the general syntax for nested if-else statements in Python:"
   ]
  },
  {
   "cell_type": "code",
   "execution_count": 70,
   "id": "caa3621e-616a-4b95-a515-43dcabfcac9c",
   "metadata": {},
   "outputs": [
    {
     "ename": "IndentationError",
     "evalue": "expected an indented block after 'if' statement on line 3 (2351815645.py, line 5)",
     "output_type": "error",
     "traceback": [
      "\u001b[0;36m  Cell \u001b[0;32mIn[70], line 5\u001b[0;36m\u001b[0m\n\u001b[0;31m    else:\u001b[0m\n\u001b[0m    ^\u001b[0m\n\u001b[0;31mIndentationError\u001b[0m\u001b[0;31m:\u001b[0m expected an indented block after 'if' statement on line 3\n"
     ]
    }
   ],
   "source": [
    "if condition1:\n",
    "    # Code block to execute if condition1 is True\n",
    "    if condition2:\n",
    "        # Code block to execute if both condition1 and condition2 are True\n",
    "    else:\n",
    "        # Code block to execute if condition1 is True but condition2 is False\n",
    "else:\n",
    "    # Code block to execute if condition1 is False\n"
   ]
  },
  {
   "cell_type": "code",
   "execution_count": 71,
   "id": "68a13f2c-c059-4797-bcf3-dd53666372c8",
   "metadata": {},
   "outputs": [
    {
     "name": "stdin",
     "output_type": "stream",
     "text": [
      "Enter the student's score:  65\n"
     ]
    },
    {
     "name": "stdout",
     "output_type": "stream",
     "text": [
      "The student's grade is D\n"
     ]
    }
   ],
   "source": [
    "# Get the student's score from the user\n",
    "score = int(input(\"Enter the student's score: \"))\n",
    "\n",
    "# Check the grade based on the score\n",
    "if score >= 90:\n",
    "    grade = \"A\"\n",
    "else:\n",
    "    if score >= 80:\n",
    "        grade = \"B\"\n",
    "    else:\n",
    "        if score >= 70:\n",
    "            grade = \"C\"\n",
    "        else:\n",
    "            if score >= 60:\n",
    "                grade = \"D\"\n",
    "            else:\n",
    "                grade = \"F\"\n",
    "\n",
    "# Print the grade\n",
    "print(f\"The student's grade is {grade}\")\n"
   ]
  },
  {
   "cell_type": "markdown",
   "id": "f1c6c37e-c838-41a7-b065-21b4fd707422",
   "metadata": {},
   "source": [
    "q.4"
   ]
  },
  {
   "cell_type": "code",
   "execution_count": 72,
   "id": "2adf73c6-27b6-4fc8-9cce-d52e83813f56",
   "metadata": {},
   "outputs": [],
   "source": [
    "#You can write a Python program to determine the largest of three numbers using if-else statements like this:"
   ]
  },
  {
   "cell_type": "code",
   "execution_count": 73,
   "id": "89b75a11-fa86-4683-afb4-cf4c06e0932d",
   "metadata": {},
   "outputs": [
    {
     "name": "stdin",
     "output_type": "stream",
     "text": [
      "Enter the first number:  20\n",
      "Enter the second number:  12\n",
      "Enter the third number:  23\n"
     ]
    },
    {
     "name": "stdout",
     "output_type": "stream",
     "text": [
      "The largest number is: 23.0\n"
     ]
    }
   ],
   "source": [
    "# Get three numbers from the user\n",
    "num1 = float(input(\"Enter the first number: \"))\n",
    "num2 = float(input(\"Enter the second number: \"))\n",
    "num3 = float(input(\"Enter the third number: \"))\n",
    "\n",
    "# Determine the largest number using if-else statements\n",
    "if num1 >= num2 and num1 >= num3:\n",
    "    largest = num1\n",
    "elif num2 >= num1 and num2 >= num3:\n",
    "    largest = num2\n",
    "else:\n",
    "    largest = num3\n",
    "\n",
    "# Print the largest number\n",
    "print(f\"The largest number is: {largest}\")\n"
   ]
  },
  {
   "cell_type": "markdown",
   "id": "f951df9d-8331-4b31-a114-2d253194e943",
   "metadata": {},
   "source": [
    "q.5"
   ]
  },
  {
   "cell_type": "code",
   "execution_count": 74,
   "id": "5c01eee1-0b60-40d4-bfd0-46e71fa329b6",
   "metadata": {},
   "outputs": [],
   "source": [
    "#You can write a Python program to calculate the absolute value of a number using if-else statements like this:"
   ]
  },
  {
   "cell_type": "code",
   "execution_count": 75,
   "id": "1d40a683-5b51-451b-ad3d-fe3ef8eb4ba2",
   "metadata": {},
   "outputs": [
    {
     "name": "stdin",
     "output_type": "stream",
     "text": [
      "Enter a number:  20\n"
     ]
    },
    {
     "name": "stdout",
     "output_type": "stream",
     "text": [
      "The absolute value of 20.0 is: 20.0\n"
     ]
    }
   ],
   "source": [
    "# Get the number from the user\n",
    "number = float(input(\"Enter a number: \"))\n",
    "\n",
    "# Calculate the absolute value using if-else statements\n",
    "if number < 0:\n",
    "    absolute_value = -number\n",
    "else:\n",
    "    absolute_value = number\n",
    "\n",
    "# Print the absolute value\n",
    "print(f\"The absolute value of {number} is: {absolute_value}\")\n"
   ]
  },
  {
   "cell_type": "markdown",
   "id": "3dd557ae-2bb9-4a25-b12a-714b24a1e626",
   "metadata": {},
   "source": [
    "q.6"
   ]
  },
  {
   "cell_type": "code",
   "execution_count": 76,
   "id": "e847f86c-077d-4c01-a5c7-1c9f5f8621a6",
   "metadata": {},
   "outputs": [],
   "source": [
    "#You can create a Python program to check if a given character is a vowel or consonant using if-else statements like this:"
   ]
  },
  {
   "cell_type": "code",
   "execution_count": 77,
   "id": "02f60dfa-96ea-4f23-8a6e-4498e056d11c",
   "metadata": {},
   "outputs": [
    {
     "name": "stdin",
     "output_type": "stream",
     "text": [
      "Enter a character:  mohit\n"
     ]
    },
    {
     "name": "stdout",
     "output_type": "stream",
     "text": [
      "The character 'mohit' is a consonant.\n"
     ]
    }
   ],
   "source": [
    "# Get a character from the user (assuming a single character)\n",
    "char = input(\"Enter a character: \")\n",
    "\n",
    "# Convert the input character to lowercase to handle both cases\n",
    "char = char.lower()\n",
    "\n",
    "# Check if the character is a vowel or consonant using if-else statements\n",
    "if char == 'a' or char == 'e' or char == 'i' or char == 'o' or char == 'u':\n",
    "    print(f\"The character '{char}' is a vowel.\")\n",
    "else:\n",
    "    print(f\"The character '{char}' is a consonant.\")\n"
   ]
  },
  {
   "cell_type": "markdown",
   "id": "b64783ed-25d0-4d21-a1af-52e6728f0ea5",
   "metadata": {},
   "source": [
    "q.7"
   ]
  },
  {
   "cell_type": "code",
   "execution_count": 78,
   "id": "a281b255-3d03-4031-aaab-dd0b1f370f3a",
   "metadata": {},
   "outputs": [],
   "source": [
    "#You can create a Python program to determine if a user is eligible to vote based on their age using if-else statements like this:"
   ]
  },
  {
   "cell_type": "markdown",
   "id": "0f2ca41f-2da9-4396-9f18-9780028aabef",
   "metadata": {},
   "source": [
    "# Get the user's age as input\n",
    "age = int(input(\"Enter your age: \"))\n",
    "\n",
    "# Check if the user is eligible to vote using if-else statements\n",
    "if age >= 18:\n",
    "    print(\"You are eligible to vote.\")\n",
    "else:\n",
    "    print(\"You are not eligible to vote.\")\n"
   ]
  },
  {
   "cell_type": "markdown",
   "id": "039a17a5-0f4a-4e2a-bbab-0b0427fd9ed3",
   "metadata": {},
   "source": [
    "q.8"
   ]
  },
  {
   "cell_type": "code",
   "execution_count": 80,
   "id": "5e59daab-b553-456b-907e-9f3aca618266",
   "metadata": {},
   "outputs": [],
   "source": [
    "#You can create a Python program to calculate the discount amount based on the purchase amount using if-else statements like this:"
   ]
  },
  {
   "cell_type": "code",
   "execution_count": 81,
   "id": "030153d5-aac5-4d02-aa04-7d0ce01e9c20",
   "metadata": {},
   "outputs": [
    {
     "name": "stdin",
     "output_type": "stream",
     "text": [
      "Enter the purchase amount:  1200\n"
     ]
    },
    {
     "name": "stdout",
     "output_type": "stream",
     "text": [
      "Discount amount: $120.00\n"
     ]
    }
   ],
   "source": [
    "# Get the purchase amount from the user\n",
    "purchase_amount = float(input(\"Enter the purchase amount: \"))\n",
    "\n",
    "# Initialize a variable for the discount amount\n",
    "discount_amount = 0.0\n",
    "\n",
    "# Determine the discount amount based on the purchase amount using if-else statements\n",
    "if purchase_amount >= 1000:\n",
    "    discount_amount = 0.1 * purchase_amount  # 10% discount for purchases >= $1000\n",
    "elif purchase_amount >= 500:\n",
    "    discount_amount = 0.05 * purchase_amount  # 5% discount for purchases >= $500\n",
    "\n",
    "# Print the discount amount\n",
    "print(f\"Discount amount: ${discount_amount:.2f}\")\n"
   ]
  },
  {
   "cell_type": "markdown",
   "id": "71824224-8160-407d-8a80-8cc2da735566",
   "metadata": {},
   "source": [
    "q.9"
   ]
  },
  {
   "cell_type": "code",
   "execution_count": 83,
   "id": "c3eded49-bc69-436a-8b01-4d548765b98e",
   "metadata": {},
   "outputs": [],
   "source": [
    "#You can create a Python program to check if a number is within a specified range using if-else statements like this:"
   ]
  },
  {
   "cell_type": "code",
   "execution_count": 84,
   "id": "1771c48b-8e77-4bdf-8555-3fdb3ba45e85",
   "metadata": {},
   "outputs": [
    {
     "name": "stdin",
     "output_type": "stream",
     "text": [
      "Enter a number:  20\n"
     ]
    },
    {
     "name": "stdout",
     "output_type": "stream",
     "text": [
      "20.0 is within the range [10, 50].\n"
     ]
    }
   ],
   "source": [
    "# Get the number from the user\n",
    "number = float(input(\"Enter a number: \"))\n",
    "\n",
    "# Define the range limits\n",
    "lower_limit = 10\n",
    "upper_limit = 50\n",
    "\n",
    "# Check if the number is within the specified range using if-else statements\n",
    "if number >= lower_limit and number <= upper_limit:\n",
    "    print(f\"{number} is within the range [{lower_limit}, {upper_limit}].\")\n",
    "else:\n",
    "    print(f\"{number} is not within the range [{lower_limit}, {upper_limit}].\")\n"
   ]
  },
  {
   "cell_type": "markdown",
   "id": "9b00afd8-825c-4f7a-a22e-6c352ade6a33",
   "metadata": {},
   "source": [
    "q.10"
   ]
  },
  {
   "cell_type": "code",
   "execution_count": 85,
   "id": "bded4ebb-0652-43f1-9e00-e4cccbb1fb07",
   "metadata": {},
   "outputs": [],
   "source": [
    "#You can create a Python program to determine the grade of a student based on their score using if-else statements like this:"
   ]
  },
  {
   "cell_type": "code",
   "execution_count": 86,
   "id": "5b21fade-4526-462e-b056-11f82de8bc71",
   "metadata": {},
   "outputs": [
    {
     "name": "stdin",
     "output_type": "stream",
     "text": [
      "Enter the student's score:  98\n"
     ]
    },
    {
     "name": "stdout",
     "output_type": "stream",
     "text": [
      "The student's grade is: A\n"
     ]
    }
   ],
   "source": [
    "# Get the student's score from the user\n",
    "score = float(input(\"Enter the student's score: \"))\n",
    "\n",
    "# Determine the grade based on the score using if-else statements\n",
    "if score >= 90:\n",
    "    grade = \"A\"\n",
    "elif score >= 80:\n",
    "    grade = \"B\"\n",
    "elif score >= 70:\n",
    "    grade = \"C\"\n",
    "elif score >= 60:\n",
    "    grade = \"D\"\n",
    "else:\n",
    "    grade = \"F\"\n",
    "\n",
    "# Print the grade\n",
    "print(f\"The student's grade is: {grade}\")\n"
   ]
  },
  {
   "cell_type": "markdown",
   "id": "148e5796-1349-4462-a828-63f1c70b5779",
   "metadata": {},
   "source": [
    "q.11"
   ]
  },
  {
   "cell_type": "code",
   "execution_count": 87,
   "id": "1fe6f9bd-30c4-4f7a-847b-a40de77cd1ac",
   "metadata": {},
   "outputs": [],
   "source": [
    "#You can create a Python program to check if a string is empty or not using if-else statements like this:"
   ]
  },
  {
   "cell_type": "code",
   "execution_count": 88,
   "id": "ef458103-584e-4eb4-9d93-1ada6564a52f",
   "metadata": {},
   "outputs": [
    {
     "name": "stdin",
     "output_type": "stream",
     "text": [
      "Enter a string:  mohit\n"
     ]
    },
    {
     "name": "stdout",
     "output_type": "stream",
     "text": [
      "The string is not empty.\n"
     ]
    }
   ],
   "source": [
    "# Get the input string from the user\n",
    "input_string = input(\"Enter a string: \")\n",
    "\n",
    "# Check if the string is empty or not using if-else statements\n",
    "if not input_string:\n",
    "    print(\"The string is empty.\")\n",
    "else:\n",
    "    print(\"The string is not empty.\")\n"
   ]
  },
  {
   "cell_type": "markdown",
   "id": "63283f36-106a-400f-8f2b-6fab0d5ab13e",
   "metadata": {},
   "source": [
    "q.12"
   ]
  },
  {
   "cell_type": "code",
   "execution_count": 89,
   "id": "17c5c330-c8fb-4f4c-8b40-cd30d41af8ba",
   "metadata": {},
   "outputs": [],
   "source": [
    "#You can create a Python program to identify the type of a triangle (equilateral, isosceles, or scalene) based on input values for its sides using if-else statements like this:"
   ]
  },
  {
   "cell_type": "code",
   "execution_count": 90,
   "id": "2b89467d-f4bd-4b2d-96cd-f76d307cbaf1",
   "metadata": {},
   "outputs": [
    {
     "name": "stdin",
     "output_type": "stream",
     "text": [
      "Enter the length of the first side:  2\n",
      "Enter the length of the second side:  5\n",
      "Enter the length of the third side:  9\n"
     ]
    },
    {
     "name": "stdout",
     "output_type": "stream",
     "text": [
      "The triangle is a scalene triangle.\n"
     ]
    }
   ],
   "source": [
    "# Get the lengths of the three sides of the triangle from the user\n",
    "side1 = float(input(\"Enter the length of the first side: \"))\n",
    "side2 = float(input(\"Enter the length of the second side: \"))\n",
    "side3 = float(input(\"Enter the length of the third side: \"))\n",
    "\n",
    "# Check the type of triangle using if-else statements\n",
    "if side1 == side2 == side3:\n",
    "    triangle_type = \"equilateral\"\n",
    "elif side1 == side2 or side1 == side3 or side2 == side3:\n",
    "    triangle_type = \"isosceles\"\n",
    "else:\n",
    "    triangle_type = \"scalene\"\n",
    "\n",
    "# Print the type of triangle\n",
    "print(f\"The triangle is a {triangle_type} triangle.\")\n"
   ]
  },
  {
   "cell_type": "markdown",
   "id": "f28acf77-7980-42f6-881b-390cf6b0c8ea",
   "metadata": {},
   "source": [
    "q.13"
   ]
  },
  {
   "cell_type": "code",
   "execution_count": 91,
   "id": "e791ab83-326e-4706-a02b-dda1640b32a0",
   "metadata": {},
   "outputs": [],
   "source": [
    "#You can create a Python program to determine the day of the week based on a user-provided number using if-else statements like this"
   ]
  },
  {
   "cell_type": "code",
   "execution_count": 92,
   "id": "eccf9f71-ee41-49f8-9b92-ee952b4d8fbc",
   "metadata": {},
   "outputs": [
    {
     "name": "stdin",
     "output_type": "stream",
     "text": [
      "Enter a number (1-7) representing the day of the week:  5\n"
     ]
    },
    {
     "name": "stdout",
     "output_type": "stream",
     "text": [
      "The day corresponding to 5 is Friday.\n"
     ]
    }
   ],
   "source": [
    "# Get the user input for the day number (1 for Monday, 2 for Tuesday, etc.)\n",
    "day_number = int(input(\"Enter a number (1-7) representing the day of the week: \"))\n",
    "\n",
    "# Check the day of the week using if-else statements\n",
    "if day_number == 1:\n",
    "    day_name = \"Monday\"\n",
    "elif day_number == 2:\n",
    "    day_name = \"Tuesday\"\n",
    "elif day_number == 3:\n",
    "    day_name = \"Wednesday\"\n",
    "elif day_number == 4:\n",
    "    day_name = \"Thursday\"\n",
    "elif day_number == 5:\n",
    "    day_name = \"Friday\"\n",
    "elif day_number == 6:\n",
    "    day_name = \"Saturday\"\n",
    "elif day_number == 7:\n",
    "    day_name = \"Sunday\"\n",
    "else:\n",
    "    day_name = \"Invalid input\"\n",
    "\n",
    "# Print the day of the week\n",
    "print(f\"The day corresponding to {day_number} is {day_name}.\")\n"
   ]
  },
  {
   "cell_type": "markdown",
   "id": "70675dbc-de40-4fd7-a503-aba30a3a3526",
   "metadata": {},
   "source": [
    "q.14"
   ]
  },
  {
   "cell_type": "code",
   "execution_count": 93,
   "id": "f5c82215-8617-44e9-8bce-a8458b0168b7",
   "metadata": {},
   "outputs": [],
   "source": [
    "#You can create a Python program that checks if a given year is a leap year using both if-else statements and a function. Here's an example:"
   ]
  },
  {
   "cell_type": "code",
   "execution_count": 94,
   "id": "8da1df05-d7cb-46b4-924a-0bf3084cb3c0",
   "metadata": {},
   "outputs": [
    {
     "name": "stdin",
     "output_type": "stream",
     "text": [
      "Enter a year:  1566\n"
     ]
    },
    {
     "name": "stdout",
     "output_type": "stream",
     "text": [
      "1566 is not a leap year.\n"
     ]
    }
   ],
   "source": [
    "# Function to check if a year is a leap year\n",
    "def is_leap_year(year):\n",
    "    if (year % 4 == 0 and year % 100 != 0) or (year % 400 == 0):\n",
    "        return True\n",
    "    else:\n",
    "        return False\n",
    "\n",
    "# Get the year from the user\n",
    "year = int(input(\"Enter a year: \"))\n",
    "\n",
    "# Check if the year is a leap year using the function\n",
    "if is_leap_year(year):\n",
    "    print(f\"{year} is a leap year.\")\n",
    "else:\n",
    "    print(f\"{year} is not a leap year.\")\n"
   ]
  },
  {
   "cell_type": "markdown",
   "id": "ff22015d-f63c-499c-910c-985ef6c552c4",
   "metadata": {},
   "source": [
    "q.15"
   ]
  },
  {
   "cell_type": "code",
   "execution_count": 95,
   "id": "afa6ddb8-1704-452d-b0e8-819c91670844",
   "metadata": {},
   "outputs": [],
   "source": [
    "#The assert statement in Python is used for debugging purposes to add checks within your code. It allows you to specify conditions that must be true for the program to continue running. If the condition is false, an AssertionError exception is raised, indicating that something unexpected has occurred. This can help you catch and identify issues during development.\n",
    "\n",
    "#Here's the basic syntax of the assert statement:"
   ]
  },
  {
   "cell_type": "code",
   "execution_count": 99,
   "id": "3541faf9-4261-4c78-8918-93345bed566a",
   "metadata": {},
   "outputs": [
    {
     "ename": "AssertionError",
     "evalue": "Division by zero is not allowed",
     "output_type": "error",
     "traceback": [
      "\u001b[0;31m---------------------------------------------------------------------------\u001b[0m",
      "\u001b[0;31mAssertionError\u001b[0m                            Traceback (most recent call last)",
      "Cell \u001b[0;32mIn[99], line 8\u001b[0m\n\u001b[1;32m      5\u001b[0m num1 \u001b[38;5;241m=\u001b[39m \u001b[38;5;241m10\u001b[39m\n\u001b[1;32m      6\u001b[0m num2 \u001b[38;5;241m=\u001b[39m \u001b[38;5;241m0\u001b[39m\n\u001b[0;32m----> 8\u001b[0m result \u001b[38;5;241m=\u001b[39m \u001b[43mdivide\u001b[49m\u001b[43m(\u001b[49m\u001b[43mnum1\u001b[49m\u001b[43m,\u001b[49m\u001b[43m \u001b[49m\u001b[43mnum2\u001b[49m\u001b[43m)\u001b[49m\n\u001b[1;32m     10\u001b[0m \u001b[38;5;28mprint\u001b[39m(\u001b[38;5;124mf\u001b[39m\u001b[38;5;124m\"\u001b[39m\u001b[38;5;124mResult: \u001b[39m\u001b[38;5;132;01m{\u001b[39;00mresult\u001b[38;5;132;01m}\u001b[39;00m\u001b[38;5;124m\"\u001b[39m)\n",
      "Cell \u001b[0;32mIn[99], line 2\u001b[0m, in \u001b[0;36mdivide\u001b[0;34m(a, b)\u001b[0m\n\u001b[1;32m      1\u001b[0m \u001b[38;5;28;01mdef\u001b[39;00m \u001b[38;5;21mdivide\u001b[39m(a, b):\n\u001b[0;32m----> 2\u001b[0m     \u001b[38;5;28;01massert\u001b[39;00m b \u001b[38;5;241m!=\u001b[39m \u001b[38;5;241m0\u001b[39m, \u001b[38;5;124m\"\u001b[39m\u001b[38;5;124mDivision by zero is not allowed\u001b[39m\u001b[38;5;124m\"\u001b[39m\n\u001b[1;32m      3\u001b[0m     \u001b[38;5;28;01mreturn\u001b[39;00m a \u001b[38;5;241m/\u001b[39m b\n",
      "\u001b[0;31mAssertionError\u001b[0m: Division by zero is not allowed"
     ]
    }
   ],
   "source": [
    "\n",
    "def divide(a, b):\n",
    "    assert b != 0, \"Division by zero is not allowed\"\n",
    "    return a / b\n",
    "\n",
    "num1 = 10\n",
    "num2 = 0\n",
    "\n",
    "result = divide(num1, num2)\n",
    "\n",
    "print(f\"Result: {result}\")\n",
    "\n"
   ]
  },
  {
   "cell_type": "markdown",
   "id": "db14e810-e6b5-4fb0-8b73-cb6010141ab3",
   "metadata": {},
   "source": [
    "q.16"
   ]
  },
  {
   "cell_type": "code",
   "execution_count": 100,
   "id": "051cdfdc-2832-44ed-8b99-05747841c672",
   "metadata": {},
   "outputs": [],
   "source": [
    "#You can create a Python program that determines the eligibility of a person for a senior citizen discount based on age using if-else statements like this:"
   ]
  },
  {
   "cell_type": "code",
   "execution_count": 101,
   "id": "a886732f-4071-4590-9b90-f0acf3c54a32",
   "metadata": {},
   "outputs": [
    {
     "name": "stdin",
     "output_type": "stream",
     "text": [
      "Enter your age:  26\n"
     ]
    },
    {
     "name": "stdout",
     "output_type": "stream",
     "text": [
      "Sorry, you are not eligible for a senior citizen discount.\n"
     ]
    }
   ],
   "source": [
    "# Get the person's age from the user\n",
    "age = int(input(\"Enter your age: \"))\n",
    "\n",
    "# Define the age limit for senior citizen discount\n",
    "senior_age_limit = 60\n",
    "\n",
    "# Check eligibility for the senior citizen discount using if-else statements\n",
    "if age >= senior_age_limit:\n",
    "    print(\"Congratulations! You are eligible for a senior citizen discount.\")\n",
    "else:\n",
    "    print(\"Sorry, you are not eligible for a senior citizen discount.\")\n"
   ]
  },
  {
   "cell_type": "markdown",
   "id": "78e0a946-0f2a-4b3b-a437-7c9e6d972d7e",
   "metadata": {},
   "source": [
    "q.17"
   ]
  },
  {
   "cell_type": "code",
   "execution_count": 102,
   "id": "9d3fdb42-eec8-4212-8e28-de5bcd6c6be6",
   "metadata": {},
   "outputs": [],
   "source": [
    "#You can create a Python program to categorize a given character as uppercase, lowercase, or neither using if-else statements like this:"
   ]
  },
  {
   "cell_type": "code",
   "execution_count": 103,
   "id": "43380569-b6f6-4663-902f-4194ea28e97d",
   "metadata": {},
   "outputs": [
    {
     "name": "stdin",
     "output_type": "stream",
     "text": [
      "Enter a character:  mohit\n"
     ]
    },
    {
     "name": "stdout",
     "output_type": "stream",
     "text": [
      "The character 'mohit' is lowercase.\n"
     ]
    }
   ],
   "source": [
    "# Get a character from the user (assuming a single character)\n",
    "char = input(\"Enter a character: \")\n",
    "\n",
    "# Check if the character is uppercase, lowercase, or neither using if-else statements\n",
    "if char.isupper():\n",
    "    print(f\"The character '{char}' is uppercase.\")\n",
    "elif char.islower():\n",
    "    print(f\"The character '{char}' is lowercase.\")\n",
    "else:\n",
    "    print(f\"The character '{char}' is neither uppercase nor lowercase.\")\n"
   ]
  },
  {
   "cell_type": "markdown",
   "id": "ce83c2c6-6222-4e79-a57c-933d2bc6e10e",
   "metadata": {},
   "source": [
    "q.18"
   ]
  },
  {
   "cell_type": "code",
   "execution_count": 104,
   "id": "0d0b55b2-f695-4bb6-947f-67e764c331e0",
   "metadata": {},
   "outputs": [],
   "source": [
    "#You can create a Python program to determine the roots of a quadratic equation using if-else statements. The program will calculate the discriminant and use it to determine the type and number of roots. Here's an example:"
   ]
  },
  {
   "cell_type": "code",
   "execution_count": 105,
   "id": "84d49e9e-4278-4ba6-ba0a-9b1d9023a04b",
   "metadata": {},
   "outputs": [
    {
     "name": "stdin",
     "output_type": "stream",
     "text": [
      "Enter the coefficient a:  5\n",
      "Enter the coefficient b:  6\n",
      "Enter the coefficient c:  8\n"
     ]
    },
    {
     "name": "stdout",
     "output_type": "stream",
     "text": [
      "The equation has two complex roots: -0.6 + 1.1135528725660042i and -0.6 - 1.1135528725660042i\n"
     ]
    }
   ],
   "source": [
    "import math\n",
    "\n",
    "# Get the coefficients of the quadratic equation from the user\n",
    "a = float(input(\"Enter the coefficient a: \"))\n",
    "b = float(input(\"Enter the coefficient b: \"))\n",
    "c = float(input(\"Enter the coefficient c: \"))\n",
    "\n",
    "# Calculate the discriminant\n",
    "discriminant = b**2 - 4*a*c\n",
    "\n",
    "# Check the type and number of roots using if-else statements\n",
    "if discriminant > 0:\n",
    "    root1 = (-b + math.sqrt(discriminant)) / (2*a)\n",
    "    root2 = (-b - math.sqrt(discriminant)) / (2*a)\n",
    "    print(f\"The equation has two distinct real roots: {root1} and {root2}\")\n",
    "elif discriminant == 0:\n",
    "    root = -b / (2*a)\n",
    "    print(f\"The equation has one real root: {root}\")\n",
    "else:\n",
    "    real_part = -b / (2*a)\n",
    "    imaginary_part = math.sqrt(abs(discriminant)) / (2*a)\n",
    "    print(f\"The equation has two complex roots: {real_part} + {imaginary_part}i and {real_part} - {imaginary_part}i\")\n"
   ]
  },
  {
   "cell_type": "markdown",
   "id": "a4fa4df7-6459-479d-b2cb-3a249997c524",
   "metadata": {},
   "source": [
    "q.19"
   ]
  },
  {
   "cell_type": "code",
   "execution_count": 106,
   "id": "99d92c3b-b29e-4226-9c89-3f1f2307115e",
   "metadata": {},
   "outputs": [],
   "source": [
    "#You can create a Python program to check if a given year is a century year (a year ending in \"00\") or not using if-else statements like this:"
   ]
  },
  {
   "cell_type": "code",
   "execution_count": 107,
   "id": "0242df20-1bba-4934-81c1-1cf09101fc44",
   "metadata": {},
   "outputs": [
    {
     "name": "stdin",
     "output_type": "stream",
     "text": [
      "Enter a year:  1666\n"
     ]
    },
    {
     "name": "stdout",
     "output_type": "stream",
     "text": [
      "1666 is not a century year.\n"
     ]
    }
   ],
   "source": [
    "# Get the year from the user\n",
    "year = int(input(\"Enter a year: \"))\n",
    "\n",
    "# Check if the year is a century year using if-else statements\n",
    "if year % 100 == 0:\n",
    "    print(f\"{year} is a century year.\")\n",
    "else:\n",
    "    print(f\"{year} is not a century year.\")\n"
   ]
  },
  {
   "cell_type": "markdown",
   "id": "feb111c1-5b35-4335-9f57-56340a2fec34",
   "metadata": {},
   "source": [
    "q.20"
   ]
  },
  {
   "cell_type": "code",
   "execution_count": 108,
   "id": "b24b68c3-9dd4-4fa1-a26c-043da8cb6436",
   "metadata": {},
   "outputs": [],
   "source": [
    "#You can create a Python program to determine if a given number is a perfect square using if-else statements by checking if the square root of the number is an integer. Here's an example:"
   ]
  },
  {
   "cell_type": "code",
   "execution_count": 109,
   "id": "7b42f672-e843-409c-9aaf-168a07220b54",
   "metadata": {},
   "outputs": [
    {
     "name": "stdin",
     "output_type": "stream",
     "text": [
      "Enter a number:  12\n"
     ]
    },
    {
     "name": "stdout",
     "output_type": "stream",
     "text": [
      "12 is not a perfect square.\n"
     ]
    }
   ],
   "source": [
    "import math\n",
    "\n",
    "# Get the number from the user\n",
    "number = int(input(\"Enter a number: \"))\n",
    "\n",
    "# Calculate the square root of the number\n",
    "sqrt = math.sqrt(number)\n",
    "\n",
    "# Check if the number is a perfect square using if-else statements\n",
    "if sqrt.is_integer():\n",
    "    print(f\"{number} is a perfect square.\")\n",
    "else:\n",
    "    print(f\"{number} is not a perfect square.\")\n"
   ]
  },
  {
   "cell_type": "markdown",
   "id": "1867f5fb-0bb6-4618-9184-c29cb64b86dd",
   "metadata": {},
   "source": [
    "q.21"
   ]
  },
  {
   "cell_type": "code",
   "execution_count": 110,
   "id": "f5cc20a0-ebd4-47bc-b5c7-a0d771e4ce0b",
   "metadata": {},
   "outputs": [],
   "source": [
    "#In Python, the \"continue\" and \"break\" statements are used within loops (such as \"for\" and \"while\" loops) to control the flow of the loop and to skip or terminate the loop prematurely. Here's an explanation of their purposes:\n",
    "\n",
    "#\"continue\" statement:\n",
    "\n",
    "#Purpose: The \"continue\" statement is used to skip the current iteration of a loop and move to the next iteration without executing the remaining code within the loop for the current iteration.\n",
    "\n",
    "#Usage: It is typically used when you encounter a specific condition that should cause you to skip the current iteration and move to the next one. This can be useful for filtering or skipping certain items in a loop."
   ]
  },
  {
   "cell_type": "code",
   "execution_count": 111,
   "id": "02fbfaf1-ae32-4e36-be73-895b86a6ec43",
   "metadata": {},
   "outputs": [
    {
     "name": "stdout",
     "output_type": "stream",
     "text": [
      "2\n",
      "4\n",
      "6\n",
      "8\n",
      "10\n"
     ]
    }
   ],
   "source": [
    "# Print all even numbers between 1 and 10, skipping odd numbers\n",
    "for i in range(1, 11):\n",
    "    if i % 2 != 0:\n",
    "        continue  # Skip odd numbers\n",
    "    print(i)\n"
   ]
  },
  {
   "cell_type": "code",
   "execution_count": 112,
   "id": "616c8c98-66b6-4194-b3cd-e2a38f74c9f1",
   "metadata": {},
   "outputs": [],
   "source": [
    "#\"break\" statement:\n",
    "\n",
    "#Purpose: The \"break\" statement is used to prematurely exit a loop when a certain condition is met. It terminates the loop entirely and continues with the code after the loop.\n",
    "\n",
    "#Usage: It is typically used when you need to stop the loop as soon as a specific condition is satisfied. Once the condition is met, the loop doesn't continue to iterate."
   ]
  },
  {
   "cell_type": "code",
   "execution_count": 113,
   "id": "44ab09e8-1f4b-494a-a335-5bbba54678c5",
   "metadata": {},
   "outputs": [
    {
     "name": "stdout",
     "output_type": "stream",
     "text": [
      "The first even number is: 2\n"
     ]
    }
   ],
   "source": [
    "# Find the first even number in a list and stop searching\n",
    "numbers = [3, 7, 2, 9, 6, 4, 8]\n",
    "for num in numbers:\n",
    "    if num % 2 == 0:\n",
    "        print(f\"The first even number is: {num}\")\n",
    "        break  # Exit the loop\n"
   ]
  },
  {
   "cell_type": "markdown",
   "id": "197b8d61-aca9-45fe-9f3a-07fdca237220",
   "metadata": {},
   "source": [
    "q.22"
   ]
  },
  {
   "cell_type": "code",
   "execution_count": 114,
   "id": "499d047a-d5f1-4769-a079-d12d2a27a246",
   "metadata": {},
   "outputs": [],
   "source": [
    "#You can create a Python program to calculate the BMI (Body Mass Index) of a person based on their weight and height using if-else statements like this:"
   ]
  },
  {
   "cell_type": "code",
   "execution_count": 115,
   "id": "132b49c5-77c8-425d-b6e4-7c64169cdf16",
   "metadata": {},
   "outputs": [
    {
     "name": "stdin",
     "output_type": "stream",
     "text": [
      "Enter your weight in kilograms:  85\n",
      "Enter your height in meters:  4\n"
     ]
    },
    {
     "name": "stdout",
     "output_type": "stream",
     "text": [
      "Your BMI is: 5.31\n",
      "Category: Underweight\n"
     ]
    }
   ],
   "source": [
    "# Get weight and height inputs from the user\n",
    "weight_kg = float(input(\"Enter your weight in kilograms: \"))\n",
    "height_m = float(input(\"Enter your height in meters: \"))\n",
    "\n",
    "# Calculate BMI\n",
    "bmi = weight_kg / (height_m ** 2)\n",
    "\n",
    "# Categorize the BMI using if-else statements\n",
    "if bmi < 18.5:\n",
    "    category = \"Underweight\"\n",
    "elif bmi < 24.9:\n",
    "    category = \"Normal weight\"\n",
    "elif bmi < 29.9:\n",
    "    category = \"Overweight\"\n",
    "else:\n",
    "    category = \"Obese\"\n",
    "\n",
    "# Print the calculated BMI and category\n",
    "print(f\"Your BMI is: {bmi:.2f}\")\n",
    "print(f\"Category: {category}\")\n"
   ]
  },
  {
   "cell_type": "markdown",
   "id": "54e374e2-d6ed-48fd-90cf-2359ff5be28f",
   "metadata": {},
   "source": [
    "q.23"
   ]
  },
  {
   "cell_type": "code",
   "execution_count": 116,
   "id": "a4637455-b8be-4d3c-b6c4-e2b49b4e3706",
   "metadata": {},
   "outputs": [],
   "source": [
    "#The filter() function in Python is used to filter elements from an iterable (e.g., a list) based on a specified function or condition. While filter() itself doesn't use if-else statements directly, you can use it in combination with a custom filtering function that incorporates if-else statements to determine which elements to keep or discard from the iterable.\n",
    "\n",
    "#Here's how you can use the filter() function with a custom filtering function that uses if-else statements:"
   ]
  },
  {
   "cell_type": "code",
   "execution_count": 117,
   "id": "bfc4ff82-2d2e-4a27-82c7-d72aed891688",
   "metadata": {},
   "outputs": [
    {
     "name": "stdout",
     "output_type": "stream",
     "text": [
      "[2, 4, 6, 8, 10]\n"
     ]
    }
   ],
   "source": [
    "# Define a list of numbers\n",
    "numbers = [1, 2, 3, 4, 5, 6, 7, 8, 9, 10]\n",
    "\n",
    "# Define a custom filtering function using if-else statements\n",
    "def is_even(number):\n",
    "    if number % 2 == 0:\n",
    "        return True  # Keep even numbers\n",
    "    else:\n",
    "        return False  # Discard odd numbers\n",
    "\n",
    "# Use the filter() function with the custom filtering function\n",
    "filtered_numbers = filter(is_even, numbers)\n",
    "\n",
    "# Convert the filter object to a list (optional)\n",
    "filtered_numbers_list = list(filtered_numbers)\n",
    "\n",
    "# Print the filtered list of even numbers\n",
    "print(filtered_numbers_list)\n"
   ]
  },
  {
   "cell_type": "markdown",
   "id": "d8f57038-c5cf-48d1-aaaf-3a08f4e8489e",
   "metadata": {},
   "source": [
    "q.24"
   ]
  },
  {
   "cell_type": "code",
   "execution_count": 118,
   "id": "db58e2e1-241e-4048-91f3-3f63d13d9e02",
   "metadata": {},
   "outputs": [],
   "source": [
    "#You can create a Python program to determine if a given number is prime or not using if-else statements by checking if it is divisible by any numbers other than 1 and itself. Here's an example:"
   ]
  },
  {
   "cell_type": "code",
   "execution_count": 119,
   "id": "5d1d649d-6e5b-477e-a68c-6e6c3eb250aa",
   "metadata": {},
   "outputs": [
    {
     "name": "stdin",
     "output_type": "stream",
     "text": [
      "Enter a number:  12\n"
     ]
    },
    {
     "name": "stdout",
     "output_type": "stream",
     "text": [
      "12 is not a prime number.\n"
     ]
    }
   ],
   "source": [
    "# Get the number from the user\n",
    "number = int(input(\"Enter a number: \"))\n",
    "\n",
    "# Check if the number is prime using if-else statements\n",
    "if number <= 1:\n",
    "    is_prime = False  # Numbers less than or equal to 1 are not prime\n",
    "else:\n",
    "    is_prime = True\n",
    "    for i in range(2, int(number**0.5) + 1):\n",
    "        if number % i == 0:\n",
    "            is_prime = False\n",
    "            break\n",
    "\n",
    "# Print the result\n",
    "if is_prime:\n",
    "    print(f\"{number} is a prime number.\")\n",
    "else:\n",
    "    print(f\"{number} is not a prime number.\")\n"
   ]
  },
  {
   "cell_type": "code",
   "execution_count": 120,
   "id": "9293e3b6-3886-4794-996e-b1aa0ca5404e",
   "metadata": {},
   "outputs": [],
   "source": [
    "#map"
   ]
  },
  {
   "cell_type": "markdown",
   "id": "c3cec50f-52e0-46b4-be14-a16866174dc2",
   "metadata": {},
   "source": [
    "q.1"
   ]
  },
  {
   "cell_type": "code",
   "execution_count": 121,
   "id": "c017b676-bdc5-438e-be85-398b0104dd2e",
   "metadata": {},
   "outputs": [],
   "source": [
    "#The map() function in Python is used to apply a given function to each item (element) in an iterable (such as a list, tuple, or string) and return an iterable (typically a map object or a list) containing the results. It allows you to transform the elements of an iterable by applying the specified function to each element individually.\n",
    "\n",
    "#Here's the general syntax of the map() function:"
   ]
  },
  {
   "cell_type": "code",
   "execution_count": 123,
   "id": "e4082f10-3d17-438f-91fe-159161edb6f3",
   "metadata": {},
   "outputs": [
    {
     "name": "stdout",
     "output_type": "stream",
     "text": [
      "[1, 4, 9, 16, 25]\n"
     ]
    }
   ],
   "source": [
    "# Define a function to square a number\n",
    "def square(x):\n",
    "    return x ** 2\n",
    "\n",
    "# Create a list of numbers\n",
    "numbers = [1, 2, 3, 4, 5]\n",
    "\n",
    "# Use map() to square each element in the list\n",
    "squared_numbers = map(square, numbers)\n",
    "\n",
    "# Convert the map object to a list (optional)\n",
    "squared_numbers_list = list(squared_numbers)\n",
    "\n",
    "# Print the squared numbers\n",
    "print(squared_numbers_list)\n"
   ]
  },
  {
   "cell_type": "markdown",
   "id": "d4cebe19-2d86-415d-9155-1f2647ee7169",
   "metadata": {},
   "source": [
    "q.2"
   ]
  },
  {
   "cell_type": "code",
   "execution_count": 124,
   "id": "a306b73b-959b-42bb-8fd1-618a0c9ddf8c",
   "metadata": {},
   "outputs": [],
   "source": [
    "#You can create a Python program that uses the map() function to square each element of a list of numbers like this:"
   ]
  },
  {
   "cell_type": "code",
   "execution_count": 125,
   "id": "ae11bf74-c95a-44af-a4de-ef07afabae2d",
   "metadata": {},
   "outputs": [
    {
     "name": "stdout",
     "output_type": "stream",
     "text": [
      "[1, 4, 9, 16, 25]\n"
     ]
    }
   ],
   "source": [
    "# Define a function to square a number\n",
    "def square(x):\n",
    "    return x ** 2\n",
    "\n",
    "# Create a list of numbers\n",
    "numbers = [1, 2, 3, 4, 5]\n",
    "\n",
    "# Use map() to square each element in the list\n",
    "squared_numbers = map(square, numbers)\n",
    "\n",
    "# Convert the map object to a list (optional)\n",
    "squared_numbers_list = list(squared_numbers)\n",
    "\n",
    "# Print the squared numbers\n",
    "print(squared_numbers_list)\n"
   ]
  },
  {
   "cell_type": "markdown",
   "id": "aa7b1f7e-a907-4fc2-9ae2-99978897d2ca",
   "metadata": {},
   "source": [
    "q.3"
   ]
  },
  {
   "cell_type": "code",
   "execution_count": 126,
   "id": "ede1d5f3-13d6-42a3-bda6-43c031efe4ce",
   "metadata": {},
   "outputs": [],
   "source": [
    "#The map() function and list comprehensions in Python are both used to transform or process elements of an iterable, but they differ in their syntax and use cases. Here's a comparison of the two and when you might choose one over the other:"
   ]
  },
  {
   "cell_type": "code",
   "execution_count": 127,
   "id": "86b8175a-f1a2-473e-aa67-27f5113ba081",
   "metadata": {},
   "outputs": [],
   "source": [
    "#map() Function:\n",
    "\n",
    "#Syntax: The map() function takes a function and an iterable as arguments and applies the function to each element of the iterable. It returns a map object, which is an iterator. You often need to convert it into a list or another iterable type to see the results."
   ]
  },
  {
   "cell_type": "code",
   "execution_count": 129,
   "id": "df9233b1-fbee-48a0-b06e-a7de29f852c3",
   "metadata": {},
   "outputs": [
    {
     "ename": "NameError",
     "evalue": "name 'function' is not defined",
     "output_type": "error",
     "traceback": [
      "\u001b[0;31m---------------------------------------------------------------------------\u001b[0m",
      "\u001b[0;31mNameError\u001b[0m                                 Traceback (most recent call last)",
      "Cell \u001b[0;32mIn[129], line 1\u001b[0m\n\u001b[0;32m----> 1\u001b[0m \u001b[38;5;28mmap\u001b[39m(\u001b[43mfunction\u001b[49m, iterable)\n",
      "\u001b[0;31mNameError\u001b[0m: name 'function' is not defined"
     ]
    }
   ],
   "source": [
    "map(function, iterable)\n"
   ]
  },
  {
   "cell_type": "code",
   "execution_count": 130,
   "id": "054d4f23-7e26-488f-94f2-0e31a2dcdfa7",
   "metadata": {},
   "outputs": [],
   "source": [
    "#Use Case: map() is suitable for applying a function to each element of an iterable when you want to transform all elements in a straightforward manner.\n",
    "\n",
    "#Lazy Evaluation: The map() function performs lazy evaluation, meaning it generates values on-the-fly as needed, which can be memory-efficient for large datasets.\n",
    "\n",
    "#List Comprehensions:\n",
    "\n",
    "#Syntax: List comprehensions use a more concise and readable syntax to create a new list by applying an expression to each element of an iterable and filtering elements as needed."
   ]
  },
  {
   "cell_type": "code",
   "execution_count": 131,
   "id": "d9924ad0-ef67-45be-9234-809e1e51da05",
   "metadata": {},
   "outputs": [
    {
     "ename": "NameError",
     "evalue": "name 'iterable' is not defined",
     "output_type": "error",
     "traceback": [
      "\u001b[0;31m---------------------------------------------------------------------------\u001b[0m",
      "\u001b[0;31mNameError\u001b[0m                                 Traceback (most recent call last)",
      "Cell \u001b[0;32mIn[131], line 1\u001b[0m\n\u001b[0;32m----> 1\u001b[0m [expression \u001b[38;5;28;01mfor\u001b[39;00m element \u001b[38;5;129;01min\u001b[39;00m \u001b[43miterable\u001b[49m \u001b[38;5;28;01mif\u001b[39;00m condition]\n",
      "\u001b[0;31mNameError\u001b[0m: name 'iterable' is not defined"
     ]
    }
   ],
   "source": [
    "[expression for element in iterable if condition]\n"
   ]
  },
  {
   "cell_type": "markdown",
   "id": "8bedb507-7ad8-4958-915a-05772c1f1d0b",
   "metadata": {},
   "source": [
    "Use Case: List comprehensions are versatile and allow you to create a new list while applying a transformation and/or filtering elements based on conditions. They are often preferred when the goal is to generate a new list from an existing one with specific criteria.\n",
    "\n",
    "Eager Evaluation: List comprehensions perform eager evaluation, meaning they generate the entire list in memory before returning it. This can be less memory-efficient for large datasets compared to map() with lazy evaluation.\n",
    "\n",
    "When to Choose One Over the Other:\n",
    "\n",
    "Use map() When:\n",
    "\n",
    "You want to apply a specific function to each element in an iterable without any filtering or complex transformations.\n",
    "You're working with a function that doesn't require conditional logic or access to the element being processed.\n",
    "Lazy evaluation is desirable for memory efficiency, especially with large datasets.\n",
    "Use List Comprehensions When:\n",
    "\n",
    "You want to create a new list by applying a transformation to each element and optionally filtering elements based on conditions.\n",
    "You need more control over the transformation and filtering process.\n",
    "You want to write more readable and concise code when the operation involves both transformation and filtering.\n",
    "In summary, both map() and list comprehensions have their strengths and can be chosen based on the specific requirements of your task. List comprehensions are often favored for their readability and flexibility, especially when you need to perform more complex operations or combine transformation and filtering. On the other hand, map() can be a good choice for straightforward transformations without filtering and when memory efficiency is a concern.\n",
    "\n",
    "\n",
    "\n",
    "\n"
   ]
  },
  {
   "cell_type": "markdown",
   "id": "9b1c295d-96f8-4365-9888-55b75db89a96",
   "metadata": {},
   "source": [
    "q.4"
   ]
  },
  {
   "cell_type": "code",
   "execution_count": 132,
   "id": "9d5d6499-d20e-46f2-b4e0-d147c267ac99",
   "metadata": {},
   "outputs": [],
   "source": [
    "#You can create a Python program that uses the map() function to convert a list of names to uppercase like this:"
   ]
  },
  {
   "cell_type": "code",
   "execution_count": 133,
   "id": "9a25181f-052a-4ea7-85b5-fe3ec20b05f9",
   "metadata": {},
   "outputs": [
    {
     "name": "stdout",
     "output_type": "stream",
     "text": [
      "['ALICE', 'BOB', 'CHARLIE', 'DAVID']\n"
     ]
    }
   ],
   "source": [
    "# Create a list of names\n",
    "names = [\"Alice\", \"Bob\", \"Charlie\", \"David\"]\n",
    "\n",
    "# Define a function to convert a name to uppercase\n",
    "def convert_to_uppercase(name):\n",
    "    return name.upper()\n",
    "\n",
    "# Use map() to apply the conversion function to each name in the list\n",
    "uppercase_names = map(convert_to_uppercase, names)\n",
    "\n",
    "# Convert the map object to a list (optional)\n",
    "uppercase_names_list = list(uppercase_names)\n",
    "\n",
    "# Print the uppercase names\n",
    "print(uppercase_names_list)\n"
   ]
  },
  {
   "cell_type": "markdown",
   "id": "0579cac3-f8c2-46d0-a816-d57a6a57895a",
   "metadata": {},
   "source": [
    "q.5"
   ]
  },
  {
   "cell_type": "code",
   "execution_count": 134,
   "id": "0d1fa34d-e23a-4aa4-83eb-d2042947c292",
   "metadata": {},
   "outputs": [],
   "source": [
    "#You can create a Python program that uses the map() function to calculate the length of each word in a list of strings like this:"
   ]
  },
  {
   "cell_type": "code",
   "execution_count": 135,
   "id": "88ba1967-127c-4e2b-be70-59d20cca148c",
   "metadata": {},
   "outputs": [
    {
     "name": "stdout",
     "output_type": "stream",
     "text": [
      "[5, 5, 6, 11]\n"
     ]
    }
   ],
   "source": [
    "# Create a list of strings\n",
    "strings = [\"Hello\", \"world\", \"Python\", \"programming\"]\n",
    "\n",
    "# Define a function to calculate the length of a word\n",
    "def calculate_word_length(word):\n",
    "    return len(word)\n",
    "\n",
    "# Use map() to apply the function to each word in the list\n",
    "word_lengths = map(calculate_word_length, strings)\n",
    "\n",
    "# Convert the map object to a list (optional)\n",
    "word_lengths_list = list(word_lengths)\n",
    "\n",
    "# Print the word lengths\n",
    "print(word_lengths_list)\n"
   ]
  },
  {
   "cell_type": "markdown",
   "id": "05af3d61-2b66-4e1b-bd33-334de5de515c",
   "metadata": {},
   "source": [
    "q.6"
   ]
  },
  {
   "cell_type": "code",
   "execution_count": 136,
   "id": "c904db98-a63f-4e98-9889-038266334794",
   "metadata": {},
   "outputs": [],
   "source": [
    "#\n",
    "#To apply a custom function to elements of multiple lists simultaneously using the map() function in Python, you can use the zip() function to combine the lists into tuples, and then apply your custom function to these tuples. Here's how you can do it:"
   ]
  },
  {
   "cell_type": "code",
   "execution_count": 137,
   "id": "257da1f0-c18e-4b99-adc3-cdd4c8099190",
   "metadata": {},
   "outputs": [
    {
     "name": "stdout",
     "output_type": "stream",
     "text": [
      "[5, 7, 9]\n"
     ]
    }
   ],
   "source": [
    "# Create two or more lists\n",
    "list1 = [1, 2, 3]\n",
    "list2 = [4, 5, 6]\n",
    "\n",
    "# Define a custom function that takes multiple arguments\n",
    "def custom_function(x, y):\n",
    "    return x + y  # Replace with your custom logic\n",
    "\n",
    "# Use map() to apply the custom function to corresponding elements of the lists\n",
    "result = map(custom_function, list1, list2)\n",
    "\n",
    "# Convert the map object to a list (optional)\n",
    "result_list = list(result)\n",
    "\n",
    "# Print the result\n",
    "print(result_list)\n"
   ]
  },
  {
   "cell_type": "markdown",
   "id": "43e8fe32-80c1-4018-b515-101f316b9e91",
   "metadata": {},
   "source": [
    "q.7"
   ]
  },
  {
   "cell_type": "code",
   "execution_count": 138,
   "id": "cfcf27f2-2d02-45f2-927f-1d1a8ab6d8ff",
   "metadata": {},
   "outputs": [],
   "source": [
    "#You can create a Python program that uses map() to convert a list of temperatures from Celsius to Fahrenheit like this:"
   ]
  },
  {
   "cell_type": "code",
   "execution_count": 139,
   "id": "723821f9-4512-43a5-bf6a-54bcea43947c",
   "metadata": {},
   "outputs": [
    {
     "name": "stdout",
     "output_type": "stream",
     "text": [
      "[32.0, 77.0, 212.0, 14.0, 97.7]\n"
     ]
    }
   ],
   "source": [
    "# Create a list of temperatures in Celsius\n",
    "celsius_temperatures = [0, 25, 100, -10, 36.5]\n",
    "\n",
    "# Define a function to convert Celsius to Fahrenheit\n",
    "def celsius_to_fahrenheit(celsius):\n",
    "    return (celsius * 9/5) + 32\n",
    "\n",
    "# Use map() to apply the conversion function to each temperature in the list\n",
    "fahrenheit_temperatures = map(celsius_to_fahrenheit, celsius_temperatures)\n",
    "\n",
    "# Convert the map object to a list (optional)\n",
    "fahrenheit_temperatures_list = list(fahrenheit_temperatures)\n",
    "\n",
    "# Print the Fahrenheit temperatures\n",
    "print(fahrenheit_temperatures_list)\n"
   ]
  },
  {
   "cell_type": "markdown",
   "id": "3b52d80b-f0c6-40c9-b438-8491eb30c7dc",
   "metadata": {},
   "source": [
    "q.8"
   ]
  },
  {
   "cell_type": "code",
   "execution_count": 140,
   "id": "a9410d76-2b0c-4c18-a4ca-9f1b8d8208f3",
   "metadata": {},
   "outputs": [],
   "source": [
    "\n",
    "#You can create a Python program that uses the map() function to round each element of a list of floating-point numbers to the nearest integer like this:"
   ]
  },
  {
   "cell_type": "code",
   "execution_count": 141,
   "id": "027e2b7a-f0ba-4505-a0ff-5fbadb92dd4c",
   "metadata": {},
   "outputs": [
    {
     "name": "stdout",
     "output_type": "stream",
     "text": [
      "[3, 3, 2, 5, 8]\n"
     ]
    }
   ],
   "source": [
    "# Create a list of floating-point numbers\n",
    "float_numbers = [3.14, 2.718, 1.5, 4.9, 8.25]\n",
    "\n",
    "# Define a function to round a number to the nearest integer\n",
    "def round_to_integer(number):\n",
    "    return round(number)\n",
    "\n",
    "# Use map() to apply the rounding function to each element in the list\n",
    "rounded_integers = map(round_to_integer, float_numbers)\n",
    "\n",
    "# Convert the map object to a list (optional)\n",
    "rounded_integers_list = list(rounded_integers)\n",
    "\n",
    "# Print the rounded integers\n",
    "print(rounded_integers_list)\n"
   ]
  },
  {
   "cell_type": "code",
   "execution_count": 142,
   "id": "1822bd18-d051-4e10-abbd-d507802ff9b1",
   "metadata": {},
   "outputs": [],
   "source": [
    "# reduce"
   ]
  },
  {
   "cell_type": "markdown",
   "id": "e0184b69-0d6c-47c7-82b9-b28404292318",
   "metadata": {},
   "source": [
    "q.1"
   ]
  },
  {
   "cell_type": "code",
   "execution_count": 143,
   "id": "0c69e710-17c2-4053-b6d6-74d2d316411c",
   "metadata": {},
   "outputs": [],
   "source": [
    "#The reduce() function in Python is used to apply a specified function to the elements of an iterable (e.g., a list) in a cumulative way, reducing the iterable to a single accumulated result. The reduce() function is part of the functools module, so you should import this module to use it.\n",
    "\n",
    "#Here's the basic syntax of the reduce() function:"
   ]
  },
  {
   "cell_type": "code",
   "execution_count": 144,
   "id": "53685f0e-25d7-4ce2-b4be-a4d6799a0cd7",
   "metadata": {},
   "outputs": [
    {
     "name": "stdout",
     "output_type": "stream",
     "text": [
      "120\n"
     ]
    }
   ],
   "source": [
    "import functools\n",
    "\n",
    "# Create a list of numbers\n",
    "numbers = [1, 2, 3, 4, 5]\n",
    "\n",
    "# Define a custom function to calculate the product of two numbers\n",
    "def multiply(x, y):\n",
    "    return x * y\n",
    "\n",
    "# Use reduce() to find the product of all numbers in the list\n",
    "result = functools.reduce(multiply, numbers)\n",
    "\n",
    "# Print the result\n",
    "print(result)\n"
   ]
  },
  {
   "cell_type": "markdown",
   "id": "efe3673b-a456-4ac5-ba7c-48acde963789",
   "metadata": {},
   "source": [
    "q.2"
   ]
  },
  {
   "cell_type": "code",
   "execution_count": 145,
   "id": "3bbb7ff3-0cd6-4413-8448-6f9ffc850524",
   "metadata": {},
   "outputs": [],
   "source": [
    "#You can create a Python program that uses the reduce() function to find the product of all elements in a list like this:"
   ]
  },
  {
   "cell_type": "code",
   "execution_count": 146,
   "id": "9315b66b-a31a-47ab-aba5-f18b11647e9d",
   "metadata": {},
   "outputs": [
    {
     "name": "stdout",
     "output_type": "stream",
     "text": [
      "120\n"
     ]
    }
   ],
   "source": [
    "import functools\n",
    "\n",
    "# Create a list of numbers\n",
    "numbers = [1, 2, 3, 4, 5]\n",
    "\n",
    "# Define a custom function to calculate the product of two numbers\n",
    "def multiply(x, y):\n",
    "    return x * y\n",
    "\n",
    "# Use reduce() to find the product of all numbers in the list\n",
    "result = functools.reduce(multiply, numbers)\n",
    "\n",
    "# Print the result\n",
    "print(result)\n"
   ]
  },
  {
   "cell_type": "markdown",
   "id": "82f97f2c-2b88-473e-94c1-7720e3f52187",
   "metadata": {},
   "source": [
    "q.3"
   ]
  },
  {
   "cell_type": "code",
   "execution_count": 147,
   "id": "67ce30c4-4ea2-4d33-ac19-39c5340b01ea",
   "metadata": {},
   "outputs": [],
   "source": [
    "#You can create a Python program that uses the reduce() function to find the maximum element in a list of numbers like this:"
   ]
  },
  {
   "cell_type": "code",
   "execution_count": 148,
   "id": "359f0114-b1ca-4ac6-a670-e9c7ce0d0e08",
   "metadata": {},
   "outputs": [
    {
     "name": "stdout",
     "output_type": "stream",
     "text": [
      "90\n"
     ]
    }
   ],
   "source": [
    "import functools\n",
    "\n",
    "# Create a list of numbers\n",
    "numbers = [12, 45, 6, 78, 90, 34, 56, 89]\n",
    "\n",
    "# Define a custom function to find the maximum of two numbers\n",
    "def find_maximum(x, y):\n",
    "    return max(x, y)\n",
    "\n",
    "# Use reduce() to find the maximum element in the list\n",
    "max_number = functools.reduce(find_maximum, numbers)\n",
    "\n",
    "# Print the maximum number\n",
    "print(max_number)\n"
   ]
  },
  {
   "cell_type": "markdown",
   "id": "3f267b04-9deb-4fe9-a012-925cd95ab47f",
   "metadata": {},
   "source": [
    "q.4"
   ]
  },
  {
   "cell_type": "code",
   "execution_count": 149,
   "id": "3674c888-770a-486b-b767-6a4dc7a8aeab",
   "metadata": {},
   "outputs": [],
   "source": [
    "#You can use the reduce() function to concatenate a list of strings into a single string in Python. To do this, you need to define a custom function that concatenates two strings and use reduce() to apply this function cumulatively to the elements of the list. Here's an example:"
   ]
  },
  {
   "cell_type": "code",
   "execution_count": 150,
   "id": "1143082c-822e-48f5-b0c9-5707c137c0cb",
   "metadata": {},
   "outputs": [
    {
     "name": "stdout",
     "output_type": "stream",
     "text": [
      "Hello, world!\n"
     ]
    }
   ],
   "source": [
    "import functools\n",
    "\n",
    "# Create a list of strings\n",
    "strings = [\"Hello\", \", \", \"world\", \"!\"]\n",
    "\n",
    "# Define a custom function to concatenate two strings\n",
    "def concatenate_strings(x, y):\n",
    "    return x + y\n",
    "\n",
    "# Use reduce() to concatenate the list of strings into a single string\n",
    "concatenated_string = functools.reduce(concatenate_strings, strings)\n",
    "\n",
    "# Print the concatenated string\n",
    "print(concatenated_string)\n"
   ]
  },
  {
   "cell_type": "markdown",
   "id": "3781228e-5b6f-4453-8d11-6c3f98690e0e",
   "metadata": {},
   "source": [
    "q.5"
   ]
  },
  {
   "cell_type": "code",
   "execution_count": 151,
   "id": "7dc98122-e775-4463-adac-b31ab3212754",
   "metadata": {},
   "outputs": [],
   "source": [
    "#You can create a Python program that calculates the factorial of a number using the reduce() function like this:"
   ]
  },
  {
   "cell_type": "code",
   "execution_count": 152,
   "id": "f6558726-a1de-4d33-b223-5b69f895f590",
   "metadata": {},
   "outputs": [
    {
     "name": "stdin",
     "output_type": "stream",
     "text": [
      "Enter a number:  20\n"
     ]
    },
    {
     "name": "stdout",
     "output_type": "stream",
     "text": [
      "The factorial of 20 is 2432902008176640000\n"
     ]
    }
   ],
   "source": [
    "import functools\n",
    "\n",
    "# Define a function to calculate the factorial of a number\n",
    "def calculate_factorial(x, y):\n",
    "    return x * y\n",
    "\n",
    "# Input: Get the number for which to calculate the factorial\n",
    "n = int(input(\"Enter a number: \"))\n",
    "\n",
    "# Create a list of numbers from 1 to n\n",
    "numbers = list(range(1, n + 1))\n",
    "\n",
    "# Use reduce() to calculate the factorial\n",
    "factorial = functools.reduce(calculate_factorial, numbers, 1)\n",
    "\n",
    "# Print the factorial\n",
    "print(f\"The factorial of {n} is {factorial}\")\n"
   ]
  },
  {
   "cell_type": "markdown",
   "id": "f3890f0a-6844-4f23-a1fa-763815b01746",
   "metadata": {},
   "source": [
    "q.6"
   ]
  },
  {
   "cell_type": "code",
   "execution_count": 153,
   "id": "1f4514e8-a49f-4877-8f2f-c1e4419e2fa4",
   "metadata": {},
   "outputs": [],
   "source": [
    "#To find the Greatest Common Divisor (GCD) of a list of numbers using the reduce() function in Python, you can use the math.gcd() function as the combining function. Here's a program that demonstrates this:"
   ]
  },
  {
   "cell_type": "code",
   "execution_count": 154,
   "id": "689f4e3b-36b5-476c-a0bc-51452fc4be06",
   "metadata": {},
   "outputs": [
    {
     "name": "stdout",
     "output_type": "stream",
     "text": [
      "The GCD of [12, 18, 24, 36] is 6\n"
     ]
    }
   ],
   "source": [
    "import functools\n",
    "import math\n",
    "\n",
    "# Create a list of numbers for which to find the GCD\n",
    "numbers = [12, 18, 24, 36]\n",
    "\n",
    "# Use reduce() and math.gcd() to find the GCD of the numbers\n",
    "gcd_result = functools.reduce(math.gcd, numbers)\n",
    "\n",
    "# Print the GCD\n",
    "print(f\"The GCD of {numbers} is {gcd_result}\")\n"
   ]
  },
  {
   "cell_type": "markdown",
   "id": "2a4a5afa-4137-4b1e-95c7-19830547aa25",
   "metadata": {},
   "source": [
    "q.7"
   ]
  },
  {
   "cell_type": "code",
   "execution_count": 155,
   "id": "e4c4a5c6-1fc3-45cb-88c0-38eaf5b97605",
   "metadata": {},
   "outputs": [],
   "source": [
    "#You can create a Python program that uses the reduce() function to find the sum of the digits of a given number like this:"
   ]
  },
  {
   "cell_type": "code",
   "execution_count": 156,
   "id": "8ff88633-9ca2-41d9-a090-6d444746b0fc",
   "metadata": {},
   "outputs": [
    {
     "name": "stdin",
     "output_type": "stream",
     "text": [
      "Enter a number:  20\n"
     ]
    },
    {
     "name": "stdout",
     "output_type": "stream",
     "text": [
      "The sum of digits in 20 is 2\n"
     ]
    }
   ],
   "source": [
    "import functools\n",
    "\n",
    "# Define a function to add two digits\n",
    "def add_digits(x, y):\n",
    "    return x + y\n",
    "\n",
    "# Input: Get the number for which to calculate the sum of digits\n",
    "number = int(input(\"Enter a number: \"))\n",
    "\n",
    "# Convert the number to a list of its digits as integers\n",
    "digits = [int(digit) for digit in str(abs(number))]\n",
    "\n",
    "# Use reduce() to find the sum of the digits\n",
    "sum_of_digits = functools.reduce(add_digits, digits, 0)\n",
    "\n",
    "# Print the sum of digits\n",
    "print(f\"The sum of digits in {number} is {sum_of_digits}\")\n"
   ]
  },
  {
   "cell_type": "code",
   "execution_count": 157,
   "id": "5cfe60cd-60c1-4544-865e-d8d9998d4475",
   "metadata": {},
   "outputs": [],
   "source": [
    "#filter"
   ]
  },
  {
   "cell_type": "markdown",
   "id": "f441d3d7-a2ee-435a-91ab-02559abfba28",
   "metadata": {},
   "source": [
    "q.1"
   ]
  },
  {
   "cell_type": "code",
   "execution_count": 158,
   "id": "c26555bb-5497-4879-b871-ee6e50cfa995",
   "metadata": {},
   "outputs": [],
   "source": [
    "#The filter() function in Python is used to filter elements from an iterable (such as a list, tuple, or other iterable objects) based on a specified condition or predicate function. It returns an iterator containing only the elements for which the condition is True. In essence, it allows you to selectively include or exclude elements from the original iterable based on a given criterion.\n",
    "\n",
    "#The basic syntax of the filter() function is as follows:"
   ]
  },
  {
   "cell_type": "code",
   "execution_count": 159,
   "id": "c32029f6-3656-4405-8af8-824ab654bafa",
   "metadata": {},
   "outputs": [
    {
     "name": "stdout",
     "output_type": "stream",
     "text": [
      "[2, 4, 6, 8, 10]\n"
     ]
    }
   ],
   "source": [
    "# Define a function to check if a number is even\n",
    "def is_even(x):\n",
    "    return x % 2 == 0\n",
    "\n",
    "# Create a list of numbers\n",
    "numbers = [1, 2, 3, 4, 5, 6, 7, 8, 9, 10]\n",
    "\n",
    "# Use filter() to filter even numbers from the list\n",
    "even_numbers = filter(is_even, numbers)\n",
    "\n",
    "# Convert the filter object to a list (optional)\n",
    "even_numbers_list = list(even_numbers)\n",
    "\n",
    "# Print the even numbers\n",
    "print(even_numbers_list)\n"
   ]
  },
  {
   "cell_type": "markdown",
   "id": "ecc6c9aa-570d-4af0-b0f3-a03ecf68f380",
   "metadata": {},
   "source": [
    "q.2"
   ]
  },
  {
   "cell_type": "code",
   "execution_count": 160,
   "id": "7959099d-5dd6-49e6-9ab7-9440aae552aa",
   "metadata": {},
   "outputs": [],
   "source": [
    "#You can create a Python program that uses the filter() function to select even numbers from a list of integers like this:"
   ]
  },
  {
   "cell_type": "code",
   "execution_count": 161,
   "id": "9779e5b3-1919-42e7-87ff-c380aff16e3a",
   "metadata": {},
   "outputs": [
    {
     "name": "stdout",
     "output_type": "stream",
     "text": [
      "[2, 4, 6, 8, 10]\n"
     ]
    }
   ],
   "source": [
    "# Define a function to check if a number is even\n",
    "def is_even(x):\n",
    "    return x % 2 == 0\n",
    "\n",
    "# Create a list of numbers\n",
    "numbers = [1, 2, 3, 4, 5, 6, 7, 8, 9, 10]\n",
    "\n",
    "# Use filter() to select even numbers from the list\n",
    "even_numbers = filter(is_even, numbers)\n",
    "\n",
    "# Convert the filter object to a list (optional)\n",
    "even_numbers_list = list(even_numbers)\n",
    "\n",
    "# Print the even numbers\n",
    "print(even_numbers_list)\n"
   ]
  },
  {
   "cell_type": "markdown",
   "id": "d0445477-ffe1-485e-a767-5fadf46fb361",
   "metadata": {},
   "source": [
    "q.3"
   ]
  },
  {
   "cell_type": "code",
   "execution_count": 162,
   "id": "32fb28b0-a07c-489f-9dee-58f50aa01bd2",
   "metadata": {},
   "outputs": [],
   "source": [
    "#You can create a Python program that uses the filter() function to select names that start with a specific letter from a list of strings like this:"
   ]
  },
  {
   "cell_type": "code",
   "execution_count": 163,
   "id": "58df86fc-a829-4fd3-a480-72513803e633",
   "metadata": {},
   "outputs": [
    {
     "name": "stdout",
     "output_type": "stream",
     "text": [
      "['David']\n"
     ]
    }
   ],
   "source": [
    "# Define a function to check if a name starts with a specific letter\n",
    "def starts_with_letter(letter, name):\n",
    "    return name.startswith(letter)\n",
    "\n",
    "# Create a list of names\n",
    "names = [\"Alice\", \"Bob\", \"Charlie\", \"David\", \"Eva\", \"Frank\"]\n",
    "\n",
    "# Specify the letter you want to filter by\n",
    "letter_to_filter = \"D\"\n",
    "\n",
    "# Use filter() to select names that start with the specified letter\n",
    "filtered_names = filter(lambda name: starts_with_letter(letter_to_filter, name), names)\n",
    "\n",
    "# Convert the filter object to a list (optional)\n",
    "filtered_names_list = list(filtered_names)\n",
    "\n",
    "# Print the filtered names\n",
    "print(filtered_names_list)\n"
   ]
  },
  {
   "cell_type": "markdown",
   "id": "cf299d92-d131-4e5f-b58b-269417de7a3f",
   "metadata": {},
   "source": [
    "q.4"
   ]
  },
  {
   "cell_type": "code",
   "execution_count": 164,
   "id": "849a86b4-486f-481b-8cf2-8ef764b4cee7",
   "metadata": {},
   "outputs": [],
   "source": [
    "#You can create a Python program that uses the filter() function to select prime numbers from a list of integers like this:"
   ]
  },
  {
   "cell_type": "code",
   "execution_count": 165,
   "id": "4ccf1171-a75a-46be-89db-c7785c1fbd66",
   "metadata": {},
   "outputs": [
    {
     "name": "stdout",
     "output_type": "stream",
     "text": [
      "[2, 3, 5, 7, 11, 13, 17, 19, 23]\n"
     ]
    }
   ],
   "source": [
    "# Define a function to check if a number is prime\n",
    "def is_prime(n):\n",
    "    if n <= 1:\n",
    "        return False\n",
    "    elif n <= 3:\n",
    "        return True\n",
    "    elif n % 2 == 0 or n % 3 == 0:\n",
    "        return False\n",
    "    i = 5\n",
    "    while i * i <= n:\n",
    "        if n % i == 0 or n % (i + 2) == 0:\n",
    "            return False\n",
    "        i += 6\n",
    "    return True\n",
    "\n",
    "# Create a list of numbers\n",
    "numbers = [2, 3, 5, 7, 9, 11, 13, 14, 17, 19, 23]\n",
    "\n",
    "# Use filter() to select prime numbers from the list\n",
    "prime_numbers = filter(is_prime, numbers)\n",
    "\n",
    "# Convert the filter object to a list (optional)\n",
    "prime_numbers_list = list(prime_numbers)\n",
    "\n",
    "# Print the prime numbers\n",
    "print(prime_numbers_list)\n"
   ]
  },
  {
   "cell_type": "markdown",
   "id": "c3684042-b245-40d5-b164-80da1989f1b3",
   "metadata": {},
   "source": [
    "q.5"
   ]
  },
  {
   "cell_type": "code",
   "execution_count": 166,
   "id": "0a71bc8c-b187-4918-ae7a-87b702ef580a",
   "metadata": {},
   "outputs": [],
   "source": [
    "#You can use the filter() function to remove None values from a list in Python by providing a filtering function that excludes None values. Here's an example:"
   ]
  },
  {
   "cell_type": "code",
   "execution_count": 167,
   "id": "f24dbf48-4e46-4555-b0a5-082aba285ba4",
   "metadata": {},
   "outputs": [
    {
     "name": "stdout",
     "output_type": "stream",
     "text": [
      "[1, 2, 3, 4, 5]\n"
     ]
    }
   ],
   "source": [
    "# Create a list with some None values\n",
    "values = [1, 2, None, 3, None, 4, 5, None]\n",
    "\n",
    "# Use filter() to remove None values\n",
    "filtered_values = filter(lambda x: x is not None, values)\n",
    "\n",
    "# Convert the filter object to a list (optional)\n",
    "filtered_values_list = list(filtered_values)\n",
    "\n",
    "# Print the list without None values\n",
    "print(filtered_values_list)\n"
   ]
  },
  {
   "cell_type": "markdown",
   "id": "58d96dc4-7964-4244-81ef-38961589152a",
   "metadata": {},
   "source": [
    "q.6"
   ]
  },
  {
   "cell_type": "code",
   "execution_count": 168,
   "id": "38b94eff-4589-45c6-9f05-cf3ab14e5239",
   "metadata": {},
   "outputs": [],
   "source": [
    "#You can create a Python program that uses the filter() function to select words longer than a certain length from a list of strings like this:"
   ]
  },
  {
   "cell_type": "code",
   "execution_count": 169,
   "id": "f8bc122c-4d23-4e76-b265-4c00d9f1fe66",
   "metadata": {},
   "outputs": [
    {
     "name": "stdout",
     "output_type": "stream",
     "text": [
      "['banana', 'cherry', 'elderberry']\n"
     ]
    }
   ],
   "source": [
    "# Define a function to check if a word is longer than a specified length\n",
    "def is_long_word(word, length):\n",
    "    return len(word) > length\n",
    "\n",
    "# Create a list of words\n",
    "words = [\"apple\", \"banana\", \"cherry\", \"date\", \"elderberry\", \"fig\", \"grape\"]\n",
    "\n",
    "# Specify the minimum word length to filter by\n",
    "min_length = 5\n",
    "\n",
    "# Use filter() to select words longer than the specified length\n",
    "long_words = filter(lambda word: is_long_word(word, min_length), words)\n",
    "\n",
    "# Convert the filter object to a list (optional)\n",
    "long_words_list = list(long_words)\n",
    "\n",
    "# Print the long words\n",
    "print(long_words_list)\n"
   ]
  },
  {
   "cell_type": "markdown",
   "id": "ce18976a-508e-48db-a1d5-8fb337343680",
   "metadata": {},
   "source": [
    "q.7"
   ]
  },
  {
   "cell_type": "code",
   "execution_count": 170,
   "id": "9f9619f7-6967-4b2d-8c10-b8cb775ee6be",
   "metadata": {},
   "outputs": [],
   "source": [
    "#You can create a Python program that uses the filter() function to select elements greater than a specified threshold from a list of values like this:"
   ]
  },
  {
   "cell_type": "code",
   "execution_count": 171,
   "id": "a95f602a-a9a5-456b-b17e-fa7602955dc7",
   "metadata": {},
   "outputs": [
    {
     "name": "stdout",
     "output_type": "stream",
     "text": [
      "[12, 19, 25, 15]\n"
     ]
    }
   ],
   "source": [
    "# Define a function to check if a value is greater than a specified threshold\n",
    "def is_greater_than_threshold(value, threshold):\n",
    "    return value > threshold\n",
    "\n",
    "# Create a list of values\n",
    "values = [12, 5, 8, 19, 25, 3, 10, 7, 15]\n",
    "\n",
    "# Specify the threshold to filter by\n",
    "threshold = 10\n",
    "\n",
    "# Use filter() to select values greater than the specified threshold\n",
    "filtered_values = filter(lambda value: is_greater_than_threshold(value, threshold), values)\n",
    "\n",
    "# Convert the filter object to a list (optional)\n",
    "filtered_values_list = list(filtered_values)\n",
    "\n",
    "# Print the filtered values\n",
    "print(filtered_values_list)\n"
   ]
  },
  {
   "cell_type": "code",
   "execution_count": 172,
   "id": "b6b4239a-b414-421c-827d-efde0c2027cb",
   "metadata": {},
   "outputs": [],
   "source": [
    "#recursion"
   ]
  },
  {
   "cell_type": "markdown",
   "id": "78d3515c-bbbb-417e-b414-07cf669a551f",
   "metadata": {},
   "source": [
    "q.1"
   ]
  },
  {
   "cell_type": "code",
   "execution_count": 173,
   "id": "69ea065c-bf53-4dfa-9c4f-0439be8e9ce6",
   "metadata": {},
   "outputs": [],
   "source": [
    "#Recursion and iteration are two fundamental concepts in computer programming used for repetitive tasks. Both recursion and iteration involve repeatedly executing a block of code, but they differ in how they achieve this repetition.\n",
    "\n",
    "#Recursion in Python refers to the technique where a function calls itself in order to solve a problem. When a function calls itself, it divides the problem into smaller subproblems until a base case is reached, at which point the recursion \"unwinds\" and the solutions to the subproblems are combined to solve the original problem. Recursion is typically used for problems that can be divided into smaller, similar subproblems, such as those encountered in divide-and-conquer algorithms, tree traversal, and some mathematical problems.\n",
    "\n",
    "#Here's a simple example of a recursive function to calculate the factorial of a number:"
   ]
  },
  {
   "cell_type": "code",
   "execution_count": 174,
   "id": "180a7865-9933-410d-8b50-a69420cf5ad7",
   "metadata": {},
   "outputs": [],
   "source": [
    "def factorial(n):\n",
    "    if n == 0:\n",
    "        return 1\n",
    "    else:\n",
    "        return n * factorial(n - 1)\n"
   ]
  },
  {
   "cell_type": "code",
   "execution_count": 175,
   "id": "d3b162c4-6361-4853-a62b-ba14254c96bc",
   "metadata": {},
   "outputs": [],
   "source": [
    "#Iteration, on the other hand, is a repetitive control flow structure where a block of code is executed repeatedly for a specific number of times or until a condition is met. Iteration is typically achieved using loops, such as for loops and while loops, which allow you to specify the number of repetitions or the condition for termination.\n",
    "\n",
    "#Here's an example of an iterative for loop to calculate the factorial of a number:"
   ]
  },
  {
   "cell_type": "code",
   "execution_count": 176,
   "id": "2537d282-3c10-4e9f-90f0-3d0a4eb119fa",
   "metadata": {},
   "outputs": [],
   "source": [
    "def factorial(n):\n",
    "    result = 1\n",
    "    for i in range(1, n + 1):\n",
    "        result *= i\n",
    "    return result\n"
   ]
  },
  {
   "cell_type": "markdown",
   "id": "f04d43d0-f15e-49a9-bcf8-7c75aad2f81c",
   "metadata": {},
   "source": [
    "Key Differences:\n",
    "\n",
    "Control Flow: Recursion uses a function calling itself for repetition, while iteration uses loop constructs like for and while.\n",
    "\n",
    "Termination: In recursion, termination is typically based on reaching a base case (a condition that doesn't require further recursion). In iteration, termination is determined by a loop condition or a fixed number of iterations.\n",
    "\n",
    "Memory Usage: Recursion may consume more memory due to the function call stack, potentially leading to a stack overflow error for deeply nested recursive calls. Iteration generally uses a fixed amount of memory.\n",
    "\n",
    "Readability: Recursion can make code more concise and elegant for certain problems, but it can be harder to understand for some programmers compared to iterative solutions.\n",
    "\n",
    "Performance: In some cases, recursion may have a performance overhead due to function call overhead, while iteration is usually more efficient.\n",
    "\n",
    "The choice between recursion and iteration depends on the problem at hand and the programming style you prefer. Some problems are naturally suited to one approach or the other, and in some cases, you can choose the one that makes your code clearer and more maintainable."
   ]
  },
  {
   "cell_type": "markdown",
   "id": "42b69acb-3300-4f43-9f2d-676f9aa61b6c",
   "metadata": {},
   "source": [
    "q.2"
   ]
  },
  {
   "cell_type": "code",
   "execution_count": 177,
   "id": "0c6b18de-832d-482b-a43b-03d25b5548a2",
   "metadata": {},
   "outputs": [],
   "source": [
    "#You can write a Python program to calculate the factorial of a number using recursion like this:"
   ]
  },
  {
   "cell_type": "code",
   "execution_count": 178,
   "id": "f6148b74-5d0f-488d-b65c-1499f5c3bbcd",
   "metadata": {},
   "outputs": [
    {
     "name": "stdin",
     "output_type": "stream",
     "text": [
      "Enter a number:  20\n"
     ]
    },
    {
     "name": "stdout",
     "output_type": "stream",
     "text": [
      "The factorial of 20 is 2432902008176640000\n"
     ]
    }
   ],
   "source": [
    "def factorial(n):\n",
    "    if n == 0:\n",
    "        return 1\n",
    "    else:\n",
    "        return n * factorial(n - 1)\n",
    "\n",
    "# Input: Get the number for which to calculate the factorial\n",
    "n = int(input(\"Enter a number: \"))\n",
    "\n",
    "if n < 0:\n",
    "    print(\"Factorial is not defined for negative numbers.\")\n",
    "else:\n",
    "    result = factorial(n)\n",
    "    print(f\"The factorial of {n} is {result}\")\n"
   ]
  },
  {
   "cell_type": "markdown",
   "id": "f2ee7d4c-cb58-4128-a1d2-acbc24d3b1a9",
   "metadata": {},
   "source": [
    "q.3"
   ]
  },
  {
   "cell_type": "code",
   "execution_count": 179,
   "id": "bd80cf17-4ad8-4f04-9ed1-935d387adcbd",
   "metadata": {},
   "outputs": [],
   "source": [
    "#You can create a recursive Python function to find the nth Fibonacci number like this:"
   ]
  },
  {
   "cell_type": "code",
   "execution_count": 180,
   "id": "17828cb7-45f6-4ca9-b925-e8bc5ba0b2f7",
   "metadata": {},
   "outputs": [
    {
     "name": "stdin",
     "output_type": "stream",
     "text": [
      "Enter a non-negative integer (n):  5\n"
     ]
    },
    {
     "name": "stdout",
     "output_type": "stream",
     "text": [
      "The 5-th Fibonacci number is 5\n"
     ]
    }
   ],
   "source": [
    "def fibonacci(n):\n",
    "    if n <= 0:\n",
    "        return 0\n",
    "    elif n == 1:\n",
    "        return 1\n",
    "    else:\n",
    "        return fibonacci(n - 1) + fibonacci(n - 2)\n",
    "\n",
    "# Input: Get the value of n\n",
    "n = int(input(\"Enter a non-negative integer (n): \"))\n",
    "\n",
    "if n < 0:\n",
    "    print(\"Please enter a non-negative integer.\")\n",
    "else:\n",
    "    result = fibonacci(n)\n",
    "    print(f\"The {n}-th Fibonacci number is {result}\")\n"
   ]
  },
  {
   "cell_type": "markdown",
   "id": "1139a416-47ee-409c-a85d-dd77c8620267",
   "metadata": {},
   "source": [
    "q.4"
   ]
  },
  {
   "cell_type": "code",
   "execution_count": 181,
   "id": "d0391635-dbb7-4b82-aafe-a894a4946089",
   "metadata": {},
   "outputs": [],
   "source": [
    "#You can create a recursive Python function to calculate the sum of all elements in a list like this:"
   ]
  },
  {
   "cell_type": "code",
   "execution_count": 182,
   "id": "8db0bbd2-5ae6-4ed3-94a9-e902abb575b1",
   "metadata": {},
   "outputs": [
    {
     "name": "stdin",
     "output_type": "stream",
     "text": [
      "Enter a list of numbers separated by spaces:  5\n"
     ]
    },
    {
     "name": "stdout",
     "output_type": "stream",
     "text": [
      "The sum of the elements in the list is: 5\n"
     ]
    }
   ],
   "source": [
    "def recursive_sum(lst):\n",
    "    if not lst:\n",
    "        return 0\n",
    "    else:\n",
    "        # Take the first element, add it to the sum of the rest of the elements\n",
    "        return lst[0] + recursive_sum(lst[1:])\n",
    "\n",
    "# Input: Get a list of numbers from the user\n",
    "input_str = input(\"Enter a list of numbers separated by spaces: \")\n",
    "numbers = [int(x) for x in input_str.split()]\n",
    "\n",
    "result = recursive_sum(numbers)\n",
    "print(f\"The sum of the elements in the list is: {result}\")\n"
   ]
  },
  {
   "cell_type": "markdown",
   "id": "9952cc93-13fc-43a3-8fdd-fd3fc16988d1",
   "metadata": {},
   "source": [
    "q.5"
   ]
  },
  {
   "cell_type": "code",
   "execution_count": 183,
   "id": "3231bcd1-693f-40d6-ab73-440ea24fca35",
   "metadata": {},
   "outputs": [],
   "source": [
    "#To prevent a recursive function from running indefinitely and causing a stack overflow error, you can implement the following strategies:\n",
    "\n",
    "#Base Case: Ensure that your recursive function has a well-defined base case or termination condition. The base case defines when the recursion should stop. Without a proper base case, the recursion will continue indefinitely.\n",
    "\n",
    "#Progress Toward Base Case: Ensure that with each recursive call, you make progress toward the base case. In other words, the input to the recursive function should get closer to the base case with each recursive call. This guarantees that the recursion will eventually reach the base case.\n",
    "\n",
    "#Input Validation: Check and validate input parameters before starting the recursive calls. Ensure that the inputs are within valid and expected ranges or conditions. If an invalid input is detected, return an appropriate result or raise an exception rather than starting the recursion.\n",
    "\n",
    "#Limit Recursive Depth: In some cases, you may want to limit the depth of recursion explicitly. You can do this by introducing a depth counter or limit and checking it with each recursive call. If the limit is reached, you can stop further recursion.\n",
    "\n",
    "#Here's an example of a recursive function to calculate the factorial of a number with input validation and a base case:"
   ]
  },
  {
   "cell_type": "code",
   "execution_count": 184,
   "id": "863f1a84-f3f8-4b0c-add6-7b789eefacd2",
   "metadata": {},
   "outputs": [],
   "source": [
    "def factorial(n):\n",
    "    # Input validation\n",
    "    if n < 0:\n",
    "        raise ValueError(\"Factorial is not defined for negative numbers.\")\n",
    "    \n",
    "    # Base case\n",
    "    if n == 0:\n",
    "        return 1\n",
    "    \n",
    "    # Recursive case\n",
    "    return n * factorial(n - 1)\n"
   ]
  },
  {
   "cell_type": "markdown",
   "id": "222bf4c3-c4d9-4d53-b6ec-bc22b73a39dd",
   "metadata": {},
   "source": [
    "q.6"
   ]
  },
  {
   "cell_type": "code",
   "execution_count": 185,
   "id": "337f17e0-d7b6-4ab7-a84a-dbc738d1a19c",
   "metadata": {},
   "outputs": [],
   "source": [
    "#You can create a recursive Python function to find the greatest common divisor (GCD) of two numbers using the Euclidean algorithm like this"
   ]
  },
  {
   "cell_type": "code",
   "execution_count": 186,
   "id": "47497deb-e134-4c4a-8495-58e1b1072942",
   "metadata": {},
   "outputs": [
    {
     "name": "stdin",
     "output_type": "stream",
     "text": [
      "Enter the first number:  20\n",
      "Enter the second number:  12\n"
     ]
    },
    {
     "name": "stdout",
     "output_type": "stream",
     "text": [
      "The GCD of 20 and 12 is 4\n"
     ]
    }
   ],
   "source": [
    "def gcd(a, b):\n",
    "    if b == 0:\n",
    "        return a\n",
    "    else:\n",
    "        return gcd(b, a % b)\n",
    "\n",
    "# Input: Get two numbers from the user\n",
    "num1 = int(input(\"Enter the first number: \"))\n",
    "num2 = int(input(\"Enter the second number: \"))\n",
    "\n",
    "result = gcd(num1, num2)\n",
    "print(f\"The GCD of {num1} and {num2} is {result}\")\n"
   ]
  },
  {
   "cell_type": "markdown",
   "id": "8e291664-3f10-40e5-ba7f-fd058bc68cc9",
   "metadata": {},
   "source": [
    "q.7"
   ]
  },
  {
   "cell_type": "code",
   "execution_count": 187,
   "id": "079e92c5-1e82-4d13-bd94-a6fd607f67f3",
   "metadata": {},
   "outputs": [],
   "source": [
    "#You can create a recursive Python function to reverse a string like this:"
   ]
  },
  {
   "cell_type": "code",
   "execution_count": 188,
   "id": "ea7814a2-9aaa-4740-9382-c5c8727879dd",
   "metadata": {},
   "outputs": [
    {
     "name": "stdin",
     "output_type": "stream",
     "text": [
      "Enter a string:  mohit is good boy\n"
     ]
    },
    {
     "name": "stdout",
     "output_type": "stream",
     "text": [
      "The reversed string is: yob doog si tihom\n"
     ]
    }
   ],
   "source": [
    "def reverse_string(s):\n",
    "    # Base case: If the string is empty or has only one character, return it as is\n",
    "    if len(s) <= 1:\n",
    "        return s\n",
    "    else:\n",
    "        # Recursive case: Reverse the substring excluding the first character,\n",
    "        # and concatenate the first character at the end.\n",
    "        return reverse_string(s[1:]) + s[0]\n",
    "\n",
    "# Input: Get a string from the user\n",
    "input_str = input(\"Enter a string: \")\n",
    "\n",
    "result = reverse_string(input_str)\n",
    "print(f\"The reversed string is: {result}\")\n"
   ]
  },
  {
   "cell_type": "markdown",
   "id": "5b24b612-36ba-4dca-bde1-9336a8fa1fda",
   "metadata": {},
   "source": [
    "q.8"
   ]
  },
  {
   "cell_type": "code",
   "execution_count": 189,
   "id": "bf357645-ed34-496b-9b55-a4c59dbb574d",
   "metadata": {},
   "outputs": [],
   "source": [
    "#You can create a recursive Python function to calculate the power of a number (x^n) like this:"
   ]
  },
  {
   "cell_type": "code",
   "execution_count": 190,
   "id": "fb9f3d40-0287-49db-843a-e4840e3556b5",
   "metadata": {},
   "outputs": [
    {
     "name": "stdin",
     "output_type": "stream",
     "text": [
      "Enter the base (x):  5\n",
      "Enter the exponent (n):  6\n"
     ]
    },
    {
     "name": "stdout",
     "output_type": "stream",
     "text": [
      "5.0 raised to the power 6 is 15625.0\n"
     ]
    }
   ],
   "source": [
    "def power(x, n):\n",
    "    if n == 0:\n",
    "        return 1\n",
    "    elif n < 0:\n",
    "        return 1 / power(x, -n)\n",
    "    else:\n",
    "        return x * power(x, n - 1)\n",
    "\n",
    "# Input: Get the base (x) and exponent (n) from the user\n",
    "x = float(input(\"Enter the base (x): \"))\n",
    "n = int(input(\"Enter the exponent (n): \"))\n",
    "\n",
    "result = power(x, n)\n",
    "print(f\"{x} raised to the power {n} is {result}\")\n"
   ]
  },
  {
   "cell_type": "markdown",
   "id": "64441e13-87bd-4c01-9a33-84131aa149ee",
   "metadata": {},
   "source": [
    "q.9"
   ]
  },
  {
   "cell_type": "code",
   "execution_count": 191,
   "id": "af7b6c15-e547-4099-af42-1fb8d0a14f6b",
   "metadata": {},
   "outputs": [],
   "source": [
    "#You can create a recursive Python function to find all permutations of a given string using the following code:"
   ]
  },
  {
   "cell_type": "code",
   "execution_count": 192,
   "id": "3049e65c-ab9d-4733-8da2-98fefa068767",
   "metadata": {},
   "outputs": [
    {
     "name": "stdin",
     "output_type": "stream",
     "text": [
      "Enter a string:  mohit\n"
     ]
    },
    {
     "name": "stdout",
     "output_type": "stream",
     "text": [
      "All permutations of the string:\n",
      "mohit\n",
      "mohti\n",
      "moiht\n",
      "moith\n",
      "mothi\n",
      "motih\n",
      "mhoit\n",
      "mhoti\n",
      "mhiot\n",
      "mhito\n",
      "mhtoi\n",
      "mhtio\n",
      "mioht\n",
      "mioth\n",
      "mihot\n",
      "mihto\n",
      "mitoh\n",
      "mitho\n",
      "mtohi\n",
      "mtoih\n",
      "mthoi\n",
      "mthio\n",
      "mtioh\n",
      "mtiho\n",
      "omhit\n",
      "omhti\n",
      "omiht\n",
      "omith\n",
      "omthi\n",
      "omtih\n",
      "ohmit\n",
      "ohmti\n",
      "ohimt\n",
      "ohitm\n",
      "ohtmi\n",
      "ohtim\n",
      "oimht\n",
      "oimth\n",
      "oihmt\n",
      "oihtm\n",
      "oitmh\n",
      "oithm\n",
      "otmhi\n",
      "otmih\n",
      "othmi\n",
      "othim\n",
      "otimh\n",
      "otihm\n",
      "hmoit\n",
      "hmoti\n",
      "hmiot\n",
      "hmito\n",
      "hmtoi\n",
      "hmtio\n",
      "homit\n",
      "homti\n",
      "hoimt\n",
      "hoitm\n",
      "hotmi\n",
      "hotim\n",
      "himot\n",
      "himto\n",
      "hiomt\n",
      "hiotm\n",
      "hitmo\n",
      "hitom\n",
      "htmoi\n",
      "htmio\n",
      "htomi\n",
      "htoim\n",
      "htimo\n",
      "htiom\n",
      "imoht\n",
      "imoth\n",
      "imhot\n",
      "imhto\n",
      "imtoh\n",
      "imtho\n",
      "iomht\n",
      "iomth\n",
      "iohmt\n",
      "iohtm\n",
      "iotmh\n",
      "iothm\n",
      "ihmot\n",
      "ihmto\n",
      "ihomt\n",
      "ihotm\n",
      "ihtmo\n",
      "ihtom\n",
      "itmoh\n",
      "itmho\n",
      "itomh\n",
      "itohm\n",
      "ithmo\n",
      "ithom\n",
      "tmohi\n",
      "tmoih\n",
      "tmhoi\n",
      "tmhio\n",
      "tmioh\n",
      "tmiho\n",
      "tomhi\n",
      "tomih\n",
      "tohmi\n",
      "tohim\n",
      "toimh\n",
      "toihm\n",
      "thmoi\n",
      "thmio\n",
      "thomi\n",
      "thoim\n",
      "thimo\n",
      "thiom\n",
      "timoh\n",
      "timho\n",
      "tiomh\n",
      "tiohm\n",
      "tihmo\n",
      "tihom\n"
     ]
    }
   ],
   "source": [
    "def get_permutations(string):\n",
    "    if len(string) == 1:\n",
    "        return [string]\n",
    "\n",
    "    permutations = []\n",
    "    for char in string:\n",
    "        remaining_chars = string.replace(char, '', 1)\n",
    "        sub_permutations = get_permutations(remaining_chars)\n",
    "\n",
    "        for sub_permutation in sub_permutations:\n",
    "            permutations.append(char + sub_permutation)\n",
    "\n",
    "    return permutations\n",
    "\n",
    "# Input: Get a string from the user\n",
    "input_str = input(\"Enter a string: \")\n",
    "\n",
    "result = get_permutations(input_str)\n",
    "print(\"All permutations of the string:\")\n",
    "for perm in result:\n",
    "    print(perm)\n"
   ]
  },
  {
   "cell_type": "markdown",
   "id": "b6ad1647-60ff-4de7-9b86-a0e0aa5bc665",
   "metadata": {},
   "source": [
    "q.10"
   ]
  },
  {
   "cell_type": "code",
   "execution_count": 193,
   "id": "5541061a-db7b-4d0d-870c-f9de6c8812ec",
   "metadata": {},
   "outputs": [],
   "source": [
    "#You can create a recursive Python function to check if a string is a palindrome (reads the same forwards and backward) like this:\n",
    "\n"
   ]
  },
  {
   "cell_type": "code",
   "execution_count": 194,
   "id": "cfe9c27a-016b-4a81-ab82-2e2ef15561d9",
   "metadata": {},
   "outputs": [
    {
     "name": "stdin",
     "output_type": "stream",
     "text": [
      "Enter a string:  mohit\n"
     ]
    },
    {
     "name": "stdout",
     "output_type": "stream",
     "text": [
      "The string is not a palindrome.\n"
     ]
    }
   ],
   "source": [
    "def is_palindrome(string):\n",
    "    # Base case: If the string has 0 or 1 character, it's a palindrome.\n",
    "    if len(string) <= 1:\n",
    "        return True\n",
    "    # Check if the first and last characters match.\n",
    "    if string[0] != string[-1]:\n",
    "        return False\n",
    "    # Recursively check the substring without the first and last characters.\n",
    "    return is_palindrome(string[1:-1])\n",
    "\n",
    "# Input: Get a string from the user\n",
    "input_str = input(\"Enter a string: \")\n",
    "\n",
    "input_str = input_str.lower()  # Convert input to lowercase for case-insensitive check\n",
    "\n",
    "if is_palindrome(input_str):\n",
    "    print(\"The string is a palindrome.\")\n",
    "else:\n",
    "    print(\"The string is not a palindrome.\")\n"
   ]
  },
  {
   "cell_type": "markdown",
   "id": "25916903-0d03-4c07-b8f6-5d54b29425fb",
   "metadata": {},
   "source": [
    "q.11"
   ]
  },
  {
   "cell_type": "code",
   "execution_count": 195,
   "id": "415a250a-c3df-4add-83a0-b69abbaceba1",
   "metadata": {},
   "outputs": [],
   "source": [
    "#You can create a recursive Python function to generate all possible combinations of a list of elements like this:"
   ]
  },
  {
   "cell_type": "code",
   "execution_count": 197,
   "id": "c8489192-5110-46e7-a5c2-48df5ea14fda",
   "metadata": {},
   "outputs": [
    {
     "name": "stdin",
     "output_type": "stream",
     "text": [
      "Enter a list of elements separated by spaces:  mohit\n",
      "Enter the combination length (k):  1\n"
     ]
    },
    {
     "name": "stdout",
     "output_type": "stream",
     "text": [
      "All 1-length combinations of the elements:\n",
      "['mohit']\n"
     ]
    }
   ],
   "source": [
    "def get_combinations(elements, k):\n",
    "    if k == 0:\n",
    "        return [[]]\n",
    "    if not elements:\n",
    "        return []\n",
    "\n",
    "    first, rest = elements[0], elements[1:]\n",
    "    without_first = get_combinations(rest, k)\n",
    "    with_first = [[first] + combo for combo in get_combinations(rest, k - 1)]\n",
    "\n",
    "    return without_first + with_first\n",
    "\n",
    "# Input: Get a list of elements from the user\n",
    "input_str = input(\"Enter a list of elements separated by spaces: \")\n",
    "elements = input_str.split()\n",
    "\n",
    "# Input: Get the combination length (k) from the user\n",
    "k = int(input(\"Enter the combination length (k): \"))\n",
    "\n",
    "combinations = get_combinations(elements, k)\n",
    "print(f\"All {k}-length combinations of the elements:\")\n",
    "for combo in combinations:\n",
    "    print(combo)\n"
   ]
  },
  {
   "cell_type": "code",
   "execution_count": 198,
   "id": "5469eb51-f691-41b7-b4c9-5387e872817d",
   "metadata": {},
   "outputs": [],
   "source": [
    "# basics of function"
   ]
  },
  {
   "cell_type": "markdown",
   "id": "9acbff27-88fd-4370-9afb-937062da07b3",
   "metadata": {},
   "source": [
    "q.1"
   ]
  },
  {
   "cell_type": "markdown",
   "id": "69286c99-4c87-4f6d-bd5f-98bac93fcc37",
   "metadata": {},
   "source": [
    "A function in Python is a reusable block of code that performs a specific task or a set of tasks. Functions are a fundamental concept in programming and are used to organize, modularize, and encapsulate code. They have the following key characteristics:\n",
    "\n",
    "Name: A function has a name that is used to identify and call it.\n",
    "\n",
    "Parameters (or Arguments): Functions can take zero or more input values, known as parameters or arguments. These values are passed to the function when it is called and can be used within the function's code.\n",
    "\n",
    "Return Value: A function can optionally return a value as its output. This value is specified using the return statement and can be used by the code that calls the function.\n",
    "\n",
    "Functions are used for several reasons:\n",
    "\n",
    "Modularity: Functions allow you to break down a complex program into smaller, more manageable pieces. Each function can focus on a specific task, making the code easier to understand and maintain.\n",
    "\n",
    "Reusability: Once you define a function, you can reuse it multiple times throughout your program without duplicating the code. This promotes code reusability and reduces redundancy.\n",
    "\n",
    "Abstraction: Functions abstract away the implementation details of a task. Users of the function only need to know what the function does (its purpose and its input/output) without needing to understand how it achieves the task.\n",
    "\n",
    "Readability: Functions improve code readability by giving meaningful names to blocks of code. Well-named functions can serve as self-documenting code, making it clear what each part of the program does.\n",
    "\n",
    "Testing and Debugging: Functions make it easier to test and debug code. You can test each function in isolation, making it easier to identify and fix issues.\n",
    "\n",
    "Scoping: Functions create their own local scope, which means that variables defined within a function are separate from variables defined outside of it. This helps prevent naming conflicts and keeps variables organized.\n",
    "\n",
    "Code Organization: Functions allow you to organize your code logically. You can group related functions together, making it easier to manage a large codebase.\n",
    "\n",
    "Here's a simple example of a Python function that calculates the sum of two numbers:"
   ]
  },
  {
   "cell_type": "code",
   "execution_count": 199,
   "id": "070febad-411b-4ab5-9aba-90b068765bbe",
   "metadata": {},
   "outputs": [
    {
     "name": "stdout",
     "output_type": "stream",
     "text": [
      "8\n"
     ]
    }
   ],
   "source": [
    "def add(a, b):\n",
    "    result = a + b\n",
    "    return result\n",
    "\n",
    "# Calling the function\n",
    "sum_result = add(3, 5)\n",
    "print(sum_result)  # Outputs: 8\n"
   ]
  },
  {
   "cell_type": "markdown",
   "id": "7921e3e9-8f79-477e-a413-e1680078060f",
   "metadata": {},
   "source": [
    "q.2"
   ]
  },
  {
   "cell_type": "code",
   "execution_count": 200,
   "id": "e47b339a-03d4-45d9-bcb5-e0a3af7efd3f",
   "metadata": {},
   "outputs": [],
   "source": [
    "#In Python, you can define a function using the def keyword, followed by the function name, a pair of parentheses containing zero or more parameters (also known as arguments), and a colon. The function's code block is indented beneath the def statement. Here's the basic syntax:"
   ]
  },
  {
   "cell_type": "code",
   "execution_count": 201,
   "id": "c0bc4162-4421-4a07-99e2-54bcfa38e815",
   "metadata": {},
   "outputs": [
    {
     "ename": "SyntaxError",
     "evalue": "invalid syntax (4073835687.py, line 1)",
     "output_type": "error",
     "traceback": [
      "\u001b[0;36m  Cell \u001b[0;32mIn[201], line 1\u001b[0;36m\u001b[0m\n\u001b[0;31m    def function_name(parameter1, parameter2, ...):\u001b[0m\n\u001b[0m                                              ^\u001b[0m\n\u001b[0;31mSyntaxError\u001b[0m\u001b[0;31m:\u001b[0m invalid syntax\n"
     ]
    }
   ],
   "source": [
    "def function_name(parameter1, parameter2, ...):\n",
    "    # Function code here\n",
    "    # ...\n",
    "    return result  # Optional return statement\n"
   ]
  },
  {
   "cell_type": "code",
   "execution_count": 202,
   "id": "128911ab-4fbb-4f62-9141-960c90bf899a",
   "metadata": {},
   "outputs": [],
   "source": [
    "def square(x):\n",
    "    result = x ** 2\n",
    "    return result\n"
   ]
  },
  {
   "cell_type": "code",
   "execution_count": 203,
   "id": "cd5068d4-1a72-45a5-8f68-3eefcb23aff8",
   "metadata": {},
   "outputs": [
    {
     "name": "stdout",
     "output_type": "stream",
     "text": [
      "25\n"
     ]
    }
   ],
   "source": [
    "result = square(5)  # Calling the function with an argument (5)\n",
    "print(result)  # Outputs: 25\n"
   ]
  },
  {
   "cell_type": "markdown",
   "id": "715005d4-9be8-4d8f-9c8d-d501761545e0",
   "metadata": {},
   "source": [
    "q.3"
   ]
  },
  {
   "cell_type": "code",
   "execution_count": 204,
   "id": "724e12fc-ea69-4463-8087-837ee4ac6abe",
   "metadata": {},
   "outputs": [],
   "source": [
    "#In Python, a function definition and a function call are two distinct concepts with different purposes and roles in a program:\n",
    "\n",
    "#Function Definition:\n",
    "\n",
    "#Purpose: A function definition is the creation or declaration of a function. It defines the function's name, parameters, and the code block that specifies what the function does when it is called.\n",
    "\n",
    "#Syntax: A function definition begins with the def keyword, followed by the function name, a pair of parentheses containing zero or more parameters (arguments), and a colon. The function's code block is indented below the def statement.\n",
    "\n"
   ]
  },
  {
   "cell_type": "code",
   "execution_count": 205,
   "id": "0a5c11da-5425-4364-b626-1c2dac5a1198",
   "metadata": {},
   "outputs": [],
   "source": [
    "def add(a, b):\n",
    "    result = a + b\n",
    "    return result\n"
   ]
  },
  {
   "cell_type": "code",
   "execution_count": 206,
   "id": "0c6353e8-6dc5-461d-87ed-b480f567b530",
   "metadata": {},
   "outputs": [],
   "source": [
    "#Function Call:\n",
    "\n",
    "#Purpose: A function call is the act of executing or invoking a function that has been previously defined. When a function is called, the code inside the function's code block is executed with the provided arguments (if any), and the function may return a result.\n",
    "\n",
    "#Syntax: To call a function, you use its name followed by a pair of parentheses containing the arguments (input values) that the function expects, if any.\n",
    "\n",
    "#Example:"
   ]
  },
  {
   "cell_type": "code",
   "execution_count": 207,
   "id": "53564037-df9f-49bc-a496-4e2654fd78ec",
   "metadata": {},
   "outputs": [],
   "source": [
    "result = add(3, 5)\n"
   ]
  },
  {
   "cell_type": "code",
   "execution_count": 208,
   "id": "1784969a-ffce-489a-8a4e-834c8688b7c9",
   "metadata": {},
   "outputs": [],
   "source": [
    "#Role: The role of a function call is to execute the code defined within the corresponding function. It provides values (arguments) that the function needs to perform its task. The function call also captures and can use the result returned by the function"
   ]
  },
  {
   "cell_type": "markdown",
   "id": "32268691-e769-4ee7-9afa-bd5c08e3e478",
   "metadata": {},
   "source": [
    "q.4"
   ]
  },
  {
   "cell_type": "code",
   "execution_count": 209,
   "id": "532d748f-abb7-45f9-bd09-8adae456c334",
   "metadata": {},
   "outputs": [],
   "source": [
    "#Here's a Python program that defines a function to calculate the sum of two numbers and then calls the function:"
   ]
  },
  {
   "cell_type": "code",
   "execution_count": 210,
   "id": "4fb70703-eb6f-4ffa-a86b-c05a922631e2",
   "metadata": {},
   "outputs": [
    {
     "name": "stdin",
     "output_type": "stream",
     "text": [
      "Enter the first number:  20\n",
      "Enter the second number:  12\n"
     ]
    },
    {
     "name": "stdout",
     "output_type": "stream",
     "text": [
      "The sum of 20.0 and 12.0 is 32.0\n"
     ]
    }
   ],
   "source": [
    "# Define the function to calculate the sum of two numbers\n",
    "def add_numbers(a, b):\n",
    "    result = a + b\n",
    "    return result\n",
    "\n",
    "# Prompt the user for input\n",
    "num1 = float(input(\"Enter the first number: \"))\n",
    "num2 = float(input(\"Enter the second number: \"))\n",
    "\n",
    "# Call the function to calculate the sum\n",
    "sum_result = add_numbers(num1, num2)\n",
    "\n",
    "# Display the result\n",
    "print(f\"The sum of {num1} and {num2} is {sum_result}\")\n"
   ]
  },
  {
   "cell_type": "markdown",
   "id": "ac7b55eb-cb08-4b74-9178-14ef24d6f930",
   "metadata": {},
   "source": [
    "q.5"
   ]
  },
  {
   "cell_type": "code",
   "execution_count": 211,
   "id": "37e02338-15c2-4129-ae16-1edd2c8729e3",
   "metadata": {},
   "outputs": [],
   "source": [
    "#A function signature, also known as a function header or function declaration, is a part of a function's definition that provides essential information about the function's interface and behavior. It typically includes the following information:\n",
    "\n",
    "#Function Name: The name that identifies the function. This is how you reference and call the function in your code.\n",
    "\n",
    "#Parameters (or Arguments): The list of input values that the function expects. Parameters are enclosed in a pair of parentheses (). Each parameter includes:\n",
    "\n",
    "#Parameter Name: The name of the parameter used as a local variable within the function.\n",
    "#Parameter Type (Optional): The data type or type hint that specifies the expected data type of the parameter. This is not required in all programming languages but can be used for documentation and type checking.\n",
    "#Default Value (Optional): Some languages allow you to specify default values for parameters, which are used when the caller does not provide a value for that parameter.\n",
    "#Return Type (Optional): The data type or type hint that specifies the type of value the function will return as its result. This is optional in some dynamically typed languages but is helpful for documentation and type checking."
   ]
  },
  {
   "cell_type": "code",
   "execution_count": 212,
   "id": "d9003d28-760e-41e2-8eb0-65b3dd6991e2",
   "metadata": {},
   "outputs": [
    {
     "ename": "SyntaxError",
     "evalue": "invalid syntax (1414052054.py, line 1)",
     "output_type": "error",
     "traceback": [
      "\u001b[0;36m  Cell \u001b[0;32mIn[212], line 1\u001b[0;36m\u001b[0m\n\u001b[0;31m    def function_name(parameter1: type1 = default1, parameter2: type2 = default2, ...) -> return_type:\u001b[0m\n\u001b[0m                                                                                  ^\u001b[0m\n\u001b[0;31mSyntaxError\u001b[0m\u001b[0;31m:\u001b[0m invalid syntax\n"
     ]
    }
   ],
   "source": [
    "def function_name(parameter1: type1 = default1, parameter2: type2 = default2, ...) -> return_type:\n"
   ]
  },
  {
   "cell_type": "code",
   "execution_count": 213,
   "id": "d92b006d-91c2-4217-a3ad-7325d37a1973",
   "metadata": {},
   "outputs": [
    {
     "ename": "SyntaxError",
     "evalue": "incomplete input (1080357464.py, line 1)",
     "output_type": "error",
     "traceback": [
      "\u001b[0;36m  Cell \u001b[0;32mIn[213], line 1\u001b[0;36m\u001b[0m\n\u001b[0;31m    def add(a: int, b: int) -> int:\u001b[0m\n\u001b[0m                                   ^\u001b[0m\n\u001b[0;31mSyntaxError\u001b[0m\u001b[0;31m:\u001b[0m incomplete input\n"
     ]
    }
   ],
   "source": [
    "def add(a: int, b: int) -> int:\n"
   ]
  },
  {
   "cell_type": "code",
   "execution_count": 214,
   "id": "c178eba4-f6b8-4e69-97fc-bfea6ecb6be8",
   "metadata": {},
   "outputs": [],
   "source": [
    "#add is the function name.\n",
    "#a and b are parameters with type hints specifying that they should be integers.\n",
    "#int after the -> indicates that the function is expected to return an integer."
   ]
  },
  {
   "cell_type": "markdown",
   "id": "f3b7eabe-e966-4286-b4e4-3e9a7b0a2f6c",
   "metadata": {},
   "source": [
    "q.6"
   ]
  },
  {
   "cell_type": "code",
   "execution_count": 215,
   "id": "c644fa30-7acb-4ab1-99ec-a69ac382a839",
   "metadata": {},
   "outputs": [],
   "source": [
    "#You can create a Python function that takes two arguments and returns their product like this:"
   ]
  },
  {
   "cell_type": "code",
   "execution_count": 216,
   "id": "2676dc5e-8e99-43e0-be2b-c66d689b923f",
   "metadata": {},
   "outputs": [
    {
     "name": "stdout",
     "output_type": "stream",
     "text": [
      "The product of 5 and 3 is 15\n"
     ]
    }
   ],
   "source": [
    "def multiply(a, b):\n",
    "    result = a * b\n",
    "    return result\n",
    "\n",
    "# Example usage:\n",
    "num1 = 5\n",
    "num2 = 3\n",
    "product = multiply(num1, num2)\n",
    "print(f\"The product of {num1} and {num2} is {product}\")\n"
   ]
  },
  {
   "cell_type": "code",
   "execution_count": 217,
   "id": "8b66093d-2bff-4104-9b73-a13baf90bbcd",
   "metadata": {},
   "outputs": [],
   "source": [
    "#function parameter and arguments:"
   ]
  },
  {
   "cell_type": "markdown",
   "id": "bfa37877-5bbf-4f8d-bb65-16747962f9a7",
   "metadata": {},
   "source": [
    "q.1"
   ]
  },
  {
   "cell_type": "code",
   "execution_count": 218,
   "id": "453c80aa-a443-48b0-a9d1-781daed49a0e",
   "metadata": {},
   "outputs": [],
   "source": [
    "#In Python functions, the concepts of formal parameters and actual arguments are essential to understand how data is passed into and used within functions:\n",
    "\n",
    "#Formal Parameters:\n",
    "\n",
    "#Definition: Formal parameters are placeholders or variables defined in the function's parameter list, inside the function's definition. These parameters represent the data that the function expects to receive when it is called.\n",
    "\n",
    "#Role: Formal parameters act as local variables within the function's scope. They are used to receive and process input data, and they can be referenced and manipulated within the function's code block.\n",
    "\n",
    "#Syntax: In a function definition, formal parameters are specified within the parentheses after the function name."
   ]
  },
  {
   "cell_type": "code",
   "execution_count": 219,
   "id": "45f836e6-9c08-46df-8241-984dc0621d00",
   "metadata": {},
   "outputs": [],
   "source": [
    "def add(x, y):  # x and y are formal parameters\n",
    "    result = x + y\n",
    "    return result\n"
   ]
  },
  {
   "cell_type": "code",
   "execution_count": 220,
   "id": "0d6d6e73-ca13-46cb-911c-9805a5fae24b",
   "metadata": {},
   "outputs": [],
   "source": [
    "#Actual Arguments (or Arguments):\n",
    "\n",
    "#Definition: Actual arguments, often referred to simply as arguments, are the values or expressions that are provided when calling a function. These values are passed to the function to be used as input for the formal parameters.\n",
    "\n",
    "#Role: Actual arguments supply the necessary data to the function during the function call. They are mapped to the corresponding formal parameters based on their position in the argument list.\n",
    "\n",
    "#Syntax: When calling a function, actual arguments are specified within the parentheses after the function name."
   ]
  },
  {
   "cell_type": "code",
   "execution_count": 221,
   "id": "aac3cc71-7415-4d82-9665-0edeb51470fa",
   "metadata": {},
   "outputs": [],
   "source": [
    "sum_result = add(3, 5)  # 3 and 5 are actual arguments\n"
   ]
  },
  {
   "cell_type": "code",
   "execution_count": 222,
   "id": "7f6662ee-617d-443b-8d06-e8b7d64ae341",
   "metadata": {},
   "outputs": [],
   "source": [
    "#Positional Arguments: The most common way to pass arguments to a function is by their position. The order of the arguments in the function call determines which formal parameters receive which values."
   ]
  },
  {
   "cell_type": "code",
   "execution_count": 223,
   "id": "37782953-299a-40f1-a219-d5eb23da15eb",
   "metadata": {},
   "outputs": [],
   "source": [
    "result = add(3, 5)  # Positional arguments (3 is mapped to x, and 5 is mapped to y)\n"
   ]
  },
  {
   "cell_type": "code",
   "execution_count": 224,
   "id": "08c3f3fd-0cba-4472-a391-d3ab0a468c39",
   "metadata": {},
   "outputs": [],
   "source": [
    "#Keyword Arguments: You can explicitly specify the formal parameter names along with their corresponding values in the function call. This allows you to pass arguments out of order."
   ]
  },
  {
   "cell_type": "code",
   "execution_count": 225,
   "id": "f6e76cd2-4013-4db4-aeb6-351351a05757",
   "metadata": {},
   "outputs": [],
   "source": [
    "result = add(y=5, x=3)  # Keyword arguments (x=3, y=5)\n"
   ]
  },
  {
   "cell_type": "code",
   "execution_count": 226,
   "id": "497f411a-5a78-420c-97d7-51eb5d644be1",
   "metadata": {},
   "outputs": [],
   "source": [
    "#Default Arguments: You can provide default values for some or all of the formal parameters in the function definition. If an argument is not provided in the function call, the default value is used.\n",
    "def add(x=0, y=0):  # Default arguments (x and y have default values of 0)\n",
    "    result = x + y\n",
    "    return result\n",
    "\n",
    "result = add()  # No arguments provided, defaults to 0 and 0\n"
   ]
  },
  {
   "cell_type": "markdown",
   "id": "beca3ced-d4e4-41e9-81d1-9874f949a373",
   "metadata": {},
   "source": [
    "q.2"
   ]
  },
  {
   "cell_type": "code",
   "execution_count": 227,
   "id": "8706733d-f402-49e2-858d-ecc2c5446f67",
   "metadata": {},
   "outputs": [],
   "source": [
    "#You can define a Python function with default argument values like this:"
   ]
  },
  {
   "cell_type": "code",
   "execution_count": 228,
   "id": "17a5f780-d66b-4516-93d4-6495c379e0c2",
   "metadata": {},
   "outputs": [
    {
     "name": "stdout",
     "output_type": "stream",
     "text": [
      "Hello, Alice!\n",
      "Hi, Bob!\n"
     ]
    }
   ],
   "source": [
    "def greet(name, greeting=\"Hello\"):\n",
    "    message = f\"{greeting}, {name}!\"\n",
    "    return message\n",
    "\n",
    "# Example usage\n",
    "name1 = \"Alice\"\n",
    "name2 = \"Bob\"\n",
    "greeting1 = greet(name1)\n",
    "greeting2 = greet(name2, \"Hi\")\n",
    "\n",
    "print(greeting1)  # Outputs: \"Hello, Alice!\"\n",
    "print(greeting2)  # Outputs: \"Hi, Bob!\"\n"
   ]
  },
  {
   "cell_type": "markdown",
   "id": "de07bee2-bd36-4216-8b53-26c4261adca6",
   "metadata": {},
   "source": [
    "q.3"
   ]
  },
  {
   "cell_type": "code",
   "execution_count": 229,
   "id": "a00e0ff7-92d6-48a4-ade4-17e9d0925da4",
   "metadata": {},
   "outputs": [],
   "source": [
    "#In Python, you can use keyword arguments in function calls to explicitly specify which argument corresponds to which parameter by using the parameter's name followed by the = symbol and the value. This allows you to pass arguments out of order and make your code more readable. Here's how you use keyword arguments with an example:"
   ]
  },
  {
   "cell_type": "code",
   "execution_count": 230,
   "id": "c67be7c6-f43b-4d91-bf1f-02b3fa631875",
   "metadata": {},
   "outputs": [
    {
     "name": "stdout",
     "output_type": "stream",
     "text": [
      "Alice is 30 years old and lives in New York.\n"
     ]
    }
   ],
   "source": [
    "def describe_person(name, age, city):\n",
    "    description = f\"{name} is {age} years old and lives in {city}.\"\n",
    "    return description\n",
    "\n",
    "# Using keyword arguments to call the function\n",
    "person_info = describe_person(name=\"Alice\", city=\"New York\", age=30)\n",
    "\n",
    "# Print the result\n",
    "print(person_info)\n"
   ]
  },
  {
   "cell_type": "markdown",
   "id": "e12bc2c2-aafb-4ccb-a814-9ffa0cb7a9d5",
   "metadata": {},
   "source": [
    "q.4"
   ]
  },
  {
   "cell_type": "code",
   "execution_count": 231,
   "id": "0aa5335e-57f1-4fc0-b2cc-5b0671e987b8",
   "metadata": {},
   "outputs": [],
   "source": [
    "#You can create a Python function that accepts a variable number of arguments and calculates their sum using the *args parameter. The *args parameter allows you to pass a variable number of non-keyword arguments to the function. Here's an example:"
   ]
  },
  {
   "cell_type": "code",
   "execution_count": 232,
   "id": "4980e1c8-fd81-4d1b-9025-fa58e6dd9f55",
   "metadata": {},
   "outputs": [
    {
     "name": "stdout",
     "output_type": "stream",
     "text": [
      "6\n",
      "150\n"
     ]
    }
   ],
   "source": [
    "def calculate_sum(*args):\n",
    "    total = 0\n",
    "    for num in args:\n",
    "        total += num\n",
    "    return total\n",
    "\n",
    "# Example usage\n",
    "result1 = calculate_sum(1, 2, 3)  # Passing three arguments\n",
    "result2 = calculate_sum(10, 20, 30, 40, 50)  # Passing five arguments\n",
    "\n",
    "print(result1)  # Outputs: 6\n",
    "print(result2)  # Outputs: 150\n"
   ]
  },
  {
   "cell_type": "markdown",
   "id": "9b31449f-bd2c-4ffb-8df3-aaebb9b879fe",
   "metadata": {},
   "source": [
    "q.5"
   ]
  },
  {
   "cell_type": "code",
   "execution_count": 233,
   "id": "4f413840-4bc6-4ced-918c-64e192cef50b",
   "metadata": {},
   "outputs": [],
   "source": [
    "#In Python, *args and **kwargs are special syntax used in function parameter lists to handle a variable number of arguments and keyword arguments, respectively. They provide flexibility when defining functions that need to accept a varying number of arguments without explicitly specifying each argument. Here's a brief explanation of their purposes:\n",
    "\n",
    "#*args (Arbitrary Positional Arguments):\n",
    "\n",
    "#Purpose: *args allows a function to accept a variable number of positional arguments. This means you can pass any number of non-keyword arguments to the function, and they are collected into a tuple.\n",
    "\n",
    "#Syntax: *args is used as a parameter in a function definition, typically preceded by an asterisk *. For example: def my_function(*args):\n",
    "\n",
    "#Usage: You can use *args to create functions that work with an arbitrary number of arguments. Inside the function, you can iterate through the args tuple to process each argument.\n",
    "\n",
    "#Example:"
   ]
  },
  {
   "cell_type": "code",
   "execution_count": 234,
   "id": "73e129b1-d63b-4579-80ca-58fd47c181b9",
   "metadata": {},
   "outputs": [],
   "source": [
    "def calculate_sum(*args):\n",
    "    total = 0\n",
    "    for num in args:\n",
    "        total += num\n",
    "    return total\n"
   ]
  },
  {
   "cell_type": "code",
   "execution_count": 235,
   "id": "f8821f2b-5a77-4b0e-814e-c0cb100afa0f",
   "metadata": {},
   "outputs": [],
   "source": [
    "#**kwargs (Arbitrary Keyword Arguments):\n",
    "\n",
    "#Purpose: **kwargs allows a function to accept a variable number of keyword arguments (key-value pairs). This means you can pass any number of keyword arguments to the function, and they are collected into a dictionary.\n",
    "\n",
    "#Syntax: **kwargs is used as a parameter in a function definition, typically preceded by double asterisks **. For example: def my_function(**kwargs):\n",
    "\n",
    "#Usage: You can use **kwargs to create functions that work with an arbitrary number of keyword arguments. Inside the function, you can access the keyword arguments as key-value pairs in the kwargs dictionary.\n",
    "\n",
    "#Example:"
   ]
  },
  {
   "cell_type": "code",
   "execution_count": 236,
   "id": "8e6807ea-086f-4827-835f-431992e5063e",
   "metadata": {},
   "outputs": [],
   "source": [
    "def print_info(**kwargs):\n",
    "    for key, value in kwargs.items():\n",
    "        print(f\"{key}: {value}\")\n"
   ]
  },
  {
   "cell_type": "code",
   "execution_count": 237,
   "id": "e5b6889f-fa3c-44c0-8b33-c2f149a7d24b",
   "metadata": {},
   "outputs": [],
   "source": [
    "#return values and scoping"
   ]
  },
  {
   "cell_type": "markdown",
   "id": "f650585b-6f14-4fd6-b9fe-7f57ad4b5a00",
   "metadata": {},
   "source": [
    "q.1"
   ]
  },
  {
   "cell_type": "code",
   "execution_count": 238,
   "id": "6c7e301e-e695-40a6-aac8-c2fee1814e30",
   "metadata": {},
   "outputs": [],
   "source": [
    "#In Python, the return statement is used to specify the value that a function should return when it is called. It is a crucial part of a function because it allows the function to produce a result or output that can be used in the calling code. Here's an explanation of the role of the return statement in functions, along with examples:\n",
    "\n",
    "#Role of the return Statement:\n",
    "\n",
    "#Purpose: The primary purpose of the return statement is to send a value (or result) back to the caller of the function. This value can be used for further computation, displayed to the user, or assigned to a variable for future use.\n",
    "\n",
    "#Termination: When a return statement is encountered in a function, the function's execution terminates immediately, and the specified value is sent back to the caller. Subsequent code in the function is not executed.\n",
    "\n",
    "#Optional: While the return statement is optional in a function, it is necessary when you want the function to produce a result. Functions that don't have a return statement implicitly return None.\n",
    "\n",
    "#Examples:"
   ]
  },
  {
   "cell_type": "code",
   "execution_count": 239,
   "id": "ba8d2751-fe0b-4618-a698-e8c11cdc398a",
   "metadata": {},
   "outputs": [
    {
     "name": "stdout",
     "output_type": "stream",
     "text": [
      "8\n"
     ]
    }
   ],
   "source": [
    "def add(a, b):\n",
    "    result = a + b\n",
    "    return result\n",
    "\n",
    "sum_result = add(3, 5)\n",
    "print(sum_result)  # Outputs: 8\n"
   ]
  },
  {
   "cell_type": "code",
   "execution_count": 240,
   "id": "57d6778c-64bd-40b1-8df9-fbd7409ac7c7",
   "metadata": {},
   "outputs": [
    {
     "name": "stdout",
     "output_type": "stream",
     "text": [
      "Hello, Alice!\n",
      "None\n"
     ]
    }
   ],
   "source": [
    "#Function without return\n",
    "def greet(name):\n",
    "    print(f\"Hello, {name}!\")\n",
    "\n",
    "greeting = greet(\"Alice\")\n",
    "print(greeting)  # Outputs: None\n"
   ]
  },
  {
   "cell_type": "code",
   "execution_count": 241,
   "id": "597c670f-6878-4bd9-89cd-7e294cae673a",
   "metadata": {},
   "outputs": [],
   "source": [
    "#Multiple return Statements:\n",
    "def is_even(number):\n",
    "    if number % 2 == 0:\n",
    "        return True\n",
    "    else:\n",
    "        return False\n",
    "\n",
    "result1 = is_even(4)\n",
    "result2 = is_even(7)\n"
   ]
  },
  {
   "cell_type": "code",
   "execution_count": 243,
   "id": "ef3e0d68-6e65-4395-a553-ed9c7cd3b938",
   "metadata": {},
   "outputs": [],
   "source": [
    "#Early Function Termination:\n",
    "def divide(a, b):\n",
    "    if b == 0:\n",
    "        return \"Cannot divide by zero\"\n",
    "    result = a / b\n",
    "    return result\n",
    "\n",
    "division_result1 = divide(10, 2)    # Returns 5.0\n",
    "division_result2 = divide(5, 0)     # Returns \"Cannot divide by zero\"\n"
   ]
  },
  {
   "cell_type": "markdown",
   "id": "b8531c61-6cff-42b8-a85f-db7bf5f96a8f",
   "metadata": {},
   "source": [
    "q.2"
   ]
  },
  {
   "cell_type": "code",
   "execution_count": 244,
   "id": "5ce1bdc6-294c-4ce1-9bff-b1da9e50c4db",
   "metadata": {},
   "outputs": [],
   "source": [
    "#In Python, variable scope refers to the region or context within a program where a variable is accessible and can be used. Understanding variable scope is essential for writing organized and bug-free code. Python has two primary types of variable scope: local and global.\n",
    "\n",
    "#Local Variables:\n",
    "\n",
    "#Scope: Local variables are defined within a specific function or block of code. They are accessible only within the function or block where they are defined.\n",
    "\n",
    "#Lifetime: The lifetime of a local variable is limited to the duration of the function or block in which it is defined. Once the function or block exits, the local variable is destroyed, and its value is no longer accessible.\n",
    "\n",
    "#Example:"
   ]
  },
  {
   "cell_type": "code",
   "execution_count": 245,
   "id": "93710621-44dd-43c4-a71d-50209447383f",
   "metadata": {},
   "outputs": [
    {
     "name": "stdout",
     "output_type": "stream",
     "text": [
      "10\n",
      "5.0\n"
     ]
    }
   ],
   "source": [
    "def my_function():\n",
    "    x = 10  # x is a local variable\n",
    "    print(x)\n",
    "\n",
    "my_function()\n",
    "print(x)  # This will result in a NameError because x is not defined in the global scope\n"
   ]
  },
  {
   "cell_type": "code",
   "execution_count": 246,
   "id": "556d1854-3d76-46bd-bdb4-5771dbe161fe",
   "metadata": {},
   "outputs": [],
   "source": [
    "#Global Variables:\n",
    "\n",
    "#Scope: Global variables are defined outside of any function or block and are accessible from anywhere in the program, including within functions.\n",
    "\n",
    "#Lifetime: The lifetime of a global variable extends throughout the entire program's execution. It exists as long as the program is running.\n",
    "\n",
    "#Example:"
   ]
  },
  {
   "cell_type": "code",
   "execution_count": 247,
   "id": "b1db9926-0fd2-4a28-9afa-e8c90c286b26",
   "metadata": {},
   "outputs": [
    {
     "name": "stdout",
     "output_type": "stream",
     "text": [
      "20\n",
      "20\n"
     ]
    }
   ],
   "source": [
    "y = 20  # y is a global variable\n",
    "\n",
    "def my_function():\n",
    "    print(y)  # y is accessible within the function\n",
    "\n",
    "my_function()\n",
    "print(y)  # y is also accessible outside the function\n"
   ]
  },
  {
   "cell_type": "code",
   "execution_count": 248,
   "id": "55bece52-7e87-4ef2-bcda-b6f7484315b0",
   "metadata": {},
   "outputs": [],
   "source": [
    "#Local vs. Global Variables:\n",
    "\n",
    "#When there is a naming conflict between a local variable and a global variable, the local variable takes precedence within the local scope.\n",
    "\n",
    "#To modify the value of a global variable from within a function, you need to use the global keyword to indicate that you are referring to the global variable, not creating a new local variable with the same name.\n",
    "\n",
    "#Using global variables excessively can lead to code that is harder to understand and maintain. It's generally a good practice to limit the use of global variables and prefer passing values as function arguments and returning results from functions.\n",
    "\n",
    "#Global variables can be accessed and modified by multiple functions, making them useful for sharing data across different parts of a program.\n",
    "\n",
    "#Enclosing (Nested) Scopes:\n",
    "\n",
    "#In addition to local and global scopes, Python supports enclosing or nested scopes. These are intermediate levels of scope that occur when functions are defined within other functions.\n",
    "\n",
    "#Variables defined in an enclosing scope can be accessed by inner functions, but they are not considered global. This concept is known as \"closure.\"\n",
    "\n",
    "#Example:"
   ]
  },
  {
   "cell_type": "code",
   "execution_count": 249,
   "id": "b0acd3ba-d10c-4cdc-998a-f910a99a2e4b",
   "metadata": {},
   "outputs": [
    {
     "name": "stdout",
     "output_type": "stream",
     "text": [
      "10\n"
     ]
    }
   ],
   "source": [
    "def outer_function():\n",
    "    x = 10\n",
    "\n",
    "    def inner_function():\n",
    "        print(x)  # x is from the enclosing scope\n",
    "\n",
    "    inner_function()\n",
    "\n",
    "outer_function()\n"
   ]
  },
  {
   "cell_type": "markdown",
   "id": "52482d75-b02d-430a-babd-0c1a253a4c42",
   "metadata": {},
   "source": [
    "q.3"
   ]
  },
  {
   "cell_type": "code",
   "execution_count": 250,
   "id": "1ce7fa43-62be-44b6-a94b-332104a543f5",
   "metadata": {},
   "outputs": [],
   "source": [
    "#Here's a Python program that demonstrates the use of global variables within functions:"
   ]
  },
  {
   "cell_type": "code",
   "execution_count": 251,
   "id": "bc21ce78-464a-4a51-8142-892ab3d8b16e",
   "metadata": {},
   "outputs": [
    {
     "name": "stdout",
     "output_type": "stream",
     "text": [
      "Inside main function:\n",
      "Global variable: 10\n",
      "Global variable: 20\n",
      "Outside main function:\n",
      "Global variable: 20\n"
     ]
    }
   ],
   "source": [
    "# Global variable\n",
    "global_variable = 10\n",
    "\n",
    "def modify_global_variable():\n",
    "    # Accessing and modifying the global variable\n",
    "    global global_variable\n",
    "    global_variable = 20\n",
    "\n",
    "def print_global_variable():\n",
    "    # Accessing the global variable\n",
    "    print(f\"Global variable: {global_variable}\")\n",
    "\n",
    "def main():\n",
    "    # Access and modify the global variable within the main function\n",
    "    print(\"Inside main function:\")\n",
    "    print_global_variable()  # Access global variable\n",
    "    modify_global_variable()  # Modify global variable\n",
    "    print_global_variable()  # Access modified global variable\n",
    "\n",
    "if __name__ == \"__main__\":\n",
    "    main()\n",
    "\n",
    "# Access the global variable outside of the functions\n",
    "print(\"Outside main function:\")\n",
    "print_global_variable()\n"
   ]
  },
  {
   "cell_type": "markdown",
   "id": "f0d69a53-3abd-4618-acce-b5fc362e0564",
   "metadata": {},
   "source": [
    "q.4"
   ]
  },
  {
   "cell_type": "code",
   "execution_count": 252,
   "id": "57c136a4-287a-45c4-856a-80f3575e08c5",
   "metadata": {},
   "outputs": [],
   "source": [
    "#You can create a Python function that calculates the factorial of a number and returns it using a recursive approach. Here's an example:"
   ]
  },
  {
   "cell_type": "code",
   "execution_count": 253,
   "id": "dfeba517-ef14-427a-9659-9a54351cd40b",
   "metadata": {},
   "outputs": [
    {
     "name": "stdout",
     "output_type": "stream",
     "text": [
      "The factorial of 5 is 120\n"
     ]
    }
   ],
   "source": [
    "def factorial(n):\n",
    "    if n == 0:\n",
    "        return 1  # Factorial of 0 is 1\n",
    "    else:\n",
    "        return n * factorial(n - 1)\n",
    "\n",
    "# Example usage:\n",
    "number = 5\n",
    "result = factorial(number)\n",
    "print(f\"The factorial of {number} is {result}\")\n"
   ]
  },
  {
   "cell_type": "code",
   "execution_count": 254,
   "id": "18fee685-9b7e-4296-9eeb-cbcf1f7932e8",
   "metadata": {},
   "outputs": [],
   "source": [
    "# lambda functions and higher order functions:"
   ]
  },
  {
   "cell_type": "markdown",
   "id": "c0fcad91-d06b-4a08-afa3-050ba00603bb",
   "metadata": {},
   "source": [
    "q.1"
   ]
  },
  {
   "cell_type": "code",
   "execution_count": 255,
   "id": "78172986-2b96-4fd4-b76d-1dd5cd61d4a9",
   "metadata": {},
   "outputs": [],
   "source": [
    "#In Python, a lambda function, also known as an anonymous function or a lambda expression, is a small, anonymous function defined using the lambda keyword. Lambda functions are typically used for short, simple operations that can be defined in a single line of code. They have the following characteristics:\n",
    "\n",
    "#Anonymous: Lambda functions are anonymous because they don't have a name like regular functions defined using def. Instead, they are defined using the lambda keyword followed by parameters and an expression.\n",
    "\n",
    "#Single Expression: Lambda functions consist of a single expression that is evaluated and returned as the result. They can't contain multiple statements or complex logic.\n",
    "\n",
    "#No Statements: Lambda functions cannot contain statements such as if, for, or while. They are limited to a single expression.\n",
    "\n",
    "#Lambda functions are typically used in the following situations:\n",
    "\n",
    "#Simple Transformations: Lambda functions are often used when you need to perform simple "
   ]
  },
  {
   "cell_type": "code",
   "execution_count": 256,
   "id": "f3e264dd-1392-47f0-a0b9-82bbe3c7e6eb",
   "metadata": {},
   "outputs": [],
   "source": [
    "numbers = [1, 2, 3, 4, 5]\n",
    "squared_numbers = list(map(lambda x: x**2, numbers))\n"
   ]
  },
  {
   "cell_type": "code",
   "execution_count": 257,
   "id": "a3301d5b-eb4f-4d2f-a190-dab551923466",
   "metadata": {},
   "outputs": [],
   "source": [
    "#Sorting: Lambda functions can be used as the key argument in sorting functions like sorted() or sort(). They define the custom sorting criteria.\n",
    "students = [(\"Alice\", 25), (\"Bob\", 30), (\"Charlie\", 22)]\n",
    "students.sort(key=lambda x: x[1])  # Sort by age\n"
   ]
  },
  {
   "cell_type": "code",
   "execution_count": 258,
   "id": "3dfbadca-cc41-4919-a297-60e9b1f7eb26",
   "metadata": {},
   "outputs": [],
   "source": [
    "#Filtering: Lambda functions can be used with functions like filter() to filter elements based on a condition.\n",
    "numbers = [1, 2, 3, 4, 5, 6, 7]\n",
    "even_numbers = list(filter(lambda x: x % 2 == 0, numbers))\n"
   ]
  },
  {
   "cell_type": "code",
   "execution_count": 259,
   "id": "2d056af9-1646-48b8-bdc2-c917b00d5a82",
   "metadata": {},
   "outputs": [],
   "source": [
    "#Short Functions: When you need a small function for a short and specific purpose, defining a lambda function can be more concise than creating a full def function.\n",
    "double = lambda x: x * 2\n",
    "result = double(5)  # Returns 10\n"
   ]
  },
  {
   "cell_type": "markdown",
   "id": "aeae5696-7fff-42c9-b255-8e105099b54e",
   "metadata": {},
   "source": [
    "q.2"
   ]
  },
  {
   "cell_type": "code",
   "execution_count": 260,
   "id": "b2dd62ee-920a-48e1-8e7a-31a241e17ec4",
   "metadata": {},
   "outputs": [],
   "source": [
    "#You can use a lambda function as the key argument in the sorted() function to sort a list of tuples based on the second element (index 1). Here's an example"
   ]
  },
  {
   "cell_type": "code",
   "execution_count": 261,
   "id": "2f7f9083-27ce-476d-af45-b317f7fd68a7",
   "metadata": {},
   "outputs": [
    {
     "name": "stdout",
     "output_type": "stream",
     "text": [
      "('Charlie', 22)\n",
      "('Alice', 25)\n",
      "('David', 28)\n",
      "('Bob', 30)\n"
     ]
    }
   ],
   "source": [
    "# List of tuples\n",
    "students = [(\"Alice\", 25), (\"Bob\", 30), (\"Charlie\", 22), (\"David\", 28)]\n",
    "\n",
    "# Sort the list based on the second element (age)\n",
    "sorted_students = sorted(students, key=lambda x: x[1])\n",
    "\n",
    "# Print the sorted list\n",
    "for student in sorted_students:\n",
    "    print(student)\n"
   ]
  },
  {
   "cell_type": "markdown",
   "id": "ff37ddb6-5da6-462d-b43b-ed7af43548ad",
   "metadata": {},
   "source": [
    "q.3"
   ]
  },
  {
   "cell_type": "code",
   "execution_count": 262,
   "id": "92af9682-8c1b-4e07-be5b-2dabb26dae84",
   "metadata": {},
   "outputs": [],
   "source": [
    "#In Python, a higher-order function is a function that can take one or more functions as arguments, return a function as its result, or both. This concept is closely related to the idea of functions being \"first-class citizens\" in Python, which means functions are treated as objects that can be assigned to variables, passed as arguments, and returned from other functions. Higher-order functions are a powerful feature of functional programming and can lead to more concise and flexible code.\n",
    "\n",
    "#Here are the key aspects of higher-order functions:\n",
    "\n",
    "#Passing Functions as Arguments: Higher-order functions can accept other functions as arguments. This allows you to customize the behavior of a function by providing different functions as inputs.\n",
    "\n",
    "#Returning Functions: Higher-order functions can return functions as their results. This enables the creation of new functions with specific behaviors based on the input parameters.\n",
    "\n",
    "#Function Composition: You can combine multiple functions to create more complex functions by chaining them together.\n",
    "\n",
    "#Functional Programming: Higher-order functions are a fundamental concept in functional programming, which promotes immutability, pure functions, and the use of higher-order functions for abstraction and modularity.\n",
    "\n",
    "#Here's an example of a higher-order function in Python"
   ]
  },
  {
   "cell_type": "code",
   "execution_count": 263,
   "id": "ada790c4-6d72-4977-90d8-87eba5eb8913",
   "metadata": {},
   "outputs": [
    {
     "name": "stdout",
     "output_type": "stream",
     "text": [
      "[1, 4, 9, 16, 25]\n",
      "[2, 4, 6, 8, 10]\n"
     ]
    }
   ],
   "source": [
    "# Higher-order function that applies a given function to each element of a list\n",
    "def apply_function_to_list(func, input_list):\n",
    "    result = []\n",
    "    for item in input_list:\n",
    "        result.append(func(item))\n",
    "    return result\n",
    "\n",
    "# Example usage:\n",
    "def square(x):\n",
    "    return x ** 2\n",
    "\n",
    "def double(x):\n",
    "    return x * 2\n",
    "\n",
    "numbers = [1, 2, 3, 4, 5]\n",
    "\n",
    "# Use the higher-order function to apply the 'square' function to the list\n",
    "squared_numbers = apply_function_to_list(square, numbers)\n",
    "print(squared_numbers)  # Outputs: [1, 4, 9, 16, 25]\n",
    "\n",
    "# Use the higher-order function to apply the 'double' function to the list\n",
    "doubled_numbers = apply_function_to_list(double, numbers)\n",
    "print(doubled_numbers)  # Outputs: [2, 4, 6, 8, 10]\n"
   ]
  },
  {
   "cell_type": "markdown",
   "id": "49ed29b2-30c5-4e86-9ac1-9683200439ed",
   "metadata": {},
   "source": [
    "q.4"
   ]
  },
  {
   "cell_type": "code",
   "execution_count": 264,
   "id": "da7be4fb-8051-40ff-adab-4080c188ba2d",
   "metadata": {},
   "outputs": [],
   "source": [
    "#You can create a Python function that takes a list of numbers and a function as arguments and applies the given function to each element in the list. Here's an example:"
   ]
  },
  {
   "cell_type": "code",
   "execution_count": 265,
   "id": "aa29476d-dc6d-441d-8014-98b2a2084c60",
   "metadata": {},
   "outputs": [
    {
     "name": "stdout",
     "output_type": "stream",
     "text": [
      "[1, 4, 9, 16, 25]\n",
      "[2, 4, 6, 8, 10]\n"
     ]
    }
   ],
   "source": [
    "def apply_function_to_list(input_list, func):\n",
    "    \"\"\"\n",
    "    Apply a given function to each element in the list.\n",
    "    \n",
    "    Args:\n",
    "        input_list (list): List of numbers.\n",
    "        func (function): The function to apply to each element.\n",
    "    \n",
    "    Returns:\n",
    "        list: List of results after applying the function to each element.\n",
    "    \"\"\"\n",
    "    result = []\n",
    "    for item in input_list:\n",
    "        result.append(func(item))\n",
    "    return result\n",
    "\n",
    "# Example usage:\n",
    "def square(x):\n",
    "    return x ** 2\n",
    "\n",
    "def double(x):\n",
    "    return x * 2\n",
    "\n",
    "numbers = [1, 2, 3, 4, 5]\n",
    "\n",
    "# Apply the 'square' function to the list\n",
    "squared_numbers = apply_function_to_list(numbers, square)\n",
    "print(squared_numbers)  # Outputs: [1, 4, 9, 16, 25]\n",
    "\n",
    "# Apply the 'double' function to the list\n",
    "doubled_numbers = apply_function_to_list(numbers, double)\n",
    "print(doubled_numbers)  # Outputs: [2, 4, 6, 8, 10]\n"
   ]
  },
  {
   "cell_type": "code",
   "execution_count": 266,
   "id": "e6065450-6d3e-4b86-91c2-d2e6be612f78",
   "metadata": {},
   "outputs": [],
   "source": [
    "#built-in functions:"
   ]
  },
  {
   "cell_type": "markdown",
   "id": "09e281db-a50e-4682-9bd6-0cd9588e01a8",
   "metadata": {},
   "source": [
    "q.1"
   ]
  },
  {
   "cell_type": "code",
   "execution_count": 267,
   "id": "6d18d314-66b2-4007-badc-f6f06409dde8",
   "metadata": {},
   "outputs": [],
   "source": [
    "#Built-in functions like len(), max(), and min() in Python are utility functions provided by the Python language to perform common operations on data structures and values. They play a crucial role in simplifying code and making it more efficient. Here's an overview of the role and usage of these functions:\n",
    "\n",
    "#len() Function:\n",
    "\n",
    "#Role: The len() function is used to determine the length or the number of elements in a data structure, such as a string, list, tuple, dictionary, or set.\n",
    "#Usage: len(iterable) where iterable is the data structure for which you want to find the length."
   ]
  },
  {
   "cell_type": "code",
   "execution_count": 268,
   "id": "b3819f21-9d8d-404a-a4b1-46b95cbbd25d",
   "metadata": {},
   "outputs": [],
   "source": [
    "text = \"Hello, World!\"\n",
    "length = len(text)  # Returns 13\n"
   ]
  },
  {
   "cell_type": "code",
   "execution_count": 269,
   "id": "5303c95a-a0aa-40ca-9fe8-932ca2abf181",
   "metadata": {},
   "outputs": [],
   "source": [
    "#max() Function:\n",
    "\n",
    "#Role: The max() function is used to find the maximum value among a set of values or elements.\n",
    "#Usage: max(iterable, default=None, key=None) where:\n",
    "#iterable is the collection of values.\n",
    "#default (optional) is the value to return if the iterable is empty.\n",
    "#key (optional) is a function that customizes the comparison."
   ]
  },
  {
   "cell_type": "code",
   "execution_count": 270,
   "id": "e70187d1-9b4c-4e5c-8cec-6020d12d379a",
   "metadata": {},
   "outputs": [],
   "source": [
    "numbers = [3, 1, 4, 1, 5, 9, 2, 6, 5, 3, 5]\n",
    "max_value = max(numbers)  # Returns 9\n"
   ]
  },
  {
   "cell_type": "code",
   "execution_count": 271,
   "id": "4420ac12-6f96-4728-ae0f-4702f86ecc73",
   "metadata": {},
   "outputs": [],
   "source": [
    "#min() Function:\n",
    "\n",
    "#Role: The min() function is used to find the minimum value among a set of values or elements.\n",
    "#Usage: min(iterable, default=None, key=None) where:\n",
    "#iterable is the collection of values.\n",
    "#default (optional) is the value to return if the iterable is empty.\n",
    "#key (optional) is a function that customizes the comparison."
   ]
  },
  {
   "cell_type": "code",
   "execution_count": 272,
   "id": "d8877d62-a2e0-4fc9-a3d3-57f73ca1d285",
   "metadata": {},
   "outputs": [],
   "source": [
    "numbers = [3, 1, 4, 1, 5, 9, 2, 6, 5, 3, 5]\n",
    "min_value = min(numbers)  # Returns 1\n"
   ]
  },
  {
   "cell_type": "markdown",
   "id": "eb136fec-c554-441e-bd3c-9b6d3d6b0384",
   "metadata": {},
   "source": [
    "q.2"
   ]
  },
  {
   "cell_type": "code",
   "execution_count": 273,
   "id": "e3bb35a5-839c-4f67-b5f1-64d6fe48b5cc",
   "metadata": {},
   "outputs": [],
   "source": [
    "\n",
    "#You can use the map() function to apply a function to each element of a list in Python. Here's an example:"
   ]
  },
  {
   "cell_type": "code",
   "execution_count": 274,
   "id": "5af67b56-4e6b-4cb9-ba2c-2a287a625c64",
   "metadata": {},
   "outputs": [
    {
     "name": "stdout",
     "output_type": "stream",
     "text": [
      "[1, 4, 9, 16, 25]\n"
     ]
    }
   ],
   "source": [
    "# Define a function to square a number\n",
    "def square(x):\n",
    "    return x ** 2\n",
    "\n",
    "# List of numbers\n",
    "numbers = [1, 2, 3, 4, 5]\n",
    "\n",
    "# Use the map() function to apply the 'square' function to each element in 'numbers'\n",
    "squared_numbers = list(map(square, numbers))\n",
    "\n",
    "# Convert the result to a list and print it\n",
    "print(squared_numbers)  # Outputs: [1, 4, 9, 16, 25]\n"
   ]
  },
  {
   "cell_type": "markdown",
   "id": "8a233480-4f5e-4064-b471-ce96fac5dec8",
   "metadata": {},
   "source": [
    "q.3"
   ]
  },
  {
   "cell_type": "code",
   "execution_count": 275,
   "id": "3e439216-f49d-4a54-a80c-9e85f099f174",
   "metadata": {},
   "outputs": [],
   "source": [
    "#The filter() function in Python is used to filter elements from an iterable (e.g., a list) based on a given condition or function. It creates a new iterable containing only the elements that satisfy the specified condition. The filter() function takes two arguments: the filtering function or condition and the iterable to be filtered.\n",
    "\n",
    "#Here's the general syntax of the filter() function:"
   ]
  },
  {
   "cell_type": "code",
   "execution_count": 276,
   "id": "9dcf8574-bddb-4113-bd57-a7be7ade9d98",
   "metadata": {},
   "outputs": [
    {
     "ename": "NameError",
     "evalue": "name 'function' is not defined",
     "output_type": "error",
     "traceback": [
      "\u001b[0;31m---------------------------------------------------------------------------\u001b[0m",
      "\u001b[0;31mNameError\u001b[0m                                 Traceback (most recent call last)",
      "Cell \u001b[0;32mIn[276], line 1\u001b[0m\n\u001b[0;32m----> 1\u001b[0m \u001b[38;5;28mfilter\u001b[39m(\u001b[43mfunction\u001b[49m, iterable)\n",
      "\u001b[0;31mNameError\u001b[0m: name 'function' is not defined"
     ]
    }
   ],
   "source": [
    "filter(function, iterable)\n"
   ]
  },
  {
   "cell_type": "code",
   "execution_count": 277,
   "id": "1a50f4bb-1f3d-4cd5-a856-3b76b01b6f63",
   "metadata": {},
   "outputs": [],
   "source": [
    "#function: A function or a condition that returns True or False for each element in the iterable. Elements for which the function returns True are included in the filtered output.\n",
    "\n",
    "#iterable: The iterable (e.g., list, tuple) from which elements are to be filtered.\n",
    "\n",
    "#The filter() function returns a filter object, which is an iterator. To obtain the filtered results as a list or another iterable, you can convert it using list() or another iterable constructor.\n",
    "\n",
    "#Here's an example of how the filter() function works:"
   ]
  },
  {
   "cell_type": "code",
   "execution_count": 278,
   "id": "af323d38-9fca-44bc-a227-48677af62b5b",
   "metadata": {},
   "outputs": [
    {
     "name": "stdout",
     "output_type": "stream",
     "text": [
      "[2, 4, 6, 8, 10]\n"
     ]
    }
   ],
   "source": [
    "# Define a filtering function to check if a number is even\n",
    "def is_even(x):\n",
    "    return x % 2 == 0\n",
    "\n",
    "# List of numbers\n",
    "numbers = [1, 2, 3, 4, 5, 6, 7, 8, 9, 10]\n",
    "\n",
    "# Use the filter() function to filter even numbers from 'numbers'\n",
    "even_numbers = list(filter(is_even, numbers))\n",
    "\n",
    "# Print the filtered result\n",
    "print(even_numbers)  # Outputs: [2, 4, 6, 8, 10]\n"
   ]
  },
  {
   "cell_type": "markdown",
   "id": "b13dc2a0-8a77-4516-ac96-e8e92cfaacc6",
   "metadata": {},
   "source": [
    "q.4"
   ]
  },
  {
   "cell_type": "code",
   "execution_count": 279,
   "id": "a66eaa09-96a6-43ca-9c49-25d025724167",
   "metadata": {},
   "outputs": [],
   "source": [
    "\n",
    "#You can use the reduce() function from the functools module to find the product of all elements in a list. Here's a Python program that demonstrates this:\n",
    "\n"
   ]
  },
  {
   "cell_type": "code",
   "execution_count": 280,
   "id": "5a4b19a7-1ee4-49d7-9374-025ae62c5ec5",
   "metadata": {},
   "outputs": [
    {
     "name": "stdout",
     "output_type": "stream",
     "text": [
      "The product of all elements is: 120\n"
     ]
    }
   ],
   "source": [
    "from functools import reduce\n",
    "\n",
    "# Define a function to calculate the product of two numbers\n",
    "def multiply(x, y):\n",
    "    return x * y\n",
    "\n",
    "# List of numbers\n",
    "numbers = [1, 2, 3, 4, 5]\n",
    "\n",
    "# Use the reduce() function to find the product of all elements in 'numbers'\n",
    "product = reduce(multiply, numbers)\n",
    "\n",
    "# Print the result\n",
    "print(f\"The product of all elements is: {product}\")  # Outputs: 120\n"
   ]
  },
  {
   "cell_type": "code",
   "execution_count": 281,
   "id": "7563da9d-5fdc-4b8b-98c2-bf84062c8c63",
   "metadata": {},
   "outputs": [],
   "source": [
    "# function documentation and best practices:"
   ]
  },
  {
   "cell_type": "markdown",
   "id": "2638f89f-ee04-44ca-b02f-38753bd0d794",
   "metadata": {},
   "source": [
    "q.1"
   ]
  },
  {
   "cell_type": "code",
   "execution_count": 282,
   "id": "11d3e8fd-cefa-4efb-8e8c-a0fb353c4048",
   "metadata": {},
   "outputs": [],
   "source": [
    "#Docstrings (documentation strings) in Python are used to provide documentation and comments within functions, modules, classes, or methods. They serve as a way to describe the purpose and usage of code to make it more understandable for developers and users. Docstrings are particularly useful when writing reusable code, as they help others (and yourself) understand how to use and interact with your code.\n",
    "\n",
    "#Here's how you can write docstrings and their purpose:\n",
    "\n",
    "#Purpose of Docstrings:\n",
    "\n",
    "#Documentation: Docstrings are used to document what a function, module, class, or method does. They explain its purpose, expected input, output, and any important details about its behavior.\n",
    "\n",
    "#Readability: Docstrings improve code readability by providing context and explanations of how to use the code effectively.\n",
    "\n",
    "#Autogeneration: Some documentation tools and IDEs can automatically generate documentation from docstrings, making it easier to create official documentation for your code."
   ]
  },
  {
   "cell_type": "code",
   "execution_count": 283,
   "id": "7b339e0a-77f9-49f4-8009-cee55d0dcd3a",
   "metadata": {},
   "outputs": [],
   "source": [
    "#Writing Docstrings:\n",
    "\n",
    "#Function Docstring:\n",
    "def my_function(arg1, arg2):\n",
    "    \"\"\"\n",
    "    This is a docstring for my_function.\n",
    "\n",
    "    Args:\n",
    "        arg1 (int): Description of arg1.\n",
    "        arg2 (str): Description of arg2.\n",
    "\n",
    "    Returns:\n",
    "        float: Description of the return value.\n",
    "    \"\"\"\n",
    "    # Function code here\n"
   ]
  },
  {
   "cell_type": "code",
   "execution_count": 284,
   "id": "ecb52c1a-e057-4d04-af4c-aeebc14ed685",
   "metadata": {},
   "outputs": [
    {
     "data": {
      "text/plain": [
       "\"\\nThis is a docstring for the entire module.\\n\\nIt can provide an overview of the module's purpose and usage.\\n\""
      ]
     },
     "execution_count": 284,
     "metadata": {},
     "output_type": "execute_result"
    }
   ],
   "source": [
    "#Module Docstring:\n",
    "\"\"\"\n",
    "This is a docstring for the entire module.\n",
    "\n",
    "It can provide an overview of the module's purpose and usage.\n",
    "\"\"\"\n",
    "# Module code here\n"
   ]
  },
  {
   "cell_type": "code",
   "execution_count": 285,
   "id": "f135e61f-0748-4f71-90d3-88dfcaa343b6",
   "metadata": {},
   "outputs": [],
   "source": [
    "#Class Docstring:\n",
    "class MyClass:\n",
    "    \"\"\"\n",
    "    This is a docstring for MyClass.\n",
    "\n",
    "    Args:\n",
    "        param1 (int): Description of param1.\n",
    "        param2 (str): Description of param2.\n",
    "    \"\"\"\n",
    "    # Class code here\n"
   ]
  },
  {
   "cell_type": "code",
   "execution_count": 286,
   "id": "2044b5c0-77a1-4b85-b9c2-9c8f7cfa66d7",
   "metadata": {},
   "outputs": [],
   "source": [
    "#Method Docstring:\n",
    "class MyClass:\n",
    "    def my_method(self, arg1):\n",
    "        \"\"\"\n",
    "        This is a docstring for my_method.\n",
    "\n",
    "        Args:\n",
    "            arg1 (int): Description of arg1.\n",
    "        \"\"\"\n",
    "        # Method code here\n"
   ]
  },
  {
   "cell_type": "code",
   "execution_count": 287,
   "id": "170d353d-8edd-4f4d-b434-c3ada2c2d263",
   "metadata": {},
   "outputs": [],
   "source": [
    "#Docstring Conventions:\n",
    "\n",
    "#There are several conventions for docstrings in Python, including the Google-style, Numpy-style, and reStructuredText-style docstrings. Choose a style that suits your project and maintain consistency.\n",
    "#Accessing Docstrings:\n",
    "\n",
    "#You can access a function, module, or class docstring using the help() function or by accessing the __doc__ attribute"
   ]
  },
  {
   "cell_type": "code",
   "execution_count": 288,
   "id": "c1a5cf98-c817-4dff-910a-cc92cd8dc5a0",
   "metadata": {},
   "outputs": [
    {
     "name": "stdout",
     "output_type": "stream",
     "text": [
      "Help on function my_function in module __main__:\n",
      "\n",
      "my_function(arg1, arg2)\n",
      "    This is a docstring for my_function.\n",
      "    \n",
      "    Args:\n",
      "        arg1 (int): Description of arg1.\n",
      "        arg2 (str): Description of arg2.\n",
      "    \n",
      "    Returns:\n",
      "        float: Description of the return value.\n",
      "\n",
      "\n",
      "    This is a docstring for my_function.\n",
      "\n",
      "    Args:\n",
      "        arg1 (int): Description of arg1.\n",
      "        arg2 (str): Description of arg2.\n",
      "\n",
      "    Returns:\n",
      "        float: Description of the return value.\n",
      "    \n"
     ]
    }
   ],
   "source": [
    "help(my_function)  # Displays the docstring in the console\n",
    "print(my_function.__doc__)  # Prints the docstring\n"
   ]
  },
  {
   "cell_type": "markdown",
   "id": "e86b6be8-c4fd-4160-bdb0-79f83ae7c5ae",
   "metadata": {},
   "source": [
    "q.2"
   ]
  },
  {
   "cell_type": "code",
   "execution_count": 289,
   "id": "ed1d1fa6-146f-4647-8042-583cbde2d1b4",
   "metadata": {},
   "outputs": [],
   "source": [
    "#Naming functions and variables in Python is important for code readability and maintainability. Following naming conventions and best practices helps make your code more understandable and consistent. Here are some best practices and guidelines for naming functions and variables in Python:\n",
    "\n",
    "#Use Descriptive Names:\n",
    "\n",
    "#Choose names that describe the purpose or functionality of the function or variable. A well-chosen name should make it clear what the function does or what the variable represents.\n",
    "#Follow Naming Conventions:\n",
    "\n",
    "#Python has PEP 8, a style guide for Python code, which provides naming conventions. It is widely followed in the Python community. Key conventions include:\n",
    "#Function and variable names should be lowercase with words separated by underscores (snake_case). For example, calculate_area, user_input.\n",
    "#Constants should be in uppercase with words separated by underscores (CAPITALIZED_WITH_UNDERSCORES). For example, PI, MAX_VALUE.\n",
    "#Use Verbs for Function Names:\n",
    "\n",
    "#Function names should typically begin with a verb that describes the action performed by the function. For example, calculate_area, parse_input.\n",
    "#Use Nouns for Variable Names:\n",
    "\n",
    "#Variable names should generally be nouns or noun phrases that describe the data they hold. For example, user_name, result.\n",
    "#Avoid Single-Letter Names:\n",
    "\n",
    "#Except for well-known single-letter variable names like i, j, and k in loop iterations, avoid using single-letter variable or function names. Make names meaningful and descriptive.\n",
    "#Be Consistent:\n",
    "\n",
    "#Maintain consistency in naming within your codebase. If you use a particular naming convention or pattern, stick to it throughout your code.\n",
    "#Use Clear and Meaningful Variable Names:\n",
    "\n",
    "#Avoid using overly short or cryptic variable names. Longer, descriptive names are often better than short abbreviations.\n",
    "#Avoid Reserved Words:\n",
    "\n",
    "#Do not use Python's reserved words (keywords) as variable or function names. For example, do not use if, while, for, or True as variable names.\n",
    "#Use CamelCase for Class Names:\n",
    "\n",
    "#Class names should use CamelCase (also known as CapWords) where each word is capitalized and there are no underscores. For example, MyClass, RectangleShape.\n",
    "#Use Leading Underscores for Private Names:\n",
    "\n",
    "#If you want to indicate that a function or variable is intended for internal use within a module or class and not part of the public API, prefix the name with a single underscore (e.g., _private_variable).\n",
    "#Avoid Shadowing Built-in Names:\n",
    "\n",
    "#Avoid using names that might shadow built-in functions or types, such as naming a variable list or str.\n",
    "#Document Uncommon Abbreviations:\n",
    "\n",
    "#If you must use an abbreviation that is not widely understood, consider adding a comment or docstring explaining its meaning.\n",
    "#Consider the Context:\n",
    "\n",
    "#When naming variables or functions, consider the context in which they are used. Meaningful names in a specific context can enhance code comprehension.\n",
    "#Review and Refactor:\n",
    "\n",
    "#Regularly review your code for naming consistency and clarity. Refactor when necessary to improve naming.\n",
    "#By following these best practices and naming conventions, your code will be more readable and maintainable, making it easier for you and others to understand and work with the codebase.\n",
    "\n",
    "\n",
    "\n",
    "\n"
   ]
  },
  {
   "cell_type": "code",
   "execution_count": null,
   "id": "749c35f2-97df-470a-a599-71b6d93c897d",
   "metadata": {},
   "outputs": [],
   "source": []
  }
 ],
 "metadata": {
  "kernelspec": {
   "display_name": "Python 3 (ipykernel)",
   "language": "python",
   "name": "python3"
  },
  "language_info": {
   "codemirror_mode": {
    "name": "ipython",
    "version": 3
   },
   "file_extension": ".py",
   "mimetype": "text/x-python",
   "name": "python",
   "nbconvert_exporter": "python",
   "pygments_lexer": "ipython3",
   "version": "3.10.8"
  }
 },
 "nbformat": 4,
 "nbformat_minor": 5
}
